{
 "cells": [
  {
   "cell_type": "markdown",
   "metadata": {},
   "source": [
    "![data-x](http://oi64.tinypic.com/o858n4.jpg)\n",
    "\n",
    "\n",
    "\n",
    "\n"
   ]
  },
  {
   "cell_type": "markdown",
   "metadata": {},
   "source": [
    "# Homework 03\n"
   ]
  },
  {
   "cell_type": "markdown",
   "metadata": {},
   "source": [
    "## NAME: "
   ]
  },
  {
   "cell_type": "markdown",
   "metadata": {},
   "source": [
    "\n",
    "## STUDENT ID: "
   ]
  },
  {
   "cell_type": "markdown",
   "metadata": {},
   "source": [
    "\n",
    "\n",
    "## Numpy Introduction\n",
    "\n",
    "\n",
    "__1a) Create two numpy arrays (a and b). a should be all integers between 25-34 (inclusive), and b should be ten evenly spaced numbers between 1-6. Print all the results below:__ \n",
    "\n",
    "\n",
    "i) Cube (i.e. raise to the power of 3) all the elements in both arrays (element-wise)  \n",
    "ii)  Add both the cubed arrays (e.g., [1,2] + [3,4] = [4,6])  \n",
    "iii)  Sum the elements with even indices of the added array.  \n",
    "iv)  Take the square root of the added array (element-wise square root)__\n"
   ]
  },
  {
   "cell_type": "code",
   "execution_count": 1,
   "metadata": {},
   "outputs": [
    {
     "name": "stdout",
     "output_type": "stream",
     "text": [
      "[15625 17576 19683 21952 24389 27000 29791 32768 35937 39304]\n",
      "[   1.            3.76406036    9.40877915   18.96296296   33.45541838\n",
      "   53.91495199   81.37037037  116.85048011  161.38408779  216.        ]\n",
      "[ 15626.          17579.76406036  19692.40877915  21970.96296296\n",
      "  24422.45541838  27053.91495199  29872.37037037  32884.85048011\n",
      "  36098.38408779  39520.        ]\n",
      "125711.618656\n",
      "[ 125.00399994  132.58870261  140.32964327  148.22605359  156.27685503\n",
      "  164.48074341  172.83625306  181.34180566  189.99574755  198.79637824]\n"
     ]
    }
   ],
   "source": [
    "import numpy as np\n",
    "a = np.arange(25,35)\n",
    "b = np.linspace(1,6,10)\n",
    "print(a**3)\n",
    "print(b**3)\n",
    "print(a**3+b**3)\n",
    "print(sum([(a**3+b**3)[i] for i in range(10) if i%2==0]))\n",
    "print(np.sqrt(a**3+b**3))"
   ]
  },
  {
   "cell_type": "markdown",
   "metadata": {},
   "source": [
    "__1b) Append b to a, reshape the appended array so that it is a 4x5, 2d array and store the results in a variable called m. Print m.__\n"
   ]
  },
  {
   "cell_type": "code",
   "execution_count": 2,
   "metadata": {},
   "outputs": [
    {
     "name": "stdout",
     "output_type": "stream",
     "text": [
      "[[ 25.          26.          27.          28.          29.        ]\n",
      " [ 30.          31.          32.          33.          34.        ]\n",
      " [  1.           1.55555556   2.11111111   2.66666667   3.22222222]\n",
      " [  3.77777778   4.33333333   4.88888889   5.44444444   6.        ]]\n"
     ]
    }
   ],
   "source": [
    "m = np.concatenate([a, b]).reshape(4,5)\n",
    "print(m)"
   ]
  },
  {
   "cell_type": "markdown",
   "metadata": {},
   "source": [
    "__1c) Extract the third and the fourth column of the m matrix. Store the resulting 4x2 matrix in a new variable called m2. Print m2.__\n"
   ]
  },
  {
   "cell_type": "code",
   "execution_count": 3,
   "metadata": {},
   "outputs": [
    {
     "name": "stdout",
     "output_type": "stream",
     "text": [
      "[[ 27.          28.        ]\n",
      " [ 32.          33.        ]\n",
      " [  2.11111111   2.66666667]\n",
      " [  4.88888889   5.44444444]]\n"
     ]
    }
   ],
   "source": [
    "m2 = m[:,2:4]\n",
    "print(m2)"
   ]
  },
  {
   "cell_type": "markdown",
   "metadata": {},
   "source": [
    "__1d) Take the dot product of m2 and m store the results in a matrix called m3. Print m3.\n",
    "Note that Dot product of two matrices A.B =A<sup>T</sup>B__"
   ]
  },
  {
   "cell_type": "code",
   "execution_count": 4,
   "metadata": {},
   "outputs": [
    {
     "name": "stdout",
     "output_type": "stream",
     "text": [
      "[[ 1655.58024691  1718.4691358   1781.35802469  1844.24691358\n",
      "   1907.13580247]\n",
      " [ 1713.2345679   1778.74074074  1844.24691358  1909.75308642\n",
      "   1975.25925926]]\n"
     ]
    }
   ],
   "source": [
    "m3 = np.dot(m2.T,m)\n",
    "print(m3)"
   ]
  },
  {
   "cell_type": "markdown",
   "metadata": {},
   "source": [
    "__1e) Round the m3 matrix to three decimal points. Store the result in place and print the new m3.__\n"
   ]
  },
  {
   "cell_type": "code",
   "execution_count": 5,
   "metadata": {},
   "outputs": [
    {
     "name": "stdout",
     "output_type": "stream",
     "text": [
      "[[ 1655.58   1718.469  1781.358  1844.247  1907.136]\n",
      " [ 1713.235  1778.741  1844.247  1909.753  1975.259]]\n"
     ]
    }
   ],
   "source": [
    "m3 = np.round(m3,decimals=3)\n",
    "print(m3)"
   ]
  },
  {
   "cell_type": "markdown",
   "metadata": {},
   "source": [
    "__1f) Sort the m3 array so that the highest value is at the bottom right and the lowest value is at the top left. Print the sorted m3 array.__\n"
   ]
  },
  {
   "cell_type": "code",
   "execution_count": 6,
   "metadata": {},
   "outputs": [
    {
     "name": "stdout",
     "output_type": "stream",
     "text": [
      "[[ 1655.58   1713.235  1718.469  1778.741  1781.358]\n",
      " [ 1844.247  1844.247  1907.136  1909.753  1975.259]]\n"
     ]
    }
   ],
   "source": [
    "print(np.sort(m3,axis=None).reshape(2,5))"
   ]
  },
  {
   "cell_type": "markdown",
   "metadata": {},
   "source": [
    "## NumPy and Masks\n",
    "__2a) create an array called 'f' where the values are cosine(x) for x from 0 to pi with 50 equally spaced values in f__\n",
    "* print f\n",
    "* use a 'mask' and print an array that is True when f >= 1/2 and False when f < 1/2\n",
    "* create and print an array sequence that has only those values where f>= 1/2\n",
    "\n"
   ]
  },
  {
   "cell_type": "code",
   "execution_count": 7,
   "metadata": {},
   "outputs": [
    {
     "name": "stdout",
     "output_type": "stream",
     "text": [
      "[ 1.          0.99794539  0.99179001  0.98155916  0.96729486  0.94905575\n",
      "  0.92691676  0.90096887  0.8713187   0.8380881   0.80141362  0.76144596\n",
      "  0.71834935  0.67230089  0.6234898   0.57211666  0.51839257  0.46253829\n",
      "  0.40478334  0.34536505  0.28452759  0.22252093  0.1595999   0.09602303\n",
      "  0.03205158 -0.03205158 -0.09602303 -0.1595999  -0.22252093 -0.28452759\n",
      " -0.34536505 -0.40478334 -0.46253829 -0.51839257 -0.57211666 -0.6234898\n",
      " -0.67230089 -0.71834935 -0.76144596 -0.80141362 -0.8380881  -0.8713187\n",
      " -0.90096887 -0.92691676 -0.94905575 -0.96729486 -0.98155916 -0.99179001\n",
      " -0.99794539 -1.        ]\n",
      "[ True  True  True  True  True  True  True  True  True  True  True  True\n",
      "  True  True  True  True  True False False False False False False False\n",
      " False False False False False False False False False False False False\n",
      " False False False False False False False False False False False False\n",
      " False False]\n",
      "[ 1.          0.99794539  0.99179001  0.98155916  0.96729486  0.94905575\n",
      "  0.92691676  0.90096887  0.8713187   0.8380881   0.80141362  0.76144596\n",
      "  0.71834935  0.67230089  0.6234898   0.57211666  0.51839257]\n"
     ]
    }
   ],
   "source": [
    "f = np.cos(np.linspace(0,np.pi,50))\n",
    "print(f)\n",
    "mask = f>=1/2\n",
    "print(mask)\n",
    "print(f[mask])"
   ]
  },
  {
   "cell_type": "markdown",
   "metadata": {
    "collapsed": true
   },
   "source": [
    "## NumPy and 2 Variable Prediction"
   ]
  },
  {
   "cell_type": "markdown",
   "metadata": {},
   "source": [
    "__ Let 'x' be the number of miles a person drives per day and 'y' be the dollars spent on buying car fuel (per day).__\n",
    "  \n",
    "__We have created 2 numpy arrays each of size 100 that represent x and y.  \n",
    "x ( number of miles) ranges from 1 to 10 with a uniform noise of (0,1/2)  \n",
    "y (money spent in dollars) will be from 1 to 20 with a uniform noise (0,1)__ \n"
   ]
  },
  {
   "cell_type": "code",
   "execution_count": 8,
   "metadata": {},
   "outputs": [
    {
     "name": "stdout",
     "output_type": "stream",
     "text": [
      "x =  [  1.34683976   1.12176759   1.51512398   1.55233174   1.40619168\n",
      "   1.65075498   1.79399331   1.80243817   1.89844195   2.00100023\n",
      "   2.3344038    2.22424872   2.24914511   2.36268477   2.49808849\n",
      "   2.8212704    2.68452475   2.68229427   3.09511169   2.95703884\n",
      "   3.09047742   3.2544361    3.41541904   3.40886375   3.50672677\n",
      "   3.74960644   3.64861355   3.7721462    3.56368566   4.01092701\n",
      "   4.15630694   4.06088549   4.02517179   4.25169402   4.15897504\n",
      "   4.26835333   4.32520644   4.48563164   4.78490721   4.84614839\n",
      "   4.96698768   5.18754259   5.29582013   5.32097781   5.0674106\n",
      "   5.47601124   5.46852704   5.64537452   5.49642807   5.89755027\n",
      "   5.68548923   5.76276141   5.94613234   6.18135713   5.96522091\n",
      "   6.0275473    6.54290191   6.4991329    6.74003765   6.81809807\n",
      "   6.50611821   6.91538752   7.01250925   6.89905417   7.31314433\n",
      "   7.20472297   7.1043621    7.48199528   7.58957227   7.61744354\n",
      "   7.6991707    7.85436822   8.03510784   7.80787781   8.22410224\n",
      "   7.99366248   8.40581097   8.28913792   8.45971515   8.54227144\n",
      "   8.6906456    8.61856507   8.83489887   8.66309658   8.94837987\n",
      "   9.20890222   8.9614749    8.92608294   9.13231416   9.55889896\n",
      "   9.61488451   9.54252979   9.42015491   9.90952569  10.00659591\n",
      "  10.02504265  10.07330937   9.93489915  10.0892334   10.36509991]\n",
      "y=  [  1.6635012    2.0214592    2.10816052   2.26016496   1.96287558\n",
      "   2.9554635    3.02881887   3.33565296   2.75465779   3.4250107\n",
      "   3.39670148   3.39377767   3.78503343   4.38293049   4.32963586\n",
      "   4.03925039   4.73691868   4.30098399   4.8416329    4.78175957\n",
      "   4.99765787   5.31746817   5.76844671   5.93723749   5.72811642\n",
      "   6.70973615   6.68143367   6.57482731   7.17737603   7.54863252\n",
      "   7.30221419   7.3202573    7.78023884   7.91133365   8.2765417\n",
      "   8.69203281   8.78219865   8.45897546   8.89094715   8.81719921\n",
      "   8.87106971   9.66192562   9.4020625    9.85990783   9.60359778\n",
      "  10.07386266  10.6957995   10.66721916  11.18256285  10.57431836\n",
      "  11.46744716  10.94398916  11.26445259  12.09754828  12.11988037\n",
      "  12.121557    12.17613693  12.43750193  13.00912372  12.86407194\n",
      "  13.24640866  12.76120085  13.11723062  14.07841099  14.19821707\n",
      "  14.27289001  14.30624942  14.63060835  14.2770918   15.0744923\n",
      "  14.45261619  15.11897313  15.2378667   15.27203124  15.32491892\n",
      "  16.01095271  15.71250558  16.29488506  16.70618934  16.56555394\n",
      "  16.42379457  17.18144744  17.13813976  17.69613625  17.37763019\n",
      "  17.90942839  17.90343733  18.01951169  18.35727914  18.16841269\n",
      "  18.61813748  18.66062754  18.81217983  19.44995194  19.7213867\n",
      "  19.71966726  19.78961904  19.64385088  20.69719809  20.07974319]\n"
     ]
    }
   ],
   "source": [
    "# seed the random number generator with a fixed value\n",
    "import numpy as np\n",
    "np.random.seed(500)\n",
    "\n",
    "x=np.linspace(1,10,100)+ np.random.uniform(low=0,high=.5,size=100) \n",
    "y=np.linspace(1,20,100)+ np.random.uniform(low=0,high=1,size=100)\n",
    "print ('x = ',x)\n",
    "print ('y= ',y)"
   ]
  },
  {
   "cell_type": "markdown",
   "metadata": {},
   "source": [
    "__3a) Find Expected value of x and the expected value of y__"
   ]
  },
  {
   "cell_type": "code",
   "execution_count": 9,
   "metadata": {},
   "outputs": [
    {
     "name": "stdout",
     "output_type": "stream",
     "text": [
      "5.78253254159\n",
      "11.0129816833\n"
     ]
    }
   ],
   "source": [
    "print(np.mean(x))\n",
    "print(np.mean(y))"
   ]
  },
  {
   "cell_type": "markdown",
   "metadata": {},
   "source": [
    "__3b) Find variance of distributions of  x and  y__"
   ]
  },
  {
   "cell_type": "code",
   "execution_count": 10,
   "metadata": {},
   "outputs": [
    {
     "name": "stdout",
     "output_type": "stream",
     "text": [
      "7.03332752948\n"
     ]
    }
   ],
   "source": [
    "print(np.var(x))"
   ]
  },
  {
   "cell_type": "code",
   "execution_count": 11,
   "metadata": {},
   "outputs": [
    {
     "name": "stdout",
     "output_type": "stream",
     "text": [
      "30.1139035755\n"
     ]
    }
   ],
   "source": [
    "print(np.var(y))"
   ]
  },
  {
   "cell_type": "markdown",
   "metadata": {},
   "source": [
    "__3c) Find co-variance of x and y.__"
   ]
  },
  {
   "cell_type": "code",
   "execution_count": 12,
   "metadata": {},
   "outputs": [
    {
     "name": "stdout",
     "output_type": "stream",
     "text": [
      "14.5111663945\n"
     ]
    }
   ],
   "source": [
    "print(np.mean(x*y)-np.mean(x)*np.mean(y))"
   ]
  },
  {
   "cell_type": "markdown",
   "metadata": {},
   "source": [
    "__3d) Assuming that number of dollars spent in car fuel is only dependant on the miles driven, by  a linear relationship.  \n",
    "Write code that uses a linear predictor to calculate a predicted value of y for each x\n",
    "ie y_predicted = f(x) = y0+mx.__  "
   ]
  },
  {
   "cell_type": "code",
   "execution_count": 13,
   "metadata": {},
   "outputs": [
    {
     "name": "stdout",
     "output_type": "stream",
     "text": [
      "[-0.9175436   2.06320072]\n"
     ]
    }
   ],
   "source": [
    "X = np.column_stack([np.ones(len(x)),x])\n",
    "W = np.linalg.inv(X.T.dot(X)).dot(X.T).dot(y)\n",
    "print(W)"
   ]
  },
  {
   "cell_type": "code",
   "execution_count": 14,
   "metadata": {},
   "outputs": [
    {
     "name": "stdout",
     "output_type": "stream",
     "text": [
      "[  1.86125717   1.39688809   2.20846128   2.28522836   1.98371207\n",
      "   2.48829527   2.78382468   2.80124813   2.9993232    3.21092152   3.8988\n",
      "   3.67152796   3.7228942    3.9571493    4.23651436   4.9033035\n",
      "   4.62116978   4.61656787   5.46829307   5.18342105   5.45873164\n",
      "   5.79701128   6.12915141   6.11562653   6.31753758   6.81864709\n",
      "   6.61027849   6.86515115   6.43505522   7.35780389   7.65775187\n",
      "   7.46087825   7.38719373   7.85455455   7.66325667   7.88892606\n",
      "   8.00622544   8.33721481   8.95468038   9.08103323   9.33034895\n",
      "   9.78539799  10.00879629  10.06070164   9.53754157  10.38056671\n",
      "  10.36512531  10.72999716  10.42269073  11.25028634  10.81276185\n",
      "  10.97218988  11.35052091  11.83583685  11.38990445  11.51849632\n",
      "  12.58177632  12.49147206  12.98850691  13.14956122  12.50588416\n",
      "  13.35028889  13.5506705   13.31658991  14.17094102  13.947246\n",
      "  13.74018137  14.51931443  14.74126735  14.79877137  14.96739089\n",
      "  15.28759454  15.66049665  15.1916755   16.05043004  15.57498655\n",
      "  16.42533161  16.18461169  16.53654675  16.70687695  17.01300263\n",
      "  16.86428603  17.31062607  16.95616347  17.54476017  18.08227006\n",
      "  17.57177784  17.49875711  17.92425351  18.80438359  18.91989301\n",
      "  18.77061069  18.51812677  19.5277969   19.72807224  19.76613158\n",
      "  19.8657155   19.58014745  19.89856998  20.46773797]\n"
     ]
    }
   ],
   "source": [
    "y_predicted = np.dot(X,W)\n",
    "print(y_predicted)"
   ]
  },
  {
   "cell_type": "markdown",
   "metadata": {},
   "source": [
    "__3e) Predict y for each value in x, pur the error into an array called y_error__"
   ]
  },
  {
   "cell_type": "code",
   "execution_count": 15,
   "metadata": {},
   "outputs": [],
   "source": [
    "y_error = y_predicted - y"
   ]
  },
  {
   "cell_type": "code",
   "execution_count": 16,
   "metadata": {},
   "outputs": [
    {
     "name": "stdout",
     "output_type": "stream",
     "text": [
      "[ 0.19775597 -0.62457111  0.10030076  0.02506341  0.02083649 -0.46716823\n",
      " -0.24499418 -0.53440482  0.24466541 -0.21408918  0.50209852  0.27775029\n",
      " -0.06213923 -0.42578118 -0.0931215   0.86405311 -0.1157489   0.31558388\n",
      "  0.62666017  0.40166149  0.46107377  0.47954311  0.3607047   0.17838904\n",
      "  0.58942116  0.10891094 -0.07115518  0.29032384 -0.74232081 -0.19082863\n",
      "  0.35553767  0.14062095 -0.39304511 -0.0567791  -0.61328502 -0.80310676\n",
      " -0.77597321 -0.12176065  0.06373323  0.26383402  0.45927925  0.12347238\n",
      "  0.60673379  0.20079382 -0.0660562   0.30670405 -0.33067419  0.062778\n",
      " -0.75987212  0.67596798 -0.65468531  0.02820071  0.08606832 -0.26171143\n",
      " -0.72997592 -0.60306068  0.40563939  0.05397013 -0.02061681  0.28548928\n",
      " -0.7405245   0.58908804  0.43343988 -0.76182107 -0.02727604 -0.32564401\n",
      " -0.56606805 -0.11129392  0.46417555 -0.27572093  0.5147747   0.16862142\n",
      "  0.42262995 -0.08035574  0.72551112 -0.43596616  0.71282602 -0.11027337\n",
      " -0.16964259  0.14132301  0.58920807 -0.31716141  0.17248631 -0.73997278\n",
      "  0.16712997  0.17284167 -0.33165948 -0.52075457 -0.43302563  0.6359709\n",
      "  0.30175553  0.10998314 -0.29405306  0.07784496  0.00668554  0.04646431\n",
      "  0.07609646 -0.06370343 -0.79862812  0.38799477]\n"
     ]
    }
   ],
   "source": [
    "print(y_error)"
   ]
  },
  {
   "cell_type": "markdown",
   "metadata": {},
   "source": [
    "__3f) Write code that calculates the root mean square error(RMSE), that is root of average of y-error squared__"
   ]
  },
  {
   "cell_type": "code",
   "execution_count": 17,
   "metadata": {},
   "outputs": [],
   "source": [
    "RMSE = np.sqrt(np.mean(y_error**2))"
   ]
  },
  {
   "cell_type": "code",
   "execution_count": 18,
   "metadata": {},
   "outputs": [
    {
     "data": {
      "text/plain": [
       "0.41767772366856104"
      ]
     },
     "execution_count": 18,
     "metadata": {},
     "output_type": "execute_result"
    }
   ],
   "source": [
    "RMSE"
   ]
  }
 ],
 "metadata": {
  "anaconda-cloud": {},
  "kernelspec": {
   "display_name": "Python 3",
   "language": "python",
   "name": "python3"
  },
  "language_info": {
   "codemirror_mode": {
    "name": "ipython",
    "version": 3
   },
   "file_extension": ".py",
   "mimetype": "text/x-python",
   "name": "python",
   "nbconvert_exporter": "python",
   "pygments_lexer": "ipython3",
   "version": "3.6.5"
  }
 },
 "nbformat": 4,
 "nbformat_minor": 1
}
