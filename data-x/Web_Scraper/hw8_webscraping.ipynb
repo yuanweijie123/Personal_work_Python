{
 "cells": [
  {
   "cell_type": "markdown",
   "metadata": {},
   "source": [
    "# Data-X Fall 2018: Homework 8\n",
    "\n",
    "### Webscraping\n",
    "\n",
    "**Authors:**  Alexander Fred-Ojala \n",
    "\n",
    "\n",
    "In this homework, you will do some exercises with web-scraping."
   ]
  },
  {
   "cell_type": "markdown",
   "metadata": {},
   "source": [
    "#### STUDENT NAME : Weijie Yuan\n",
    "#### SID : 3034375855"
   ]
  },
  {
   "cell_type": "markdown",
   "metadata": {},
   "source": [
    "### Fun with Webscraping & Text manipulation\n"
   ]
  },
  {
   "cell_type": "markdown",
   "metadata": {
    "collapsed": true
   },
   "source": [
    "## 1. Statistics in Presidential Debates\n",
    "\n",
    "Your first task is to scrape Presidential Debates from the Commission of Presidential Debates website: http://www.debates.org/index.php?page=debate-transcripts.\n",
    "\n",
    "To do this, you are not allowed to manually look up the URLs that you need, instead you have to scrape them. The root url to be scraped is the one listed above, namely: http://www.debates.org/index.php?page=debate-transcripts\n",
    "\n",
    "\n",
    "1. By using `requests` and `BeautifulSoup` find all the links / URLs on the website that links to transcriptions of **First Presidential Debates** from the years [2012, 2008, 2004, 2000, 1996, 1988, 1984, 1976, 1960]. In total you should find 9 links / URLs tat fulfill this criteria. Print the urls.\n",
    "\n",
    "2. When you have a list of the URLs your task is to create a Data Frame with some statistics (see example of output below):\n",
    "    1. Scrape the title of each link and use that as the column name in your Data Frame. \n",
    "    2. Count how long the transcript of the debate is (as in the number of characters in transcription string). Feel free to include `\\` characters in your count, but remove any breakline characters, i.e. `\\n`. You will get credit if your count is +/- 10% from our result.\n",
    "    3. Count how many times the word **war** was used in the different debates. Note that you have to convert the text in a smart way (to not count the word **warranty** for example, but counting **war.**, **war!**, **war,** or **War** etc.\n",
    "    4. Also scrape the most common used word in the debate, and write how many times it was used. Note that you have to use the same strategy as in 3 in order to do this.\n",
    "    \n",
    "    Print your final output result.\n",
    "    \n",
    "**Tips:**\n",
    "\n",
    "___\n",
    "\n",
    "In order to solve the questions above, it can be useful to work with Regular Expressions and explore methods on strings like `.strip(), .replace(), .find(), .count(), .lower()` etc. Both are very powerful tools to do string processing in Python. To count common words for example I used a `Counter` object and a Regular expression pattern for only words, see example:\n",
    "\n",
    "```python\n",
    "    from collections import Counter\n",
    "    import re\n",
    "\n",
    "    counts = Counter(re.findall(r\"[\\w']+\", text.lower()))\n",
    "```\n",
    "\n",
    "Read more about Regular Expressions here: https://docs.python.org/3/howto/regex.html\n",
    "    \n",
    "    \n",
    "**Example output of all of the answers to Question 1.2:**\n",
    "\n",
    "\n",
    "![pres_stats](https://github.com/ikhlaqsidhu/data-x/raw/master/x-archive/misc/hw2_imgs_spring2018/president_stats.png)\n",
    "\n",
    "\n",
    "\n",
    "\n",
    "----\n",
    "\n",
    ".\n",
    "\n",
    "\n"
   ]
  },
  {
   "cell_type": "code",
   "execution_count": 1,
   "metadata": {},
   "outputs": [
    {
     "data": {
      "text/html": [
       "<style>.container { width:90% !important; }</style>"
      ],
      "text/plain": [
       "<IPython.core.display.HTML object>"
      ]
     },
     "metadata": {},
     "output_type": "display_data"
    }
   ],
   "source": [
    "# your code here\n",
    "from IPython.core.display import display, HTML\n",
    "display(HTML(\"<style>.container { width:90% !important; }</style>\"))\n",
    "import requests\n",
    "import bs4 as bs # BeautifulSoup4 is a Python library \n",
    "import numpy as np\n",
    "import pandas as pd"
   ]
  },
  {
   "cell_type": "code",
   "execution_count": 2,
   "metadata": {},
   "outputs": [],
   "source": [
    "source = requests.get(\"http://www.debates.org/index.php?page=debate-transcripts\")\n",
    "soup = bs.BeautifulSoup(source.content, features='html.parser')"
   ]
  },
  {
   "cell_type": "code",
   "execution_count": 3,
   "metadata": {
    "scrolled": true
   },
   "outputs": [
    {
     "data": {
      "text/plain": [
       "['http://www.debates.org/index.php?page=october-3-2012-debate-transcript',\n",
       " 'http://www.debates.org/index.php?page=2008-debate-transcript',\n",
       " 'http://www.debates.org/index.php?page=september-30-2004-debate-transcript',\n",
       " 'http://www.debates.org/index.php?page=october-3-2000-transcript',\n",
       " 'http://www.debates.org/index.php?page=october-6-1996-debate-transcript',\n",
       " 'http://www.debates.org/index.php?page=september-25-1988-debate-transcript',\n",
       " 'http://www.debates.org/index.php?page=october-7-1984-debate-transcript',\n",
       " 'http://www.debates.org/index.php?page=september-23-1976-debate-transcript',\n",
       " 'http://www.debates.org/index.php?page=september-26-1960-debate-transcript']"
      ]
     },
     "execution_count": 3,
     "metadata": {},
     "output_type": "execute_result"
    }
   ],
   "source": [
    "urls = [p.get(\"href\") for p in soup.find_all('a') \n",
    "        for year in  [2012, 2008, 2004, 2000, 1996, 1988, 1984, 1976, 1960] \n",
    " if str(year) in p.text and \"First\" in p.text]\n",
    "urls"
   ]
  },
  {
   "cell_type": "code",
   "execution_count": 4,
   "metadata": {},
   "outputs": [
    {
     "data": {
      "text/plain": [
       "['October 3, 2012: The First Obama-Romney Presidential Debate',\n",
       " 'September 26, 2008: The First McCain-Obama Presidential Debate',\n",
       " 'September 30, 2004: The First Bush-Kerry Presidential Debate',\n",
       " 'October 3, 2000: The First Gore-Bush Presidential Debate',\n",
       " 'October 6, 1996: The First Clinton-Dole Presidential Debate',\n",
       " 'September 25, 1988: The First Bush-Dukakis Presidential Debate',\n",
       " 'October 7, 1984: The First Reagan-Mondale Presidential Debate',\n",
       " 'September 23, 1976: The First Carter-Ford Presidential Debate',\n",
       " 'September 26, 1960: The First Kennedy-Nixon Presidential Debate']"
      ]
     },
     "execution_count": 4,
     "metadata": {},
     "output_type": "execute_result"
    }
   ],
   "source": [
    "#scrape titles\n",
    "import re\n",
    "title = [p.text for p in soup.find_all('a') \n",
    "         for year in  [2012, 2008, 2004, 2000, 1996, 1988, 1984, 1976, 1960] \n",
    " if str(year) in p.text and \"First\" in p.text]\n",
    "title"
   ]
  },
  {
   "cell_type": "code",
   "execution_count": 5,
   "metadata": {},
   "outputs": [],
   "source": [
    "#scrape debate char length\n",
    "#we notice that the transcription text of 2018 repeats twice\n",
    "soup_content = []\n",
    "for url in urls:\n",
    "    source_year = requests.get(url)\n",
    "    soup_content.append(bs.BeautifulSoup(source_year.content, features='html.parser'))"
   ]
  },
  {
   "cell_type": "code",
   "execution_count": 6,
   "metadata": {},
   "outputs": [
    {
     "data": {
      "text/plain": [
       "[Counter({' war, ': 1, ' war ': 2}),\n",
       " Counter({' war ': 30, ' war, ': 4, ' war.': 4, ' war. ': 6}),\n",
       " Counter({' war ': 47,\n",
       "          ' war, ': 6,\n",
       "          ' war. ': 6,\n",
       "          '-war ': 1,\n",
       "          ' war.': 2,\n",
       "          ' war? ': 1,\n",
       "          ' war,\" ': 1}),\n",
       " Counter({' war ': 9, ' war. ': 2}),\n",
       " Counter({' war ': 8, ' war, ': 4, ' war. ': 1, ' war -- ': 1}),\n",
       " Counter({' war ': 5, ' war. ': 1, ' war, ': 1, ' war-': 1}),\n",
       " Counter({' war ': 2}),\n",
       " Counter({' war, ': 2, ' war.': 2, ' war ': 3}),\n",
       " Counter({' war, ': 1, ' war. ': 1, ' war ': 1})]"
      ]
     },
     "execution_count": 6,
     "metadata": {},
     "output_type": "execute_result"
    }
   ],
   "source": [
    "from collections import Counter\n",
    "#count the debate char length\n",
    "debate_char_length = []\n",
    "war = []\n",
    "for content in soup_content:  \n",
    "    str_all = \"\"\n",
    "    for p in content.p.find_all('p'):\n",
    "        str_all += p.text\n",
    "    debate_char_length.append(len(str_all.replace(\"\\n\",\"\")))\n",
    "    # we count only singular 'war'\n",
    "    war.append(Counter(re.findall(r\"[^\\w]war[^\\w]+\", str_all.lower())))\n",
    "\n",
    "#we can see the matched \"war\" format\n",
    "war"
   ]
  },
  {
   "cell_type": "markdown",
   "metadata": {},
   "source": [
    "If one want to count both singular 'war' and the plural 'wars'. We can use the following regex to match 'war' and 'wars'."
   ]
  },
  {
   "cell_type": "code",
   "execution_count": 7,
   "metadata": {},
   "outputs": [
    {
     "data": {
      "text/plain": [
       "[Counter({' wars ': 2, ' war, ': 1, ' war ': 2}),\n",
       " Counter({' wars, ': 2,\n",
       "          ' war ': 30,\n",
       "          ' war, ': 4,\n",
       "          ' wars ': 2,\n",
       "          ' war.': 4,\n",
       "          ' war. ': 6}),\n",
       " Counter({' war ': 47,\n",
       "          ' war, ': 6,\n",
       "          ' war. ': 6,\n",
       "          '-war ': 1,\n",
       "          ' war.': 2,\n",
       "          ' war? ': 1,\n",
       "          ' war,\" ': 1}),\n",
       " Counter({' war ': 9, ' war. ': 2}),\n",
       " Counter({' war ': 8, ' war, ': 4, ' war. ': 1, ' wars ': 1, ' war -- ': 1}),\n",
       " Counter({' war ': 5,\n",
       "          ' war. ': 1,\n",
       "          ' war, ': 1,\n",
       "          ' wars. ': 2,\n",
       "          ' wars ': 1,\n",
       "          ' wars, ': 1,\n",
       "          ' war-': 1,\n",
       "          ' wars-': 2}),\n",
       " Counter({' war ': 2, ' wars ': 1}),\n",
       " Counter({' war, ': 2, ' war.': 2, ' war ': 3}),\n",
       " Counter({' war, ': 1, ' war. ': 1, ' war ': 1})]"
      ]
     },
     "execution_count": 7,
     "metadata": {},
     "output_type": "execute_result"
    }
   ],
   "source": [
    "war_b = []\n",
    "for content in soup_content:  \n",
    "    str_all = \"\"\n",
    "    for p in content.p.find_all('p'):\n",
    "        str_all += p.text\n",
    "    debate_char_length.append(len(str_all.replace(\"\\n\",\"\")))\n",
    "    # we count only singular 'war'\n",
    "    war_b.append(Counter(re.findall(r\"[^\\w]wars*[^\\w]+\", str_all.lower())))\n",
    "\n",
    "#we can see the matched \"war\" format\n",
    "war_b"
   ]
  },
  {
   "cell_type": "code",
   "execution_count": 8,
   "metadata": {},
   "outputs": [
    {
     "name": "stdout",
     "output_type": "stream",
     "text": [
      "Debate char length in each debate is [94594, 182386, 82685, 91040, 93057, 87440, 86639, 80683, 60883, 94594, 182386, 82685, 91040, 93057, 87440, 86639, 80683, 60883]\n",
      "Count times the word war was used in the different debates is [3, 44, 64, 11, 14, 8, 2, 7, 3]\n"
     ]
    }
   ],
   "source": [
    "war_count = [sum(war_debate.values()) for war_debate in war]\n",
    "print(\"Debate char length in each debate is \"+str(debate_char_length))\n",
    "print(\"Count times the word war was used in the different debates is \" + str(war_count))"
   ]
  },
  {
   "cell_type": "code",
   "execution_count": 9,
   "metadata": {},
   "outputs": [
    {
     "name": "stdout",
     "output_type": "stream",
     "text": [
      "The most common used words in the debate are respectively ['the', 'the', 'the', 'the', 'the', 'the', 'the', 'the', 'the']\n",
      "Times the most common used words were used are respectively [757, 1470, 857, 919, 876, 804, 866, 857, 779]\n"
     ]
    }
   ],
   "source": [
    "common_word = []\n",
    "common_count = []\n",
    "for content in soup_content:\n",
    "    str_all = \"\"\n",
    "    for p in content.p.find_all('p'):\n",
    "        str_all += p.text\n",
    "    count = Counter(re.findall(r\"([\\w']+)[^\\w]+\", str_all.lower()))\n",
    "    word = max(count, key=count.get)\n",
    "    common_word.append(word)\n",
    "    common_count.append(count[word])\n",
    "print(\"The most common used words in the debate are respectively \"+str(common_word))\n",
    "print(\"Times the most common used words were used are respectively \"+str(common_count))"
   ]
  },
  {
   "cell_type": "markdown",
   "metadata": {},
   "source": [
    "So, now we combine the above process together to generate the result dataframe."
   ]
  },
  {
   "cell_type": "code",
   "execution_count": 10,
   "metadata": {},
   "outputs": [
    {
     "data": {
      "text/html": [
       "<div>\n",
       "<style scoped>\n",
       "    .dataframe tbody tr th:only-of-type {\n",
       "        vertical-align: middle;\n",
       "    }\n",
       "\n",
       "    .dataframe tbody tr th {\n",
       "        vertical-align: top;\n",
       "    }\n",
       "\n",
       "    .dataframe thead th {\n",
       "        text-align: right;\n",
       "    }\n",
       "</style>\n",
       "<table border=\"1\" class=\"dataframe\">\n",
       "  <thead>\n",
       "    <tr style=\"text-align: right;\">\n",
       "      <th></th>\n",
       "      <th>October 3, 2012: The First Obama-Romney Presidential Debate</th>\n",
       "      <th>September 26, 2008: The First McCain-Obama Presidential Debate</th>\n",
       "      <th>September 30, 2004: The First Bush-Kerry Presidential Debate</th>\n",
       "      <th>October 3, 2000: The First Gore-Bush Presidential Debate</th>\n",
       "      <th>October 6, 1996: The First Clinton-Dole Presidential Debate</th>\n",
       "      <th>September 25, 1988: The First Bush-Dukakis Presidential Debate</th>\n",
       "      <th>October 7, 1984: The First Reagan-Mondale Presidential Debate</th>\n",
       "      <th>September 23, 1976: The First Carter-Ford Presidential Debate</th>\n",
       "      <th>September 26, 1960: The First Kennedy-Nixon Presidential Debate</th>\n",
       "    </tr>\n",
       "  </thead>\n",
       "  <tbody>\n",
       "    <tr>\n",
       "      <th>Debate char length</th>\n",
       "      <td>94594</td>\n",
       "      <td>182386</td>\n",
       "      <td>82685</td>\n",
       "      <td>91040</td>\n",
       "      <td>93057</td>\n",
       "      <td>87440</td>\n",
       "      <td>86639</td>\n",
       "      <td>80683</td>\n",
       "      <td>60883</td>\n",
       "    </tr>\n",
       "    <tr>\n",
       "      <th>war_length</th>\n",
       "      <td>3</td>\n",
       "      <td>44</td>\n",
       "      <td>64</td>\n",
       "      <td>11</td>\n",
       "      <td>14</td>\n",
       "      <td>8</td>\n",
       "      <td>2</td>\n",
       "      <td>7</td>\n",
       "      <td>3</td>\n",
       "    </tr>\n",
       "    <tr>\n",
       "      <th>most_common_w</th>\n",
       "      <td>the</td>\n",
       "      <td>the</td>\n",
       "      <td>the</td>\n",
       "      <td>the</td>\n",
       "      <td>the</td>\n",
       "      <td>the</td>\n",
       "      <td>the</td>\n",
       "      <td>the</td>\n",
       "      <td>the</td>\n",
       "    </tr>\n",
       "    <tr>\n",
       "      <th>most_common_w_count</th>\n",
       "      <td>757</td>\n",
       "      <td>1470</td>\n",
       "      <td>857</td>\n",
       "      <td>919</td>\n",
       "      <td>876</td>\n",
       "      <td>804</td>\n",
       "      <td>866</td>\n",
       "      <td>857</td>\n",
       "      <td>779</td>\n",
       "    </tr>\n",
       "  </tbody>\n",
       "</table>\n",
       "</div>"
      ],
      "text/plain": [
       "                    October 3, 2012: The First Obama-Romney Presidential Debate  \\\n",
       "Debate char length                                               94594            \n",
       "war_length                                                           3            \n",
       "most_common_w                                                      the            \n",
       "most_common_w_count                                                757            \n",
       "\n",
       "                    September 26, 2008: The First McCain-Obama Presidential Debate  \\\n",
       "Debate char length                                              182386               \n",
       "war_length                                                          44               \n",
       "most_common_w                                                      the               \n",
       "most_common_w_count                                               1470               \n",
       "\n",
       "                    September 30, 2004: The First Bush-Kerry Presidential Debate  \\\n",
       "Debate char length                                               82685             \n",
       "war_length                                                          64             \n",
       "most_common_w                                                      the             \n",
       "most_common_w_count                                                857             \n",
       "\n",
       "                    October 3, 2000: The First Gore-Bush Presidential Debate  \\\n",
       "Debate char length                                               91040         \n",
       "war_length                                                          11         \n",
       "most_common_w                                                      the         \n",
       "most_common_w_count                                                919         \n",
       "\n",
       "                    October 6, 1996: The First Clinton-Dole Presidential Debate  \\\n",
       "Debate char length                                               93057            \n",
       "war_length                                                          14            \n",
       "most_common_w                                                      the            \n",
       "most_common_w_count                                                876            \n",
       "\n",
       "                    September 25, 1988: The First Bush-Dukakis Presidential Debate  \\\n",
       "Debate char length                                               87440               \n",
       "war_length                                                           8               \n",
       "most_common_w                                                      the               \n",
       "most_common_w_count                                                804               \n",
       "\n",
       "                    October 7, 1984: The First Reagan-Mondale Presidential Debate  \\\n",
       "Debate char length                                               86639              \n",
       "war_length                                                           2              \n",
       "most_common_w                                                      the              \n",
       "most_common_w_count                                                866              \n",
       "\n",
       "                    September 23, 1976: The First Carter-Ford Presidential Debate  \\\n",
       "Debate char length                                               80683              \n",
       "war_length                                                           7              \n",
       "most_common_w                                                      the              \n",
       "most_common_w_count                                                857              \n",
       "\n",
       "                    September 26, 1960: The First Kennedy-Nixon Presidential Debate  \n",
       "Debate char length                                               60883               \n",
       "war_length                                                           3               \n",
       "most_common_w                                                      the               \n",
       "most_common_w_count                                                779               "
      ]
     },
     "execution_count": 10,
     "metadata": {},
     "output_type": "execute_result"
    }
   ],
   "source": [
    "data_result = {}\n",
    "for i in range(9):\n",
    "    data_result[title[i]]=[debate_char_length[i],war_count[i],common_word[i],common_count[i]]\n",
    "df_result = pd.DataFrame(data=data_result,\n",
    "                         index = ['Debate char length', 'war_length', \n",
    "                                  'most_common_w', 'most_common_w_count'])\n",
    "df_result"
   ]
  },
  {
   "cell_type": "markdown",
   "metadata": {},
   "source": [
    "    \n",
    "## 2. Download and read in specific line from many data sets\n",
    "\n",
    "Scrape the first 27 data sets from this URL http://people.sc.fsu.edu/~jburkardt/datasets/regression/ (i.e.`x01.txt` - `x27.txt`). Then, save the 5th line in each data set, this should be the name of the data set author (get rid of the `#` symbol, the white spaces and the comma at the end). \n",
    "\n",
    "Count how many times (with a Python function) each author is the reference for one of the 27 data sets. Showcase your results, sorted, with the most common author name first and how many times he appeared in data sets. Use a Pandas DataFrame to show your results, see example. Print your final output result.\n",
    "\n",
    "**Example output of the answer for Question 2:**\n",
    "\n",
    "![author_stats](https://github.com/ikhlaqsidhu/data-x/raw/master/x-archive/misc/hw2_imgs_spring2018/data_authors.png)\n"
   ]
  },
  {
   "cell_type": "code",
   "execution_count": 11,
   "metadata": {},
   "outputs": [
    {
     "data": {
      "text/plain": [
       "['Helmut Spaeth',\n",
       " 'Helmut Spaeth',\n",
       " 'Helmut Spaeth',\n",
       " 'Helmut Spaeth',\n",
       " 'Helmut Spaeth',\n",
       " 'R J Freund and P D Minton',\n",
       " 'D G Kleinbaum and L L Kupper',\n",
       " 'Helmut Spaeth',\n",
       " 'D G Kleinbaum and L L Kupper',\n",
       " 'K A Brownlee',\n",
       " 'Helmut Spaeth',\n",
       " 'Helmut Spaeth',\n",
       " 'S Chatterjee and B Price',\n",
       " 'Helmut Spaeth',\n",
       " 'Helmut Spaeth',\n",
       " 'Helmut Spaeth',\n",
       " 'Helmut Spaeth',\n",
       " 'Helmut Spaeth',\n",
       " 'R J Freund and P D Minton',\n",
       " 'Helmut Spaeth',\n",
       " 'Helmut Spaeth',\n",
       " 'Helmut Spaeth',\n",
       " 'S Chatterjee, B Price',\n",
       " 'S Chatterjee, B Price',\n",
       " 'S Chatterjee, B Price',\n",
       " 'S C Narula, J F Wellington',\n",
       " 'S C Narula, J F Wellington']"
      ]
     },
     "execution_count": 11,
     "metadata": {},
     "output_type": "execute_result"
    }
   ],
   "source": [
    "# your code here\n",
    "names = []\n",
    "for i in range(1,28):\n",
    "    if i < 10:\n",
    "        source_txt = requests.get(\"http://people.sc.fsu.edu/~jburkardt/datasets/regression/x0\"+\n",
    "                                  str(i)+\".txt\")\n",
    "    else:\n",
    "        source_txt = requests.get(\"http://people.sc.fsu.edu/~jburkardt/datasets/regression/x\"+\n",
    "                                  str(i)+\".txt\")\n",
    "    soup_txt = bs.BeautifulSoup(source_txt.content, features='html.parser')\n",
    "    #names.extend(soup_txt.text.split('\\n')[4].replace(\"#\",\"\").replace(' and',',').strip(',').strip().split(', '))\n",
    "    names.append(soup_txt.text.split('\\n')[4].replace(\"#\",\"\").strip().strip(','))\n",
    "names"
   ]
  },
  {
   "cell_type": "code",
   "execution_count": 12,
   "metadata": {},
   "outputs": [
    {
     "data": {
      "text/html": [
       "<div>\n",
       "<style scoped>\n",
       "    .dataframe tbody tr th:only-of-type {\n",
       "        vertical-align: middle;\n",
       "    }\n",
       "\n",
       "    .dataframe tbody tr th {\n",
       "        vertical-align: top;\n",
       "    }\n",
       "\n",
       "    .dataframe thead th {\n",
       "        text-align: right;\n",
       "    }\n",
       "</style>\n",
       "<table border=\"1\" class=\"dataframe\">\n",
       "  <thead>\n",
       "    <tr style=\"text-align: right;\">\n",
       "      <th></th>\n",
       "      <th>Counts</th>\n",
       "    </tr>\n",
       "    <tr>\n",
       "      <th>Authors</th>\n",
       "      <th></th>\n",
       "    </tr>\n",
       "  </thead>\n",
       "  <tbody>\n",
       "    <tr>\n",
       "      <th>Helmut Spaeth</th>\n",
       "      <td>16</td>\n",
       "    </tr>\n",
       "    <tr>\n",
       "      <th>S Chatterjee, B Price</th>\n",
       "      <td>3</td>\n",
       "    </tr>\n",
       "    <tr>\n",
       "      <th>R J Freund and P D Minton</th>\n",
       "      <td>2</td>\n",
       "    </tr>\n",
       "    <tr>\n",
       "      <th>D G Kleinbaum and L L Kupper</th>\n",
       "      <td>2</td>\n",
       "    </tr>\n",
       "    <tr>\n",
       "      <th>S C Narula, J F Wellington</th>\n",
       "      <td>2</td>\n",
       "    </tr>\n",
       "    <tr>\n",
       "      <th>K A Brownlee</th>\n",
       "      <td>1</td>\n",
       "    </tr>\n",
       "    <tr>\n",
       "      <th>S Chatterjee and B Price</th>\n",
       "      <td>1</td>\n",
       "    </tr>\n",
       "  </tbody>\n",
       "</table>\n",
       "</div>"
      ],
      "text/plain": [
       "                              Counts\n",
       "Authors                             \n",
       "Helmut Spaeth                     16\n",
       "S Chatterjee, B Price              3\n",
       "R J Freund and P D Minton          2\n",
       "D G Kleinbaum and L L Kupper       2\n",
       "S C Narula, J F Wellington         2\n",
       "K A Brownlee                       1\n",
       "S Chatterjee and B Price           1"
      ]
     },
     "execution_count": 12,
     "metadata": {},
     "output_type": "execute_result"
    }
   ],
   "source": [
    "Counts = list(dict(Counter(names)).values())\n",
    "Authors = list(dict(Counter(names)).keys())\n",
    "pd_result = pd.DataFrame(data={'Authors':Authors,\n",
    "                              'Counts':Counts}).set_index('Authors')\n",
    "pd_result.sort_values('Counts',ascending = False)"
   ]
  },
  {
   "cell_type": "markdown",
   "metadata": {},
   "source": [
    "Notice in index 'Authors', some .txt files have multiple authors. If one need to check the numbers of occurances of each single author name. We can use the following code."
   ]
  },
  {
   "cell_type": "code",
   "execution_count": 13,
   "metadata": {},
   "outputs": [
    {
     "data": {
      "text/html": [
       "<div>\n",
       "<style scoped>\n",
       "    .dataframe tbody tr th:only-of-type {\n",
       "        vertical-align: middle;\n",
       "    }\n",
       "\n",
       "    .dataframe tbody tr th {\n",
       "        vertical-align: top;\n",
       "    }\n",
       "\n",
       "    .dataframe thead th {\n",
       "        text-align: right;\n",
       "    }\n",
       "</style>\n",
       "<table border=\"1\" class=\"dataframe\">\n",
       "  <thead>\n",
       "    <tr style=\"text-align: right;\">\n",
       "      <th></th>\n",
       "      <th>Counts</th>\n",
       "    </tr>\n",
       "    <tr>\n",
       "      <th>Authors</th>\n",
       "      <th></th>\n",
       "    </tr>\n",
       "  </thead>\n",
       "  <tbody>\n",
       "    <tr>\n",
       "      <th>Helmut Spaeth</th>\n",
       "      <td>16</td>\n",
       "    </tr>\n",
       "    <tr>\n",
       "      <th>S Chatterjee</th>\n",
       "      <td>4</td>\n",
       "    </tr>\n",
       "    <tr>\n",
       "      <th>B Price</th>\n",
       "      <td>4</td>\n",
       "    </tr>\n",
       "    <tr>\n",
       "      <th>R J Freund</th>\n",
       "      <td>2</td>\n",
       "    </tr>\n",
       "    <tr>\n",
       "      <th>P D Minton</th>\n",
       "      <td>2</td>\n",
       "    </tr>\n",
       "    <tr>\n",
       "      <th>D G Kleinbaum</th>\n",
       "      <td>2</td>\n",
       "    </tr>\n",
       "    <tr>\n",
       "      <th>L L Kupper</th>\n",
       "      <td>2</td>\n",
       "    </tr>\n",
       "    <tr>\n",
       "      <th>S C Narula</th>\n",
       "      <td>2</td>\n",
       "    </tr>\n",
       "    <tr>\n",
       "      <th>J F Wellington</th>\n",
       "      <td>2</td>\n",
       "    </tr>\n",
       "    <tr>\n",
       "      <th>K A Brownlee</th>\n",
       "      <td>1</td>\n",
       "    </tr>\n",
       "  </tbody>\n",
       "</table>\n",
       "</div>"
      ],
      "text/plain": [
       "                Counts\n",
       "Authors               \n",
       "Helmut Spaeth       16\n",
       "S Chatterjee         4\n",
       "B Price              4\n",
       "R J Freund           2\n",
       "P D Minton           2\n",
       "D G Kleinbaum        2\n",
       "L L Kupper           2\n",
       "S C Narula           2\n",
       "J F Wellington       2\n",
       "K A Brownlee         1"
      ]
     },
     "execution_count": 13,
     "metadata": {},
     "output_type": "execute_result"
    }
   ],
   "source": [
    "names = []\n",
    "for i in range(1,28):\n",
    "    if i < 10:\n",
    "        source_txt = requests.get(\"http://people.sc.fsu.edu/~jburkardt/datasets/regression/x0\"+\n",
    "                                  str(i)+\".txt\")\n",
    "    else:\n",
    "        source_txt = requests.get(\"http://people.sc.fsu.edu/~jburkardt/datasets/regression/x\"+\n",
    "                                  str(i)+\".txt\")\n",
    "    soup_txt = bs.BeautifulSoup(source_txt.content, features='html.parser')\n",
    "    names.extend(soup_txt.text.split('\\n')[4].replace(\"#\",\"\").replace(' and',',').\n",
    "                 strip(',').strip().split(', '))\n",
    "    #names.append(soup_txt.text.split('\\n')[4].replace(\"#\",\"\").strip().strip(','))\n",
    "\n",
    "Counts = list(dict(Counter(names)).values())\n",
    "Authors = list(dict(Counter(names)).keys())\n",
    "pd_result = pd.DataFrame(data={'Authors':Authors,\n",
    "                              'Counts':Counts}).set_index('Authors')\n",
    "pd_result.sort_values('Counts',ascending = False)"
   ]
  }
 ],
 "metadata": {
  "kernel_info": {
   "name": "data-x"
  },
  "kernelspec": {
   "display_name": "Python 3",
   "language": "python",
   "name": "python3"
  },
  "language_info": {
   "codemirror_mode": {
    "name": "ipython",
    "version": 3
   },
   "file_extension": ".py",
   "mimetype": "text/x-python",
   "name": "python",
   "nbconvert_exporter": "python",
   "pygments_lexer": "ipython3",
   "version": "3.6.5"
  },
  "nteract": {
   "version": "0.7.1"
  }
 },
 "nbformat": 4,
 "nbformat_minor": 2
}
