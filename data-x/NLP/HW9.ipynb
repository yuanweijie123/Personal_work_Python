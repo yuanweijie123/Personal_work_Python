{
 "cells": [
  {
   "cell_type": "markdown",
   "metadata": {},
   "source": [
    "# Homework 9"
   ]
  },
  {
   "cell_type": "markdown",
   "metadata": {},
   "source": [
    "name: Weijie Yuan"
   ]
  },
  {
   "cell_type": "markdown",
   "metadata": {},
   "source": [
    "SID: 3034375855"
   ]
  },
  {
   "cell_type": "markdown",
   "metadata": {},
   "source": [
    "### In UNIGRAM setting"
   ]
  },
  {
   "cell_type": "markdown",
   "metadata": {},
   "source": [
    "#### Original cleaned reviews"
   ]
  },
  {
   "cell_type": "code",
   "execution_count": null,
   "metadata": {},
   "outputs": [],
   "source": [
    "original_clean_reviews=review_cleaner(train['review'],lemmatize=False,stem=False)\n",
    "train_predict_sentiment(cleaned_reviews=original_clean_reviews, y=train[\"sentiment\"],\n",
    "                        ngram=1,max_features=1000)"
   ]
  },
  {
   "cell_type": "markdown",
   "metadata": {},
   "source": [
    "The training accuracy is:  1.0\n",
    "\n",
    "The validation accuracy is:  0.8226"
   ]
  },
  {
   "cell_type": "markdown",
   "metadata": {},
   "source": [
    "#### Lemmatized reviews"
   ]
  },
  {
   "cell_type": "code",
   "execution_count": null,
   "metadata": {},
   "outputs": [],
   "source": [
    "lemmatized_reviews=review_cleaner(train['review'],lemmatize=True,stem=False)\n",
    "train_predict_sentiment(cleaned_reviews=lemmatized_reviews, y=train[\"sentiment\"],\n",
    "                        ngram=1,max_features=1000)"
   ]
  },
  {
   "cell_type": "markdown",
   "metadata": {},
   "source": [
    "The training accuracy is:  1.0 \n",
    "\n",
    "The validation accuracy is:  0.82"
   ]
  },
  {
   "cell_type": "markdown",
   "metadata": {},
   "source": [
    "#### Stemmed reviews"
   ]
  },
  {
   "cell_type": "code",
   "execution_count": null,
   "metadata": {},
   "outputs": [],
   "source": [
    "stemmed_reviews=review_cleaner(train['review'],lemmatize=False,stem=True) \n",
    "train_predict_sentiment(cleaned_reviews=stemmed_reviews, y=train[\"sentiment\"],\n",
    "                        ngram=1,max_features=1000)"
   ]
  },
  {
   "cell_type": "markdown",
   "metadata": {},
   "source": [
    "The training accuracy is: 1.0 \n",
    "\n",
    "The validation accuracy is: 0.8224"
   ]
  },
  {
   "cell_type": "markdown",
   "metadata": {},
   "source": [
    "### In BIGRAM setting"
   ]
  },
  {
   "cell_type": "markdown",
   "metadata": {},
   "source": [
    "#### Original cleaned reviews"
   ]
  },
  {
   "cell_type": "code",
   "execution_count": null,
   "metadata": {},
   "outputs": [],
   "source": [
    "original_clean_reviews=review_cleaner(train['review'],lemmatize=False,stem=False)\n",
    "train_predict_sentiment(cleaned_reviews=original_clean_reviews, y=train[\"sentiment\"],\n",
    "                        ngram=2,max_features=1000)"
   ]
  },
  {
   "cell_type": "markdown",
   "metadata": {},
   "source": [
    "The training accuracy is:  0.99995 \n",
    "\n",
    "The validation accuracy is:  0.8182"
   ]
  },
  {
   "cell_type": "markdown",
   "metadata": {},
   "source": [
    "#### Lemmatized reviews"
   ]
  },
  {
   "cell_type": "code",
   "execution_count": null,
   "metadata": {},
   "outputs": [],
   "source": [
    "lemmatized_reviews=review_cleaner(train['review'],lemmatize=True,stem=False)\n",
    "train_predict_sentiment(cleaned_reviews=lemmatized_reviews, y=train[\"sentiment\"],\n",
    "                        ngram=2,max_features=1000)"
   ]
  },
  {
   "cell_type": "markdown",
   "metadata": {},
   "source": [
    "The training accuracy is:  0.99995 \n",
    "\n",
    "The validation accuracy is:  0.8208"
   ]
  },
  {
   "cell_type": "markdown",
   "metadata": {},
   "source": [
    "#### Stemmed reviews"
   ]
  },
  {
   "cell_type": "code",
   "execution_count": null,
   "metadata": {},
   "outputs": [],
   "source": [
    "stemmed_reviews=review_cleaner(train['review'],lemmatize=False,stem=True) \n",
    "train_predict_sentiment(cleaned_reviews=stemmed_reviews, y=train[\"sentiment\"],\n",
    "                        ngram=2,max_features=1000)"
   ]
  },
  {
   "cell_type": "markdown",
   "metadata": {},
   "source": [
    "The training accuracy is:  0.99995 \n",
    "\n",
    "The validation accuracy is:  0.8236"
   ]
  },
  {
   "cell_type": "markdown",
   "metadata": {},
   "source": [
    "### In UNIGRAM setting & Lemmatization\n",
    "##### Change Max Features"
   ]
  },
  {
   "cell_type": "code",
   "execution_count": null,
   "metadata": {},
   "outputs": [],
   "source": [
    "feature_reviews=review_cleaner(train['review'],lemmatize=True,stem=False) \n",
    "for x in [10,100,1000,5000]:\n",
    "    train_predict_sentiment(cleaned_reviews=feature_reviews, \n",
    "                            y=train[\"sentiment\"], \n",
    "                            ngram= 1,max_features= x)"
   ]
  },
  {
   "cell_type": "markdown",
   "metadata": {},
   "source": [
    "| Maximum Features | Training Accuracy | Validation Accuracy |\n",
    "| --- | --- | --- |\n",
    "| 10 | 0.87155 | 0.5588 |\n",
    "| 100 | 0.9998 | 0.7186 |\n",
    "| 1000 | 1.0 | 0.8214 |\n",
    "| 5000 | 1.0 | 0.8374 |"
   ]
  },
  {
   "cell_type": "markdown",
   "metadata": {},
   "source": [
    "### Summary:\n",
    "\n",
    "According to the results in part1 and part 2, it seems that stemmed reveiw has the highest prediction accuracy, although in unigram case the difference is not obvious. And the result of experiment differ each time because of some random generator in RandomForestClassifier() function. There may not be signiﬁcant difference between those three methods in this case.\n",
    "\n",
    "From part 3 we can conclude that with the increasing of the number of Max Features from 10 to 5000, both the training accuracy and the validation accuracy increase. In range from 1000 to 5000, the difference is not so significant. And it indicates that there is not yet a problem of overfitting, and the model performs best with max features = 5000. However, if we want to balance the validation accuracy and computation load, we can choose 1000 as the number of Max Features."
   ]
  }
 ],
 "metadata": {
  "kernelspec": {
   "display_name": "Python 3",
   "language": "python",
   "name": "python3"
  },
  "language_info": {
   "codemirror_mode": {
    "name": "ipython",
    "version": 3
   },
   "file_extension": ".py",
   "mimetype": "text/x-python",
   "name": "python",
   "nbconvert_exporter": "python",
   "pygments_lexer": "ipython3",
   "version": "3.6.5"
  }
 },
 "nbformat": 4,
 "nbformat_minor": 2
}
