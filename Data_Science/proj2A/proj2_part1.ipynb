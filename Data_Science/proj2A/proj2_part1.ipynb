{
 "cells": [
  {
   "cell_type": "markdown",
   "metadata": {},
   "source": [
    "Before you turn in the homework, make sure everything runs as expected. To do so, select **Kernel**$\\rightarrow$**Restart & Run All** in the toolbar above.  Remember to submit both on **DataHub** and **Gradescope**.\n",
    "\n",
    "Please fill in your name and include a list of your collaborators below."
   ]
  },
  {
   "cell_type": "code",
   "execution_count": 1,
   "metadata": {},
   "outputs": [],
   "source": [
    "NAME = \"Weijie Yuan\"\n",
    "COLLABORATORS = \"\""
   ]
  },
  {
   "cell_type": "markdown",
   "metadata": {},
   "source": [
    "---"
   ]
  },
  {
   "cell_type": "markdown",
   "metadata": {
    "deletable": false,
    "editable": false,
    "nbgrader": {
     "cell_type": "markdown",
     "checksum": "7901e087633730359931691b6fdc45c7",
     "grade": false,
     "grade_id": "cell-776bdcdaa31aa0dd",
     "locked": true,
     "schema_version": 2,
     "solution": false
    }
   },
   "source": [
    "# Project 2: NYC Taxi Rides\n",
    "\n",
    "# Part 1: Data Wrangling\n",
    "In this notebook, we will first query a database to fetch our data and generate training and test sets."
   ]
  },
  {
   "cell_type": "markdown",
   "metadata": {
    "deletable": false,
    "editable": false,
    "nbgrader": {
     "cell_type": "markdown",
     "checksum": "75116059d98993c05d7327802f166949",
     "grade": false,
     "grade_id": "cell-007c385238a61963",
     "locked": true,
     "schema_version": 2,
     "solution": false
    }
   },
   "source": [
    "# Imports\n"
   ]
  },
  {
   "cell_type": "code",
   "execution_count": 2,
   "metadata": {
    "ExecuteTime": {
     "end_time": "2018-11-13T00:58:34.346728Z",
     "start_time": "2018-11-13T00:58:33.846446Z"
    },
    "deletable": false,
    "editable": false,
    "nbgrader": {
     "cell_type": "code",
     "checksum": "343c8b01b16a912914921eccfa8d1790",
     "grade": false,
     "grade_id": "cell-91e2a5cbad6e67c3",
     "locked": true,
     "schema_version": 2,
     "solution": false
    }
   },
   "outputs": [],
   "source": [
    "import os\n",
    "import pandas as pd\n",
    "import numpy as np\n",
    "from pathlib import Path\n",
    "from sqlalchemy import create_engine\n",
    "from utils import timeit"
   ]
  },
  {
   "cell_type": "markdown",
   "metadata": {
    "deletable": false,
    "editable": false,
    "nbgrader": {
     "cell_type": "markdown",
     "checksum": "62143d89efa5cc06cfba258687ef5e33",
     "grade": false,
     "grade_id": "cell-e456e639ff84ef40",
     "locked": true,
     "schema_version": 2,
     "solution": false
    }
   },
   "source": [
    "## SQLite\n",
    "[SQLite](https://www.sqlite.org/whentouse.html) is a SQL database engine that excels at managing data stored locally in a file. We will be using SQLite to query for our data. First let's check that our database is accessible and set up properly. Run the following line to make sure the data is there and pay attention to how big the data is. \n",
    "\n",
    "In practice, data is stored in a distributed SQL database that spans machines (e.g. [Hive](https://stackoverflow.com/questions/20030436/what-is-hive-is-it-a-database)) or even continents (e.g. [Spanner](https://en.wikipedia.org/wiki/Spanner_(database))). However, how you query the data will remain the same: the SQL language. "
   ]
  },
  {
   "cell_type": "code",
   "execution_count": 3,
   "metadata": {
    "ExecuteTime": {
     "end_time": "2018-11-13T00:58:34.507827Z",
     "start_time": "2018-11-13T00:58:34.348491Z"
    },
    "deletable": false,
    "editable": false,
    "nbgrader": {
     "cell_type": "code",
     "checksum": "ef76e86a7f09c854a616aeb2e1189a88",
     "grade": false,
     "grade_id": "cell-c863071d3316689a",
     "locked": true,
     "schema_version": 2,
     "solution": false
    }
   },
   "outputs": [
    {
     "name": "stdout",
     "output_type": "stream",
     "text": [
      "-rw-r--r-- 1 root root 2.1G Nov  7 04:44 /srv/db/taxi_2016_student_small.sqlite\r\n"
     ]
    }
   ],
   "source": [
    "!ls -lh /srv/db/taxi_2016_student_small.sqlite"
   ]
  },
  {
   "cell_type": "markdown",
   "metadata": {
    "deletable": false,
    "editable": false,
    "nbgrader": {
     "cell_type": "markdown",
     "checksum": "af295b132345635bf7901f358f70f751",
     "grade": false,
     "grade_id": "cell-0ae2136b7a30dc0f",
     "locked": true,
     "schema_version": 2,
     "solution": false
    }
   },
   "source": [
    "Running this line will connect to SQLite engine and test the connection by printing out the total number of rows."
   ]
  },
  {
   "cell_type": "code",
   "execution_count": 4,
   "metadata": {
    "ExecuteTime": {
     "end_time": "2018-11-13T00:58:37.809081Z",
     "start_time": "2018-11-13T00:58:34.510858Z"
    },
    "deletable": false,
    "editable": false,
    "nbgrader": {
     "cell_type": "code",
     "checksum": "c32085b9f669af381826fdf2def34d3a",
     "grade": false,
     "grade_id": "cell-1df5fd4847b76269",
     "locked": true,
     "schema_version": 2,
     "solution": false
    }
   },
   "outputs": [
    {
     "name": "stdout",
     "output_type": "stream",
     "text": [
      "Table taxi has 15000000 rows!\n",
      "0.89 s elapsed\n"
     ]
    }
   ],
   "source": [
    "DB_URI = \"sqlite:////srv/db/taxi_2016_student_small.sqlite\"\n",
    "TABLE_NAME = \"taxi\"\n",
    "\n",
    "sql_engine = create_engine(DB_URI)\n",
    "with timeit():\n",
    "    print(f\"Table {TABLE_NAME} has {sql_engine.execute(f'SELECT COUNT(*) FROM {TABLE_NAME}').first()[0]} rows!\")"
   ]
  },
  {
   "cell_type": "markdown",
   "metadata": {
    "deletable": false,
    "editable": false,
    "nbgrader": {
     "cell_type": "markdown",
     "checksum": "c6ff0f03de3e0a7eefa4e4d2ae694913",
     "grade": false,
     "grade_id": "cell-f50d7e185525f6b6",
     "locked": true,
     "schema_version": 2,
     "solution": false
    }
   },
   "source": [
    "Quick note: One piece of syntax above that you may not be familiar with is the Python [f-string](https://realpython.com/python-f-strings/), a relatively new feature to the language.\n",
    "\n",
    "Basically, it automatically replaces text inside curly braces with the results of the given expression. For example:"
   ]
  },
  {
   "cell_type": "code",
   "execution_count": 5,
   "metadata": {
    "deletable": false,
    "editable": false,
    "nbgrader": {
     "cell_type": "code",
     "checksum": "4c346c38cd64d0af600beadc4b11559f",
     "grade": false,
     "grade_id": "cell-a32bbd46f4d23829",
     "locked": true,
     "schema_version": 2,
     "solution": false
    }
   },
   "outputs": [
    {
     "name": "stdout",
     "output_type": "stream",
     "text": [
      "wet egg gets replaced, oh also 8.\n"
     ]
    }
   ],
   "source": [
    "bloop = \"wet egg\"\n",
    "print(f\"{bloop} gets replaced, oh also {3 + 5}.\")"
   ]
  },
  {
   "cell_type": "markdown",
   "metadata": {
    "deletable": false,
    "editable": false,
    "nbgrader": {
     "cell_type": "markdown",
     "checksum": "f9b685d4eea0e8a938c1ec33ecf4b06a",
     "grade": false,
     "grade_id": "cell-3c61687e3e98591b",
     "locked": true,
     "schema_version": 2,
     "solution": false
    }
   },
   "source": [
    "# NYC Taxi Data\n",
    "\n",
    "We are working with a much larger dataset (15,000,000 rows!), larger than anything we have worked with before. If you are not careful in writing your queries, you may crash your kernel. Please do not `\"SELECT * FROM taxi\"`. This is a reality that we must face; we do not always get to work with supercomputers that can load everything in memory. "
   ]
  },
  {
   "cell_type": "markdown",
   "metadata": {
    "deletable": false,
    "editable": false,
    "nbgrader": {
     "cell_type": "markdown",
     "checksum": "2e2f4478d775511ecb225e1587445654",
     "grade": false,
     "grade_id": "cell-15edaada3d3db64b",
     "locked": true,
     "schema_version": 2,
     "solution": false
    }
   },
   "source": [
    "## Data Overview \n",
    "\n",
    "Below is the schema for the `taxi` database:\n",
    "```\n",
    "CREATE TABLE taxi_train(\n",
    "  \"record_id\" integer primary key,\n",
    "  \"VendorID\" INTEGER,\n",
    "  \"tpep_pickup_datetime\" TEXT,\n",
    "  \"tpep_dropoff_datetime\" TEXT,\n",
    "  \"passenger_count\" INTEGER,\n",
    "  \"trip_distance\" REAL,\n",
    "  \"pickup_longitude\" REAL,\n",
    "  \"pickup_latitude\" REAL,\n",
    "  \"RatecodeID\" INTEGER,\n",
    "  \"store_and_fwd_flag\" TEXT,\n",
    "  \"dropoff_longitude\" REAL,\n",
    "  \"dropoff_latitude\" REAL,\n",
    "  \"payment_type\" INTEGER,\n",
    "  \"fare_amount\" REAL,\n",
    "  \"extra\" REAL,\n",
    "  \"mta_tax\" REAL,\n",
    "  \"tip_amount\" REAL,\n",
    "  \"tolls_amount\" REAL,\n",
    "  \"improvement_surcharge\" REAL,\n",
    "  \"total_amount\" REAL\n",
    ");   \n",
    "```\n",
    "\n",
    "Here is a description for your convenience:\n",
    "- `recordID`: primary key of this dataset\n",
    "- `VendorID`: a code indicating the provider associated with the trip record\n",
    "- `passenger_count`: the number of passengers in the vehicle (driver entered value)\n",
    "- `trip_distance`: trip distance\n",
    "- `dropoff_datetime`: date and time when the meter was engaged\n",
    "- `pickup_datetime`: date and time when the meter was disengaged\n",
    "- `pickup_longitude`: the longitude where the meter was engaged\n",
    "- `pickup_latitude`: the latitude where the meter was engaged\n",
    "- `dropoff_longitude`: the longitude where the meter was disengaged\n",
    "- `dropoff_latitude`: the latitude where the meter was disengaged\n",
    "- `duration`: duration of the trip in seconds\n",
    "- `payment_type`: the payment type\n",
    "- `fare_amount`: the time-and-distance fare calculated by the meter\n",
    "- `extra`: miscellaneous extras and surcharges\n",
    "- `mta_tax`: MTA tax that is automatically triggered based on the metered rate in use\t\n",
    "- `tip_amount`: the\tamount of credit card tips, cash tips are not included\n",
    "- `tolls_amount`: amount paid for tolls\n",
    "- `improvement_surcharge`: fixed fee\n",
    "- `total_amount`: total amount paid by passengers, cash tips are not included"
   ]
  },
  {
   "cell_type": "markdown",
   "metadata": {
    "deletable": false,
    "editable": false,
    "nbgrader": {
     "cell_type": "markdown",
     "checksum": "cfbb90d949e41343e7470a885f7ba71b",
     "grade": false,
     "grade_id": "cell-7e63802ccfdd6050",
     "locked": true,
     "schema_version": 2,
     "solution": false
    }
   },
   "source": [
    "## Question 1: SQL Warmup\n",
    "\n",
    "Let's begin with some SQL questions! Remember, be careful not to select too many entries in your query. Your kernel **will** crash! Please write your queries in the provided triple quotes and format them with proper SQL style. Below is an example which grabs the first 5 rows from the `taxi` database.\n",
    "\n",
    "We will use the `timeit` contextmanager from the `utils` file to time each SQL execution. *Beware that SQL can be slow sometimes; enterprise SQL quries often run for hours or days!* (several minutes execution time is [considered fast](https://hortonworks.com/blog/benchmarking-apache-hive-13-enterprise-hadoop/)). In each cell, we have added anitipated execution time to use as a guideline for writing your quries. "
   ]
  },
  {
   "cell_type": "code",
   "execution_count": 6,
   "metadata": {
    "ExecuteTime": {
     "end_time": "2018-11-13T00:58:37.848960Z",
     "start_time": "2018-11-13T00:58:37.810956Z"
    },
    "deletable": false,
    "editable": false,
    "nbgrader": {
     "cell_type": "code",
     "checksum": "1cf6576ff212e546bbb471c196a23dbd",
     "grade": false,
     "grade_id": "cell-9462ab8556498136",
     "locked": true,
     "schema_version": 2,
     "solution": false
    }
   },
   "outputs": [
    {
     "name": "stdout",
     "output_type": "stream",
     "text": [
      "0.01 s elapsed\n"
     ]
    },
    {
     "data": {
      "text/html": [
       "<div>\n",
       "<style scoped>\n",
       "    .dataframe tbody tr th:only-of-type {\n",
       "        vertical-align: middle;\n",
       "    }\n",
       "\n",
       "    .dataframe tbody tr th {\n",
       "        vertical-align: top;\n",
       "    }\n",
       "\n",
       "    .dataframe thead th {\n",
       "        text-align: right;\n",
       "    }\n",
       "</style>\n",
       "<table border=\"1\" class=\"dataframe\">\n",
       "  <thead>\n",
       "    <tr style=\"text-align: right;\">\n",
       "      <th></th>\n",
       "      <th>record_id</th>\n",
       "      <th>VendorID</th>\n",
       "      <th>tpep_pickup_datetime</th>\n",
       "      <th>tpep_dropoff_datetime</th>\n",
       "      <th>passenger_count</th>\n",
       "      <th>trip_distance</th>\n",
       "      <th>pickup_longitude</th>\n",
       "      <th>pickup_latitude</th>\n",
       "      <th>RatecodeID</th>\n",
       "      <th>store_and_fwd_flag</th>\n",
       "      <th>dropoff_longitude</th>\n",
       "      <th>dropoff_latitude</th>\n",
       "      <th>payment_type</th>\n",
       "      <th>fare_amount</th>\n",
       "      <th>extra</th>\n",
       "      <th>mta_tax</th>\n",
       "      <th>tip_amount</th>\n",
       "      <th>tolls_amount</th>\n",
       "      <th>improvement_surcharge</th>\n",
       "      <th>total_amount</th>\n",
       "    </tr>\n",
       "  </thead>\n",
       "  <tbody>\n",
       "    <tr>\n",
       "      <th>0</th>\n",
       "      <td>1</td>\n",
       "      <td>2</td>\n",
       "      <td>2016-01-01 00:00:00</td>\n",
       "      <td>2016-01-01 00:00:00</td>\n",
       "      <td>2</td>\n",
       "      <td>1.10</td>\n",
       "      <td>-73.990372</td>\n",
       "      <td>40.734695</td>\n",
       "      <td>1</td>\n",
       "      <td>N</td>\n",
       "      <td>-73.981842</td>\n",
       "      <td>40.732407</td>\n",
       "      <td>2</td>\n",
       "      <td>7.5</td>\n",
       "      <td>0.5</td>\n",
       "      <td>0.5</td>\n",
       "      <td>0.00</td>\n",
       "      <td>0.0</td>\n",
       "      <td>0.3</td>\n",
       "      <td>8.80</td>\n",
       "    </tr>\n",
       "    <tr>\n",
       "      <th>1</th>\n",
       "      <td>8</td>\n",
       "      <td>1</td>\n",
       "      <td>2016-01-01 00:00:01</td>\n",
       "      <td>2016-01-01 00:11:55</td>\n",
       "      <td>1</td>\n",
       "      <td>1.20</td>\n",
       "      <td>-73.979424</td>\n",
       "      <td>40.744614</td>\n",
       "      <td>1</td>\n",
       "      <td>N</td>\n",
       "      <td>-73.992035</td>\n",
       "      <td>40.753944</td>\n",
       "      <td>2</td>\n",
       "      <td>9.0</td>\n",
       "      <td>0.5</td>\n",
       "      <td>0.5</td>\n",
       "      <td>0.00</td>\n",
       "      <td>0.0</td>\n",
       "      <td>0.3</td>\n",
       "      <td>10.30</td>\n",
       "    </tr>\n",
       "    <tr>\n",
       "      <th>2</th>\n",
       "      <td>17</td>\n",
       "      <td>2</td>\n",
       "      <td>2016-01-01 00:00:05</td>\n",
       "      <td>2016-01-01 00:07:14</td>\n",
       "      <td>1</td>\n",
       "      <td>1.92</td>\n",
       "      <td>-73.973091</td>\n",
       "      <td>40.795361</td>\n",
       "      <td>1</td>\n",
       "      <td>N</td>\n",
       "      <td>-73.978371</td>\n",
       "      <td>40.773151</td>\n",
       "      <td>2</td>\n",
       "      <td>7.5</td>\n",
       "      <td>0.5</td>\n",
       "      <td>0.5</td>\n",
       "      <td>0.00</td>\n",
       "      <td>0.0</td>\n",
       "      <td>0.3</td>\n",
       "      <td>8.80</td>\n",
       "    </tr>\n",
       "    <tr>\n",
       "      <th>3</th>\n",
       "      <td>18</td>\n",
       "      <td>1</td>\n",
       "      <td>2016-01-01 00:00:06</td>\n",
       "      <td>2016-01-01 00:04:44</td>\n",
       "      <td>1</td>\n",
       "      <td>1.70</td>\n",
       "      <td>-73.982101</td>\n",
       "      <td>40.774696</td>\n",
       "      <td>1</td>\n",
       "      <td>Y</td>\n",
       "      <td>-73.970940</td>\n",
       "      <td>40.796707</td>\n",
       "      <td>1</td>\n",
       "      <td>7.0</td>\n",
       "      <td>0.5</td>\n",
       "      <td>0.5</td>\n",
       "      <td>1.65</td>\n",
       "      <td>0.0</td>\n",
       "      <td>0.3</td>\n",
       "      <td>9.95</td>\n",
       "    </tr>\n",
       "    <tr>\n",
       "      <th>4</th>\n",
       "      <td>22</td>\n",
       "      <td>2</td>\n",
       "      <td>2016-01-01 00:00:08</td>\n",
       "      <td>2016-01-01 00:18:51</td>\n",
       "      <td>1</td>\n",
       "      <td>3.09</td>\n",
       "      <td>-73.999069</td>\n",
       "      <td>40.720173</td>\n",
       "      <td>1</td>\n",
       "      <td>N</td>\n",
       "      <td>-73.973389</td>\n",
       "      <td>40.756561</td>\n",
       "      <td>2</td>\n",
       "      <td>14.5</td>\n",
       "      <td>0.5</td>\n",
       "      <td>0.5</td>\n",
       "      <td>0.00</td>\n",
       "      <td>0.0</td>\n",
       "      <td>0.3</td>\n",
       "      <td>15.80</td>\n",
       "    </tr>\n",
       "  </tbody>\n",
       "</table>\n",
       "</div>"
      ],
      "text/plain": [
       "   record_id  VendorID tpep_pickup_datetime tpep_dropoff_datetime  \\\n",
       "0          1         2  2016-01-01 00:00:00   2016-01-01 00:00:00   \n",
       "1          8         1  2016-01-01 00:00:01   2016-01-01 00:11:55   \n",
       "2         17         2  2016-01-01 00:00:05   2016-01-01 00:07:14   \n",
       "3         18         1  2016-01-01 00:00:06   2016-01-01 00:04:44   \n",
       "4         22         2  2016-01-01 00:00:08   2016-01-01 00:18:51   \n",
       "\n",
       "   passenger_count  trip_distance  pickup_longitude  pickup_latitude  \\\n",
       "0                2           1.10        -73.990372        40.734695   \n",
       "1                1           1.20        -73.979424        40.744614   \n",
       "2                1           1.92        -73.973091        40.795361   \n",
       "3                1           1.70        -73.982101        40.774696   \n",
       "4                1           3.09        -73.999069        40.720173   \n",
       "\n",
       "   RatecodeID store_and_fwd_flag  dropoff_longitude  dropoff_latitude  \\\n",
       "0           1                  N         -73.981842         40.732407   \n",
       "1           1                  N         -73.992035         40.753944   \n",
       "2           1                  N         -73.978371         40.773151   \n",
       "3           1                  Y         -73.970940         40.796707   \n",
       "4           1                  N         -73.973389         40.756561   \n",
       "\n",
       "   payment_type  fare_amount  extra  mta_tax  tip_amount  tolls_amount  \\\n",
       "0             2          7.5    0.5      0.5        0.00           0.0   \n",
       "1             2          9.0    0.5      0.5        0.00           0.0   \n",
       "2             2          7.5    0.5      0.5        0.00           0.0   \n",
       "3             1          7.0    0.5      0.5        1.65           0.0   \n",
       "4             2         14.5    0.5      0.5        0.00           0.0   \n",
       "\n",
       "   improvement_surcharge  total_amount  \n",
       "0                    0.3          8.80  \n",
       "1                    0.3         10.30  \n",
       "2                    0.3          8.80  \n",
       "3                    0.3          9.95  \n",
       "4                    0.3         15.80  "
      ]
     },
     "execution_count": 6,
     "metadata": {},
     "output_type": "execute_result"
    }
   ],
   "source": [
    "q1x_query = f\"\"\"\n",
    "            SELECT * \n",
    "            FROM {TABLE_NAME}\n",
    "            LIMIT 5;\n",
    "            \"\"\"\n",
    "\n",
    "with timeit(): # this query should take less than a second\n",
    "    q1x_df = pd.read_sql(q1x_query, sql_engine)\n",
    "q1x_df.head()"
   ]
  },
  {
   "cell_type": "markdown",
   "metadata": {
    "deletable": false,
    "editable": false,
    "nbgrader": {
     "cell_type": "markdown",
     "checksum": "5038a8a9971a5a4ac9575a3e8d65fe91",
     "grade": false,
     "grade_id": "q1a",
     "locked": true,
     "schema_version": 2,
     "solution": false
    }
   },
   "source": [
    "### Question 1a\n",
    "Select the top 1000 rows from the `taxi` database ordered by descending `total_amount`. Note that this data is real uncleaned data, with all the strange quirks that come from such datasets, e.g. you'll see that the most expensive taxi ride was $153,296.22, which is certainly some sort of error in the data."
   ]
  },
  {
   "cell_type": "code",
   "execution_count": 7,
   "metadata": {
    "ExecuteTime": {
     "end_time": "2018-11-13T00:58:54.598154Z",
     "start_time": "2018-11-13T00:58:37.851661Z"
    },
    "deletable": false,
    "nbgrader": {
     "cell_type": "code",
     "checksum": "67733849cd0786fe5238dc6cb3e7d956",
     "grade": false,
     "grade_id": "q1a-answer",
     "locked": false,
     "schema_version": 2,
     "solution": true
    }
   },
   "outputs": [
    {
     "name": "stdout",
     "output_type": "stream",
     "text": [
      "17.72 s elapsed\n"
     ]
    },
    {
     "data": {
      "text/html": [
       "<div>\n",
       "<style scoped>\n",
       "    .dataframe tbody tr th:only-of-type {\n",
       "        vertical-align: middle;\n",
       "    }\n",
       "\n",
       "    .dataframe tbody tr th {\n",
       "        vertical-align: top;\n",
       "    }\n",
       "\n",
       "    .dataframe thead th {\n",
       "        text-align: right;\n",
       "    }\n",
       "</style>\n",
       "<table border=\"1\" class=\"dataframe\">\n",
       "  <thead>\n",
       "    <tr style=\"text-align: right;\">\n",
       "      <th></th>\n",
       "      <th>record_id</th>\n",
       "      <th>VendorID</th>\n",
       "      <th>tpep_pickup_datetime</th>\n",
       "      <th>tpep_dropoff_datetime</th>\n",
       "      <th>passenger_count</th>\n",
       "      <th>trip_distance</th>\n",
       "      <th>pickup_longitude</th>\n",
       "      <th>pickup_latitude</th>\n",
       "      <th>RatecodeID</th>\n",
       "      <th>store_and_fwd_flag</th>\n",
       "      <th>dropoff_longitude</th>\n",
       "      <th>dropoff_latitude</th>\n",
       "      <th>payment_type</th>\n",
       "      <th>fare_amount</th>\n",
       "      <th>extra</th>\n",
       "      <th>mta_tax</th>\n",
       "      <th>tip_amount</th>\n",
       "      <th>tolls_amount</th>\n",
       "      <th>improvement_surcharge</th>\n",
       "      <th>total_amount</th>\n",
       "    </tr>\n",
       "  </thead>\n",
       "  <tbody>\n",
       "    <tr>\n",
       "      <th>0</th>\n",
       "      <td>15958593</td>\n",
       "      <td>1</td>\n",
       "      <td>2016-02-16 18:20:33</td>\n",
       "      <td>2016-02-16 18:36:33</td>\n",
       "      <td>1</td>\n",
       "      <td>151694.0</td>\n",
       "      <td>-74.015488</td>\n",
       "      <td>40.715931</td>\n",
       "      <td>1</td>\n",
       "      <td>Y</td>\n",
       "      <td>-73.992027</td>\n",
       "      <td>40.730694</td>\n",
       "      <td>2</td>\n",
       "      <td>153231.93</td>\n",
       "      <td>63.99</td>\n",
       "      <td>0.00</td>\n",
       "      <td>0.0</td>\n",
       "      <td>0.00</td>\n",
       "      <td>0.3</td>\n",
       "      <td>153296.22</td>\n",
       "    </tr>\n",
       "    <tr>\n",
       "      <th>1</th>\n",
       "      <td>28810418</td>\n",
       "      <td>1</td>\n",
       "      <td>2016-03-20 11:44:34</td>\n",
       "      <td>2016-03-20 12:03:29</td>\n",
       "      <td>2</td>\n",
       "      <td>131091.4</td>\n",
       "      <td>-73.940979</td>\n",
       "      <td>40.819290</td>\n",
       "      <td>2</td>\n",
       "      <td>N</td>\n",
       "      <td>-73.970802</td>\n",
       "      <td>40.751713</td>\n",
       "      <td>3</td>\n",
       "      <td>126348.88</td>\n",
       "      <td>16.38</td>\n",
       "      <td>1.32</td>\n",
       "      <td>0.0</td>\n",
       "      <td>0.00</td>\n",
       "      <td>0.0</td>\n",
       "      <td>126366.58</td>\n",
       "    </tr>\n",
       "    <tr>\n",
       "      <th>2</th>\n",
       "      <td>63007353</td>\n",
       "      <td>1</td>\n",
       "      <td>2016-06-13 15:06:32</td>\n",
       "      <td>2016-06-13 15:07:36</td>\n",
       "      <td>1</td>\n",
       "      <td>0.0</td>\n",
       "      <td>-73.980293</td>\n",
       "      <td>40.755402</td>\n",
       "      <td>2</td>\n",
       "      <td>N</td>\n",
       "      <td>-73.980103</td>\n",
       "      <td>40.755180</td>\n",
       "      <td>3</td>\n",
       "      <td>8452.00</td>\n",
       "      <td>0.00</td>\n",
       "      <td>0.50</td>\n",
       "      <td>0.0</td>\n",
       "      <td>1.44</td>\n",
       "      <td>0.3</td>\n",
       "      <td>8454.24</td>\n",
       "    </tr>\n",
       "    <tr>\n",
       "      <th>3</th>\n",
       "      <td>58271050</td>\n",
       "      <td>2</td>\n",
       "      <td>2016-05-27 14:38:36</td>\n",
       "      <td>2016-05-27 15:10:15</td>\n",
       "      <td>1</td>\n",
       "      <td>0.0</td>\n",
       "      <td>0.000000</td>\n",
       "      <td>0.000000</td>\n",
       "      <td>1</td>\n",
       "      <td>N</td>\n",
       "      <td>0.000000</td>\n",
       "      <td>0.000000</td>\n",
       "      <td>2</td>\n",
       "      <td>4886.00</td>\n",
       "      <td>0.50</td>\n",
       "      <td>0.50</td>\n",
       "      <td>0.0</td>\n",
       "      <td>0.00</td>\n",
       "      <td>0.3</td>\n",
       "      <td>4887.30</td>\n",
       "    </tr>\n",
       "    <tr>\n",
       "      <th>4</th>\n",
       "      <td>50682006</td>\n",
       "      <td>1</td>\n",
       "      <td>2016-05-11 22:26:52</td>\n",
       "      <td>2016-05-11 22:32:08</td>\n",
       "      <td>1</td>\n",
       "      <td>1.8</td>\n",
       "      <td>0.000000</td>\n",
       "      <td>0.000000</td>\n",
       "      <td>1</td>\n",
       "      <td>N</td>\n",
       "      <td>0.000000</td>\n",
       "      <td>0.000000</td>\n",
       "      <td>3</td>\n",
       "      <td>3006.00</td>\n",
       "      <td>-34.72</td>\n",
       "      <td>35.52</td>\n",
       "      <td>0.0</td>\n",
       "      <td>0.00</td>\n",
       "      <td>0.0</td>\n",
       "      <td>3006.80</td>\n",
       "    </tr>\n",
       "  </tbody>\n",
       "</table>\n",
       "</div>"
      ],
      "text/plain": [
       "   record_id  VendorID tpep_pickup_datetime tpep_dropoff_datetime  \\\n",
       "0   15958593         1  2016-02-16 18:20:33   2016-02-16 18:36:33   \n",
       "1   28810418         1  2016-03-20 11:44:34   2016-03-20 12:03:29   \n",
       "2   63007353         1  2016-06-13 15:06:32   2016-06-13 15:07:36   \n",
       "3   58271050         2  2016-05-27 14:38:36   2016-05-27 15:10:15   \n",
       "4   50682006         1  2016-05-11 22:26:52   2016-05-11 22:32:08   \n",
       "\n",
       "   passenger_count  trip_distance  pickup_longitude  pickup_latitude  \\\n",
       "0                1       151694.0        -74.015488        40.715931   \n",
       "1                2       131091.4        -73.940979        40.819290   \n",
       "2                1            0.0        -73.980293        40.755402   \n",
       "3                1            0.0          0.000000         0.000000   \n",
       "4                1            1.8          0.000000         0.000000   \n",
       "\n",
       "   RatecodeID store_and_fwd_flag  dropoff_longitude  dropoff_latitude  \\\n",
       "0           1                  Y         -73.992027         40.730694   \n",
       "1           2                  N         -73.970802         40.751713   \n",
       "2           2                  N         -73.980103         40.755180   \n",
       "3           1                  N           0.000000          0.000000   \n",
       "4           1                  N           0.000000          0.000000   \n",
       "\n",
       "   payment_type  fare_amount  extra  mta_tax  tip_amount  tolls_amount  \\\n",
       "0             2    153231.93  63.99     0.00         0.0          0.00   \n",
       "1             3    126348.88  16.38     1.32         0.0          0.00   \n",
       "2             3      8452.00   0.00     0.50         0.0          1.44   \n",
       "3             2      4886.00   0.50     0.50         0.0          0.00   \n",
       "4             3      3006.00 -34.72    35.52         0.0          0.00   \n",
       "\n",
       "   improvement_surcharge  total_amount  \n",
       "0                    0.3     153296.22  \n",
       "1                    0.0     126366.58  \n",
       "2                    0.3       8454.24  \n",
       "3                    0.3       4887.30  \n",
       "4                    0.0       3006.80  "
      ]
     },
     "execution_count": 7,
     "metadata": {},
     "output_type": "execute_result"
    }
   ],
   "source": [
    "q1a_query = f\"\"\"\n",
    "            SELECT * \n",
    "            FROM {TABLE_NAME}\n",
    "            ORDER BY total_amount DESC\n",
    "            LIMIT 1000;\n",
    "            \"\"\"\n",
    "\n",
    "# YOUR CODE HERE\n",
    "with timeit(): # This query is expected to run for less than 20 seconds.\n",
    "    q1a_df = pd.read_sql(q1a_query, sql_engine)\n",
    "q1a_df.head()"
   ]
  },
  {
   "cell_type": "code",
   "execution_count": 8,
   "metadata": {
    "ExecuteTime": {
     "end_time": "2018-11-13T00:58:54.603520Z",
     "start_time": "2018-11-13T00:58:54.600856Z"
    },
    "deletable": false,
    "editable": false,
    "nbgrader": {
     "cell_type": "code",
     "checksum": "0a75f0c1859dcfa9df1b15cce433f25d",
     "grade": true,
     "grade_id": "q1a-test",
     "locked": true,
     "points": 1,
     "schema_version": 2,
     "solution": false
    }
   },
   "outputs": [],
   "source": [
    "assert len(q1a_df) == 1000\n",
    "assert q1a_df.loc[0, 'total_amount'] >= q1a_df.loc[999, \"total_amount\"]"
   ]
  },
  {
   "cell_type": "markdown",
   "metadata": {
    "deletable": false,
    "editable": false,
    "nbgrader": {
     "cell_type": "markdown",
     "checksum": "17b11ad1fe742c7765b6695ef0db90bb",
     "grade": false,
     "grade_id": "q1b",
     "locked": true,
     "schema_version": 2,
     "solution": false
    }
   },
   "source": [
    "### Question 1b\n",
    "Get the `mean`, `max` and `min` `total_amount` for each vendor. As above, you'll get strange answers, since finding the min and max of a big uncleaned dataset captures the most extreme outliers. Make sure your query outputs the columns in this exact order."
   ]
  },
  {
   "cell_type": "code",
   "execution_count": 9,
   "metadata": {
    "ExecuteTime": {
     "end_time": "2018-11-13T00:59:09.252541Z",
     "start_time": "2018-11-13T00:58:54.605284Z"
    },
    "deletable": false,
    "nbgrader": {
     "cell_type": "code",
     "checksum": "f5cf5e9f2a92e447f90227c2ff53063e",
     "grade": false,
     "grade_id": "q1b-answer",
     "locked": false,
     "schema_version": 2,
     "solution": true
    }
   },
   "outputs": [
    {
     "name": "stdout",
     "output_type": "stream",
     "text": [
      "8.19 s elapsed\n"
     ]
    },
    {
     "data": {
      "text/html": [
       "<div>\n",
       "<style scoped>\n",
       "    .dataframe tbody tr th:only-of-type {\n",
       "        vertical-align: middle;\n",
       "    }\n",
       "\n",
       "    .dataframe tbody tr th {\n",
       "        vertical-align: top;\n",
       "    }\n",
       "\n",
       "    .dataframe thead th {\n",
       "        text-align: right;\n",
       "    }\n",
       "</style>\n",
       "<table border=\"1\" class=\"dataframe\">\n",
       "  <thead>\n",
       "    <tr style=\"text-align: right;\">\n",
       "      <th></th>\n",
       "      <th>mean</th>\n",
       "      <th>max</th>\n",
       "      <th>min</th>\n",
       "    </tr>\n",
       "  </thead>\n",
       "  <tbody>\n",
       "    <tr>\n",
       "      <th>0</th>\n",
       "      <td>15.981053</td>\n",
       "      <td>153296.22</td>\n",
       "      <td>0.0</td>\n",
       "    </tr>\n",
       "    <tr>\n",
       "      <th>1</th>\n",
       "      <td>16.276753</td>\n",
       "      <td>4887.30</td>\n",
       "      <td>-958.4</td>\n",
       "    </tr>\n",
       "  </tbody>\n",
       "</table>\n",
       "</div>"
      ],
      "text/plain": [
       "        mean        max    min\n",
       "0  15.981053  153296.22    0.0\n",
       "1  16.276753    4887.30 -958.4"
      ]
     },
     "execution_count": 9,
     "metadata": {},
     "output_type": "execute_result"
    }
   ],
   "source": [
    "q1b_query = f\"\"\"\n",
    "            SELECT AVG(total_amount) as mean, \n",
    "            MAX(total_amount) as max, \n",
    "            MIN(total_amount) as min\n",
    "            FROM {TABLE_NAME}\n",
    "            GROUP BY VendorID\n",
    "            \"\"\"\n",
    "\n",
    "# YOUR CODE HERE\n",
    "with timeit(): # This query is expected to run for about 10 seconds.\n",
    "    q1b_df = pd.read_sql_query(q1b_query, sql_engine)\n",
    "q1b_df.head()"
   ]
  },
  {
   "cell_type": "code",
   "execution_count": 10,
   "metadata": {
    "ExecuteTime": {
     "end_time": "2018-11-13T00:59:09.260586Z",
     "start_time": "2018-11-13T00:59:09.256006Z"
    },
    "deletable": false,
    "editable": false,
    "nbgrader": {
     "cell_type": "code",
     "checksum": "6cf0712cc77f5e6042ebd8e0fa73df6d",
     "grade": true,
     "grade_id": "q1b-test",
     "locked": true,
     "points": 1,
     "schema_version": 2,
     "solution": false
    }
   },
   "outputs": [],
   "source": [
    "assert q1b_df.shape == (2, 3)\n",
    "assert 15 < q1b_df.iloc[0, 0] < 17\n",
    "assert q1b_df.iloc[1, 1] == 4887.30\n",
    "assert q1b_df.iloc[1, 2] == -958.4"
   ]
  },
  {
   "cell_type": "markdown",
   "metadata": {
    "deletable": false,
    "editable": false,
    "nbgrader": {
     "cell_type": "markdown",
     "checksum": "feab5a35c19214c0b93bc74abb8d1837",
     "grade": false,
     "grade_id": "q1c",
     "locked": true,
     "schema_version": 2,
     "solution": false
    }
   },
   "source": [
    "### Question 1c\n",
    "Find the total amount paid and pickup time for all rides that started June 28th, 2016, then order the result by total amount in descending order. Again, make sure your query outputs the columns in this exact order.\n",
    "\n",
    "*Hint:* From the schema, note that `tpep_pickup_datetime` is a text field. We're effectively looking for strings that have a start time that comes after `2016-06-28 00:00:00` but before `2016-06-29 00:00:00`."
   ]
  },
  {
   "cell_type": "code",
   "execution_count": 11,
   "metadata": {
    "ExecuteTime": {
     "end_time": "2018-11-13T00:59:13.626141Z",
     "start_time": "2018-11-13T00:59:09.263925Z"
    },
    "deletable": false,
    "nbgrader": {
     "cell_type": "code",
     "checksum": "47862efc8f3ef66d67a5a2076a4ed3be",
     "grade": false,
     "grade_id": "q1c-answer",
     "locked": false,
     "schema_version": 2,
     "solution": true
    }
   },
   "outputs": [
    {
     "name": "stdout",
     "output_type": "stream",
     "text": [
      "2.03 s elapsed\n"
     ]
    },
    {
     "data": {
      "text/html": [
       "<div>\n",
       "<style scoped>\n",
       "    .dataframe tbody tr th:only-of-type {\n",
       "        vertical-align: middle;\n",
       "    }\n",
       "\n",
       "    .dataframe tbody tr th {\n",
       "        vertical-align: top;\n",
       "    }\n",
       "\n",
       "    .dataframe thead th {\n",
       "        text-align: right;\n",
       "    }\n",
       "</style>\n",
       "<table border=\"1\" class=\"dataframe\">\n",
       "  <thead>\n",
       "    <tr style=\"text-align: right;\">\n",
       "      <th></th>\n",
       "      <th>total_amount</th>\n",
       "      <th>tpep_pickup_datetime</th>\n",
       "    </tr>\n",
       "  </thead>\n",
       "  <tbody>\n",
       "    <tr>\n",
       "      <th>0</th>\n",
       "      <td>390.99</td>\n",
       "      <td>2016-06-28 12:23:13</td>\n",
       "    </tr>\n",
       "    <tr>\n",
       "      <th>1</th>\n",
       "      <td>289.12</td>\n",
       "      <td>2016-06-28 15:14:42</td>\n",
       "    </tr>\n",
       "    <tr>\n",
       "      <th>2</th>\n",
       "      <td>286.30</td>\n",
       "      <td>2016-06-28 00:01:13</td>\n",
       "    </tr>\n",
       "    <tr>\n",
       "      <th>3</th>\n",
       "      <td>285.80</td>\n",
       "      <td>2016-06-28 13:34:12</td>\n",
       "    </tr>\n",
       "    <tr>\n",
       "      <th>4</th>\n",
       "      <td>275.30</td>\n",
       "      <td>2016-06-28 21:38:13</td>\n",
       "    </tr>\n",
       "  </tbody>\n",
       "</table>\n",
       "</div>"
      ],
      "text/plain": [
       "   total_amount tpep_pickup_datetime\n",
       "0        390.99  2016-06-28 12:23:13\n",
       "1        289.12  2016-06-28 15:14:42\n",
       "2        286.30  2016-06-28 00:01:13\n",
       "3        285.80  2016-06-28 13:34:12\n",
       "4        275.30  2016-06-28 21:38:13"
      ]
     },
     "execution_count": 11,
     "metadata": {},
     "output_type": "execute_result"
    }
   ],
   "source": [
    "q1c_query = f\"\"\"\n",
    "            SELECT total_amount, tpep_pickup_datetime\n",
    "            FROM {TABLE_NAME}\n",
    "            WHERE tpep_pickup_datetime >= \"2016-06-28\"\n",
    "            AND tpep_pickup_datetime < \"2016-06-29\"\n",
    "            ORDER BY total_amount DESC\n",
    "            \"\"\"\n",
    "\n",
    "# YOUR CODE HERE\n",
    "with timeit(): # This query should take about 3 seconds.\n",
    "    q1c_df = pd.read_sql_query(q1c_query, sql_engine)\n",
    "q1c_df.head()"
   ]
  },
  {
   "cell_type": "code",
   "execution_count": 12,
   "metadata": {
    "ExecuteTime": {
     "end_time": "2018-11-13T00:59:13.630924Z",
     "start_time": "2018-11-13T00:59:13.628099Z"
    },
    "deletable": false,
    "editable": false,
    "nbgrader": {
     "cell_type": "code",
     "checksum": "ce24d3d9a26efcfb22acf7c4114b9c2b",
     "grade": true,
     "grade_id": "q1c-test",
     "locked": true,
     "points": 1,
     "schema_version": 2,
     "solution": false
    }
   },
   "outputs": [],
   "source": [
    "assert q1c_df.iloc[0, 0] == 390.99\n",
    "assert q1c_df.shape == (74857, 2)"
   ]
  },
  {
   "cell_type": "markdown",
   "metadata": {
    "deletable": false,
    "editable": false,
    "nbgrader": {
     "cell_type": "markdown",
     "checksum": "3f60863ded581b9a069b57bd1c27e8b5",
     "grade": false,
     "grade_id": "q1d",
     "locked": true,
     "schema_version": 2,
     "solution": false
    }
   },
   "source": [
    "### Question 1d\n",
    "Find all rides starting in the month of January in the year 2016, selecting only those entries whose `record_id` ends in 00. \n",
    "\n",
    "Note: The rest of our questions in Part 1, Part 2 and Part 3 will be based off of the results of this query. In part 4, you will be to use anything else in the database for fitting a model (more later). Because of its importance for the rest of the assignment, your query must be correct for this question."
   ]
  },
  {
   "cell_type": "code",
   "execution_count": 13,
   "metadata": {
    "ExecuteTime": {
     "end_time": "2018-11-13T00:59:18.752405Z",
     "start_time": "2018-11-13T00:59:13.634940Z"
    },
    "deletable": false,
    "nbgrader": {
     "cell_type": "code",
     "checksum": "eb6ad85ec1dee7e837f74b68f65fdf38",
     "grade": false,
     "grade_id": "q1d-answer",
     "locked": false,
     "schema_version": 2,
     "solution": true
    }
   },
   "outputs": [
    {
     "name": "stdout",
     "output_type": "stream",
     "text": [
      "2.45 s elapsed\n"
     ]
    },
    {
     "data": {
      "text/html": [
       "<div>\n",
       "<style scoped>\n",
       "    .dataframe tbody tr th:only-of-type {\n",
       "        vertical-align: middle;\n",
       "    }\n",
       "\n",
       "    .dataframe tbody tr th {\n",
       "        vertical-align: top;\n",
       "    }\n",
       "\n",
       "    .dataframe thead th {\n",
       "        text-align: right;\n",
       "    }\n",
       "</style>\n",
       "<table border=\"1\" class=\"dataframe\">\n",
       "  <thead>\n",
       "    <tr style=\"text-align: right;\">\n",
       "      <th></th>\n",
       "      <th>record_id</th>\n",
       "      <th>VendorID</th>\n",
       "      <th>tpep_pickup_datetime</th>\n",
       "      <th>tpep_dropoff_datetime</th>\n",
       "      <th>passenger_count</th>\n",
       "      <th>trip_distance</th>\n",
       "      <th>pickup_longitude</th>\n",
       "      <th>pickup_latitude</th>\n",
       "      <th>RatecodeID</th>\n",
       "      <th>store_and_fwd_flag</th>\n",
       "      <th>dropoff_longitude</th>\n",
       "      <th>dropoff_latitude</th>\n",
       "      <th>payment_type</th>\n",
       "      <th>fare_amount</th>\n",
       "      <th>extra</th>\n",
       "      <th>mta_tax</th>\n",
       "      <th>tip_amount</th>\n",
       "      <th>tolls_amount</th>\n",
       "      <th>improvement_surcharge</th>\n",
       "      <th>total_amount</th>\n",
       "    </tr>\n",
       "  </thead>\n",
       "  <tbody>\n",
       "    <tr>\n",
       "      <th>0</th>\n",
       "      <td>37300</td>\n",
       "      <td>1</td>\n",
       "      <td>2016-01-01 00:02:20</td>\n",
       "      <td>2016-01-01 00:11:58</td>\n",
       "      <td>2</td>\n",
       "      <td>1.20</td>\n",
       "      <td>-73.990578</td>\n",
       "      <td>40.732883</td>\n",
       "      <td>1</td>\n",
       "      <td>N</td>\n",
       "      <td>-73.982307</td>\n",
       "      <td>40.747406</td>\n",
       "      <td>2</td>\n",
       "      <td>8.0</td>\n",
       "      <td>0.5</td>\n",
       "      <td>0.5</td>\n",
       "      <td>0.00</td>\n",
       "      <td>0.0</td>\n",
       "      <td>0.3</td>\n",
       "      <td>9.30</td>\n",
       "    </tr>\n",
       "    <tr>\n",
       "      <th>1</th>\n",
       "      <td>37400</td>\n",
       "      <td>1</td>\n",
       "      <td>2016-01-01 00:03:04</td>\n",
       "      <td>2016-01-01 00:28:54</td>\n",
       "      <td>1</td>\n",
       "      <td>5.00</td>\n",
       "      <td>-73.994286</td>\n",
       "      <td>40.749153</td>\n",
       "      <td>1</td>\n",
       "      <td>N</td>\n",
       "      <td>-73.956688</td>\n",
       "      <td>40.747395</td>\n",
       "      <td>1</td>\n",
       "      <td>20.5</td>\n",
       "      <td>0.5</td>\n",
       "      <td>0.5</td>\n",
       "      <td>1.09</td>\n",
       "      <td>0.0</td>\n",
       "      <td>0.3</td>\n",
       "      <td>22.89</td>\n",
       "    </tr>\n",
       "    <tr>\n",
       "      <th>2</th>\n",
       "      <td>37500</td>\n",
       "      <td>2</td>\n",
       "      <td>2016-01-01 00:03:40</td>\n",
       "      <td>2016-01-01 00:12:47</td>\n",
       "      <td>6</td>\n",
       "      <td>2.54</td>\n",
       "      <td>-73.949821</td>\n",
       "      <td>40.785412</td>\n",
       "      <td>1</td>\n",
       "      <td>N</td>\n",
       "      <td>-73.974586</td>\n",
       "      <td>40.758282</td>\n",
       "      <td>1</td>\n",
       "      <td>9.5</td>\n",
       "      <td>0.5</td>\n",
       "      <td>0.5</td>\n",
       "      <td>2.16</td>\n",
       "      <td>0.0</td>\n",
       "      <td>0.3</td>\n",
       "      <td>12.96</td>\n",
       "    </tr>\n",
       "    <tr>\n",
       "      <th>3</th>\n",
       "      <td>37900</td>\n",
       "      <td>2</td>\n",
       "      <td>2016-01-01 00:05:38</td>\n",
       "      <td>2016-01-01 00:10:02</td>\n",
       "      <td>3</td>\n",
       "      <td>0.76</td>\n",
       "      <td>-74.002998</td>\n",
       "      <td>40.739220</td>\n",
       "      <td>1</td>\n",
       "      <td>N</td>\n",
       "      <td>-74.006714</td>\n",
       "      <td>40.744259</td>\n",
       "      <td>2</td>\n",
       "      <td>5.0</td>\n",
       "      <td>0.5</td>\n",
       "      <td>0.5</td>\n",
       "      <td>0.00</td>\n",
       "      <td>0.0</td>\n",
       "      <td>0.3</td>\n",
       "      <td>6.30</td>\n",
       "    </tr>\n",
       "    <tr>\n",
       "      <th>4</th>\n",
       "      <td>38500</td>\n",
       "      <td>1</td>\n",
       "      <td>2016-01-01 00:07:50</td>\n",
       "      <td>2016-01-01 00:23:42</td>\n",
       "      <td>1</td>\n",
       "      <td>2.40</td>\n",
       "      <td>-73.992546</td>\n",
       "      <td>40.766624</td>\n",
       "      <td>1</td>\n",
       "      <td>N</td>\n",
       "      <td>-73.958771</td>\n",
       "      <td>40.763844</td>\n",
       "      <td>1</td>\n",
       "      <td>12.0</td>\n",
       "      <td>0.5</td>\n",
       "      <td>0.5</td>\n",
       "      <td>2.00</td>\n",
       "      <td>0.0</td>\n",
       "      <td>0.3</td>\n",
       "      <td>15.30</td>\n",
       "    </tr>\n",
       "  </tbody>\n",
       "</table>\n",
       "</div>"
      ],
      "text/plain": [
       "   record_id  VendorID tpep_pickup_datetime tpep_dropoff_datetime  \\\n",
       "0      37300         1  2016-01-01 00:02:20   2016-01-01 00:11:58   \n",
       "1      37400         1  2016-01-01 00:03:04   2016-01-01 00:28:54   \n",
       "2      37500         2  2016-01-01 00:03:40   2016-01-01 00:12:47   \n",
       "3      37900         2  2016-01-01 00:05:38   2016-01-01 00:10:02   \n",
       "4      38500         1  2016-01-01 00:07:50   2016-01-01 00:23:42   \n",
       "\n",
       "   passenger_count  trip_distance  pickup_longitude  pickup_latitude  \\\n",
       "0                2           1.20        -73.990578        40.732883   \n",
       "1                1           5.00        -73.994286        40.749153   \n",
       "2                6           2.54        -73.949821        40.785412   \n",
       "3                3           0.76        -74.002998        40.739220   \n",
       "4                1           2.40        -73.992546        40.766624   \n",
       "\n",
       "   RatecodeID store_and_fwd_flag  dropoff_longitude  dropoff_latitude  \\\n",
       "0           1                  N         -73.982307         40.747406   \n",
       "1           1                  N         -73.956688         40.747395   \n",
       "2           1                  N         -73.974586         40.758282   \n",
       "3           1                  N         -74.006714         40.744259   \n",
       "4           1                  N         -73.958771         40.763844   \n",
       "\n",
       "   payment_type  fare_amount  extra  mta_tax  tip_amount  tolls_amount  \\\n",
       "0             2          8.0    0.5      0.5        0.00           0.0   \n",
       "1             1         20.5    0.5      0.5        1.09           0.0   \n",
       "2             1          9.5    0.5      0.5        2.16           0.0   \n",
       "3             2          5.0    0.5      0.5        0.00           0.0   \n",
       "4             1         12.0    0.5      0.5        2.00           0.0   \n",
       "\n",
       "   improvement_surcharge  total_amount  \n",
       "0                    0.3          9.30  \n",
       "1                    0.3         22.89  \n",
       "2                    0.3         12.96  \n",
       "3                    0.3          6.30  \n",
       "4                    0.3         15.30  "
      ]
     },
     "execution_count": 13,
     "metadata": {},
     "output_type": "execute_result"
    }
   ],
   "source": [
    "q1d_query = f\"\"\"\n",
    "            SELECT * \n",
    "            FROM {TABLE_NAME}\n",
    "            WHERE tpep_pickup_datetime\n",
    "                BETWEEN '2016-01-01' AND '2016-02-01'\n",
    "                AND record_id % 100 == 0\n",
    "            ORDER BY tpep_pickup_datetime\n",
    "            \"\"\"\n",
    "\n",
    "# YOUR CODE HERE\n",
    "with timeit(): # This query should take less than 3 second\n",
    "    q1d_df = pd.read_sql_query(q1d_query, sql_engine)\n",
    "q1d_df.head()"
   ]
  },
  {
   "cell_type": "code",
   "execution_count": 14,
   "metadata": {
    "ExecuteTime": {
     "end_time": "2018-11-13T00:59:18.761695Z",
     "start_time": "2018-11-13T00:59:18.756484Z"
    },
    "deletable": false,
    "editable": false,
    "nbgrader": {
     "cell_type": "code",
     "checksum": "d84c3a7731b1d732c25d6034068b17bc",
     "grade": true,
     "grade_id": "q1d-test",
     "locked": true,
     "points": 1,
     "schema_version": 2,
     "solution": false
    }
   },
   "outputs": [],
   "source": [
    "assert q1d_df.iloc[0].loc['tpep_pickup_datetime'] >= \"2016-01-01\"\n",
    "assert q1d_df.iloc[-1].loc['tpep_pickup_datetime'] <= \"2016-02-01\"\n",
    "assert q1d_df.shape == (23674, 20)"
   ]
  },
  {
   "cell_type": "markdown",
   "metadata": {
    "deletable": false,
    "editable": false,
    "nbgrader": {
     "cell_type": "markdown",
     "checksum": "baacd8ed199fc37e925cdfedcfa05917",
     "grade": false,
     "grade_id": "cell-2ed1465369900e6c",
     "locked": true,
     "schema_version": 2,
     "solution": false
    }
   },
   "source": [
    "## Question 2: Data Inspection\n",
    "\n",
    "We will refer to the table generated by Question 1d as `Jan16`. Note that we have not explicitly built a table called `Jan16` in our SQL database. We are instead using `Jan16` to represent the mathematical object that results from Question 1d. Let us now check some basic properties of `Jan16`. We will be addressing the following properties within our dataset:\n",
    "- missing data values\n",
    "- duplicated values\n",
    "- range of duration values\n",
    "- range of latitude and longitude values\n",
    "- range of passenger count values\n",
    "\n",
    "It is good practice to check these properties when presented with a new dataset. There are two ways to check these properties: Approach one is to write SQL queries that directly interact with the database. Approach two is to create a pandas dataframe and use pandas methods. Since you've already gotten similar practice with pandas earlier in the semester, we'll stick with approach one. \n",
    "\n",
    "In the following problems, you'll check these properties using SQL queries. We'll also provide you with the pandas solution so that you can compare with your SQL based solution. In order to be able to provide these pandas solutions, we need to store the result of your `q1d_query` into a dataframe, which we'll call `jan_16_df`."
   ]
  },
  {
   "cell_type": "code",
   "execution_count": 15,
   "metadata": {
    "ExecuteTime": {
     "end_time": "2018-11-13T00:59:24.039234Z",
     "start_time": "2018-11-13T00:59:18.764316Z"
    },
    "deletable": false,
    "editable": false,
    "nbgrader": {
     "cell_type": "code",
     "checksum": "50bb1dfe7d1e0bab1c4d2850dcb913a7",
     "grade": false,
     "grade_id": "cell-bbc74e87d46766ae",
     "locked": true,
     "schema_version": 2,
     "solution": false
    }
   },
   "outputs": [
    {
     "name": "stdout",
     "output_type": "stream",
     "text": [
      "2.42 s elapsed\n"
     ]
    },
    {
     "data": {
      "text/html": [
       "<div>\n",
       "<style scoped>\n",
       "    .dataframe tbody tr th:only-of-type {\n",
       "        vertical-align: middle;\n",
       "    }\n",
       "\n",
       "    .dataframe tbody tr th {\n",
       "        vertical-align: top;\n",
       "    }\n",
       "\n",
       "    .dataframe thead th {\n",
       "        text-align: right;\n",
       "    }\n",
       "</style>\n",
       "<table border=\"1\" class=\"dataframe\">\n",
       "  <thead>\n",
       "    <tr style=\"text-align: right;\">\n",
       "      <th></th>\n",
       "      <th>record_id</th>\n",
       "      <th>VendorID</th>\n",
       "      <th>tpep_pickup_datetime</th>\n",
       "      <th>tpep_dropoff_datetime</th>\n",
       "      <th>passenger_count</th>\n",
       "      <th>trip_distance</th>\n",
       "      <th>pickup_longitude</th>\n",
       "      <th>pickup_latitude</th>\n",
       "      <th>RatecodeID</th>\n",
       "      <th>store_and_fwd_flag</th>\n",
       "      <th>dropoff_longitude</th>\n",
       "      <th>dropoff_latitude</th>\n",
       "      <th>payment_type</th>\n",
       "      <th>fare_amount</th>\n",
       "      <th>extra</th>\n",
       "      <th>mta_tax</th>\n",
       "      <th>tip_amount</th>\n",
       "      <th>tolls_amount</th>\n",
       "      <th>improvement_surcharge</th>\n",
       "      <th>total_amount</th>\n",
       "    </tr>\n",
       "  </thead>\n",
       "  <tbody>\n",
       "    <tr>\n",
       "      <th>0</th>\n",
       "      <td>37300</td>\n",
       "      <td>1</td>\n",
       "      <td>2016-01-01 00:02:20</td>\n",
       "      <td>2016-01-01 00:11:58</td>\n",
       "      <td>2</td>\n",
       "      <td>1.20</td>\n",
       "      <td>-73.990578</td>\n",
       "      <td>40.732883</td>\n",
       "      <td>1</td>\n",
       "      <td>N</td>\n",
       "      <td>-73.982307</td>\n",
       "      <td>40.747406</td>\n",
       "      <td>2</td>\n",
       "      <td>8.0</td>\n",
       "      <td>0.5</td>\n",
       "      <td>0.5</td>\n",
       "      <td>0.00</td>\n",
       "      <td>0.0</td>\n",
       "      <td>0.3</td>\n",
       "      <td>9.30</td>\n",
       "    </tr>\n",
       "    <tr>\n",
       "      <th>1</th>\n",
       "      <td>37400</td>\n",
       "      <td>1</td>\n",
       "      <td>2016-01-01 00:03:04</td>\n",
       "      <td>2016-01-01 00:28:54</td>\n",
       "      <td>1</td>\n",
       "      <td>5.00</td>\n",
       "      <td>-73.994286</td>\n",
       "      <td>40.749153</td>\n",
       "      <td>1</td>\n",
       "      <td>N</td>\n",
       "      <td>-73.956688</td>\n",
       "      <td>40.747395</td>\n",
       "      <td>1</td>\n",
       "      <td>20.5</td>\n",
       "      <td>0.5</td>\n",
       "      <td>0.5</td>\n",
       "      <td>1.09</td>\n",
       "      <td>0.0</td>\n",
       "      <td>0.3</td>\n",
       "      <td>22.89</td>\n",
       "    </tr>\n",
       "    <tr>\n",
       "      <th>2</th>\n",
       "      <td>37500</td>\n",
       "      <td>2</td>\n",
       "      <td>2016-01-01 00:03:40</td>\n",
       "      <td>2016-01-01 00:12:47</td>\n",
       "      <td>6</td>\n",
       "      <td>2.54</td>\n",
       "      <td>-73.949821</td>\n",
       "      <td>40.785412</td>\n",
       "      <td>1</td>\n",
       "      <td>N</td>\n",
       "      <td>-73.974586</td>\n",
       "      <td>40.758282</td>\n",
       "      <td>1</td>\n",
       "      <td>9.5</td>\n",
       "      <td>0.5</td>\n",
       "      <td>0.5</td>\n",
       "      <td>2.16</td>\n",
       "      <td>0.0</td>\n",
       "      <td>0.3</td>\n",
       "      <td>12.96</td>\n",
       "    </tr>\n",
       "    <tr>\n",
       "      <th>3</th>\n",
       "      <td>37900</td>\n",
       "      <td>2</td>\n",
       "      <td>2016-01-01 00:05:38</td>\n",
       "      <td>2016-01-01 00:10:02</td>\n",
       "      <td>3</td>\n",
       "      <td>0.76</td>\n",
       "      <td>-74.002998</td>\n",
       "      <td>40.739220</td>\n",
       "      <td>1</td>\n",
       "      <td>N</td>\n",
       "      <td>-74.006714</td>\n",
       "      <td>40.744259</td>\n",
       "      <td>2</td>\n",
       "      <td>5.0</td>\n",
       "      <td>0.5</td>\n",
       "      <td>0.5</td>\n",
       "      <td>0.00</td>\n",
       "      <td>0.0</td>\n",
       "      <td>0.3</td>\n",
       "      <td>6.30</td>\n",
       "    </tr>\n",
       "    <tr>\n",
       "      <th>4</th>\n",
       "      <td>38500</td>\n",
       "      <td>1</td>\n",
       "      <td>2016-01-01 00:07:50</td>\n",
       "      <td>2016-01-01 00:23:42</td>\n",
       "      <td>1</td>\n",
       "      <td>2.40</td>\n",
       "      <td>-73.992546</td>\n",
       "      <td>40.766624</td>\n",
       "      <td>1</td>\n",
       "      <td>N</td>\n",
       "      <td>-73.958771</td>\n",
       "      <td>40.763844</td>\n",
       "      <td>1</td>\n",
       "      <td>12.0</td>\n",
       "      <td>0.5</td>\n",
       "      <td>0.5</td>\n",
       "      <td>2.00</td>\n",
       "      <td>0.0</td>\n",
       "      <td>0.3</td>\n",
       "      <td>15.30</td>\n",
       "    </tr>\n",
       "  </tbody>\n",
       "</table>\n",
       "</div>"
      ],
      "text/plain": [
       "   record_id  VendorID tpep_pickup_datetime tpep_dropoff_datetime  \\\n",
       "0      37300         1  2016-01-01 00:02:20   2016-01-01 00:11:58   \n",
       "1      37400         1  2016-01-01 00:03:04   2016-01-01 00:28:54   \n",
       "2      37500         2  2016-01-01 00:03:40   2016-01-01 00:12:47   \n",
       "3      37900         2  2016-01-01 00:05:38   2016-01-01 00:10:02   \n",
       "4      38500         1  2016-01-01 00:07:50   2016-01-01 00:23:42   \n",
       "\n",
       "   passenger_count  trip_distance  pickup_longitude  pickup_latitude  \\\n",
       "0                2           1.20        -73.990578        40.732883   \n",
       "1                1           5.00        -73.994286        40.749153   \n",
       "2                6           2.54        -73.949821        40.785412   \n",
       "3                3           0.76        -74.002998        40.739220   \n",
       "4                1           2.40        -73.992546        40.766624   \n",
       "\n",
       "   RatecodeID store_and_fwd_flag  dropoff_longitude  dropoff_latitude  \\\n",
       "0           1                  N         -73.982307         40.747406   \n",
       "1           1                  N         -73.956688         40.747395   \n",
       "2           1                  N         -73.974586         40.758282   \n",
       "3           1                  N         -74.006714         40.744259   \n",
       "4           1                  N         -73.958771         40.763844   \n",
       "\n",
       "   payment_type  fare_amount  extra  mta_tax  tip_amount  tolls_amount  \\\n",
       "0             2          8.0    0.5      0.5        0.00           0.0   \n",
       "1             1         20.5    0.5      0.5        1.09           0.0   \n",
       "2             1          9.5    0.5      0.5        2.16           0.0   \n",
       "3             2          5.0    0.5      0.5        0.00           0.0   \n",
       "4             1         12.0    0.5      0.5        2.00           0.0   \n",
       "\n",
       "   improvement_surcharge  total_amount  \n",
       "0                    0.3          9.30  \n",
       "1                    0.3         22.89  \n",
       "2                    0.3         12.96  \n",
       "3                    0.3          6.30  \n",
       "4                    0.3         15.30  "
      ]
     },
     "execution_count": 15,
     "metadata": {},
     "output_type": "execute_result"
    }
   ],
   "source": [
    "with timeit(): # less than 3 seconds\n",
    "    jan_16_df = pd.read_sql_query(q1d_query, sql_engine)\n",
    "jan_16_df['tpep_pickup_datetime'] = pd.to_datetime(jan_16_df['tpep_pickup_datetime'])\n",
    "jan_16_df['tpep_dropoff_datetime'] = pd.to_datetime(jan_16_df['tpep_dropoff_datetime'])\n",
    "jan_16_df.head()"
   ]
  },
  {
   "cell_type": "markdown",
   "metadata": {
    "deletable": false,
    "editable": false,
    "nbgrader": {
     "cell_type": "markdown",
     "checksum": "6258b03c770302766bc999969df0c7bf",
     "grade": false,
     "grade_id": "cell-bbf693980f853c12",
     "locked": true,
     "schema_version": 2,
     "solution": false
    }
   },
   "source": [
    "For the remaining questions in part 1, you'll be using nested queries. For example, the nested query below selects all rides with passenger count equal to 2 from `Jan16`. Reminder that Python automatically replaces the `\"q1d_query\"` in `temporary_table_query_example` with the contents of the string variable named `q1d_query`."
   ]
  },
  {
   "cell_type": "code",
   "execution_count": 16,
   "metadata": {
    "deletable": false,
    "editable": false,
    "nbgrader": {
     "cell_type": "code",
     "checksum": "d3ade99c90d9691fb62907d8b1be6a93",
     "grade": false,
     "grade_id": "cell-b0d30d16eb4609d3",
     "locked": true,
     "schema_version": 2,
     "solution": false
    }
   },
   "outputs": [
    {
     "name": "stdout",
     "output_type": "stream",
     "text": [
      "\n",
      "SELECT *\n",
      "FROM (\n",
      "            SELECT * \n",
      "            FROM taxi\n",
      "            WHERE tpep_pickup_datetime\n",
      "                BETWEEN '2016-01-01' AND '2016-02-01'\n",
      "                AND record_id % 100 == 0\n",
      "            ORDER BY tpep_pickup_datetime\n",
      "            )\n",
      "WHERE passenger_count = 2;\n"
     ]
    }
   ],
   "source": [
    "# Jan16 to dataframe using temporary table\n",
    "temporary_table_query_example = f\"\"\"\n",
    "SELECT *\n",
    "FROM ({q1d_query})\n",
    "WHERE passenger_count = 2;\"\"\"\n",
    "print(temporary_table_query_example)"
   ]
  },
  {
   "cell_type": "markdown",
   "metadata": {
    "deletable": false,
    "editable": false,
    "nbgrader": {
     "cell_type": "markdown",
     "checksum": "fff86243efcc9e358fe3fd43fc9d0dab",
     "grade": false,
     "grade_id": "cell-037580655d4c124b",
     "locked": true,
     "schema_version": 2,
     "solution": false
    }
   },
   "source": [
    "The cell below executes this nested query."
   ]
  },
  {
   "cell_type": "code",
   "execution_count": 17,
   "metadata": {
    "deletable": false,
    "editable": false,
    "nbgrader": {
     "cell_type": "code",
     "checksum": "fe5175aa5e907268f9f6842acef181f3",
     "grade": false,
     "grade_id": "cell-51059f057b90abbe",
     "locked": true,
     "schema_version": 2,
     "solution": false
    }
   },
   "outputs": [
    {
     "name": "stdout",
     "output_type": "stream",
     "text": [
      "2.28 s elapsed\n"
     ]
    }
   ],
   "source": [
    "with timeit(): # less than 3 seconds\n",
    "    pd.read_sql_query(temporary_table_query_example, sql_engine)"
   ]
  },
  {
   "cell_type": "markdown",
   "metadata": {
    "deletable": false,
    "editable": false,
    "nbgrader": {
     "cell_type": "markdown",
     "checksum": "91a2d036166c15aa9ab683638bc31e08",
     "grade": false,
     "grade_id": "q2a",
     "locked": true,
     "schema_version": 2,
     "solution": false
    }
   },
   "source": [
    "#### Question 2a\n",
    "\n",
    "Write a SQL query to check if `Jan16` contains any missing values. Unfortunately, in this table, missing values are *not* specified with NaN nor empty strings. For example, take a look at record ID 136700. What do you observe about the location information?  \n",
    "\n",
    "Write a SQL query `q2a_query` that collects all rows that have a missing `tpep_pickup_datetime`, `tpep_dropoff_datetime`, `pickup_longitude`, or `pickup_latitude`. Then set `number_of_rows_with_missing_values` to the number of rows that have at least one missing value.\n",
    "\n",
    "In pandas, we could use boolean indexing to filter out these values."
   ]
  },
  {
   "cell_type": "code",
   "execution_count": 18,
   "metadata": {
    "ExecuteTime": {
     "end_time": "2018-11-13T00:59:24.075128Z",
     "start_time": "2018-11-13T00:59:24.041350Z"
    },
    "deletable": false,
    "editable": false,
    "nbgrader": {
     "cell_type": "code",
     "checksum": "aaeb35c1d96127afc02a12fde2b4352d",
     "grade": false,
     "grade_id": "cell-8685ab2a78e67042",
     "locked": true,
     "schema_version": 2,
     "solution": false
    }
   },
   "outputs": [
    {
     "data": {
      "text/html": [
       "<div>\n",
       "<style scoped>\n",
       "    .dataframe tbody tr th:only-of-type {\n",
       "        vertical-align: middle;\n",
       "    }\n",
       "\n",
       "    .dataframe tbody tr th {\n",
       "        vertical-align: top;\n",
       "    }\n",
       "\n",
       "    .dataframe thead th {\n",
       "        text-align: right;\n",
       "    }\n",
       "</style>\n",
       "<table border=\"1\" class=\"dataframe\">\n",
       "  <thead>\n",
       "    <tr style=\"text-align: right;\">\n",
       "      <th></th>\n",
       "      <th>record_id</th>\n",
       "      <th>VendorID</th>\n",
       "      <th>tpep_pickup_datetime</th>\n",
       "      <th>tpep_dropoff_datetime</th>\n",
       "      <th>passenger_count</th>\n",
       "      <th>trip_distance</th>\n",
       "      <th>pickup_longitude</th>\n",
       "      <th>pickup_latitude</th>\n",
       "      <th>RatecodeID</th>\n",
       "      <th>store_and_fwd_flag</th>\n",
       "      <th>dropoff_longitude</th>\n",
       "      <th>dropoff_latitude</th>\n",
       "      <th>payment_type</th>\n",
       "      <th>fare_amount</th>\n",
       "      <th>extra</th>\n",
       "      <th>mta_tax</th>\n",
       "      <th>tip_amount</th>\n",
       "      <th>tolls_amount</th>\n",
       "      <th>improvement_surcharge</th>\n",
       "      <th>total_amount</th>\n",
       "    </tr>\n",
       "  </thead>\n",
       "  <tbody>\n",
       "    <tr>\n",
       "      <th>0</th>\n",
       "      <td>136700</td>\n",
       "      <td>1</td>\n",
       "      <td>2016-01-01 03:13:07</td>\n",
       "      <td>2016-01-01 03:28:48</td>\n",
       "      <td>1</td>\n",
       "      <td>3.3</td>\n",
       "      <td>0.0</td>\n",
       "      <td>0.0</td>\n",
       "      <td>1</td>\n",
       "      <td>N</td>\n",
       "      <td>-73.978462</td>\n",
       "      <td>40.783058</td>\n",
       "      <td>1</td>\n",
       "      <td>13.5</td>\n",
       "      <td>0.5</td>\n",
       "      <td>0.5</td>\n",
       "      <td>2.95</td>\n",
       "      <td>0.0</td>\n",
       "      <td>0.3</td>\n",
       "      <td>17.75</td>\n",
       "    </tr>\n",
       "  </tbody>\n",
       "</table>\n",
       "</div>"
      ],
      "text/plain": [
       "   record_id  VendorID tpep_pickup_datetime tpep_dropoff_datetime  \\\n",
       "0     136700         1  2016-01-01 03:13:07   2016-01-01 03:28:48   \n",
       "\n",
       "   passenger_count  trip_distance  pickup_longitude  pickup_latitude  \\\n",
       "0                1            3.3               0.0              0.0   \n",
       "\n",
       "   RatecodeID store_and_fwd_flag  dropoff_longitude  dropoff_latitude  \\\n",
       "0           1                  N         -73.978462         40.783058   \n",
       "\n",
       "   payment_type  fare_amount  extra  mta_tax  tip_amount  tolls_amount  \\\n",
       "0             1         13.5    0.5      0.5        2.95           0.0   \n",
       "\n",
       "   improvement_surcharge  total_amount  \n",
       "0                    0.3         17.75  "
      ]
     },
     "execution_count": 18,
     "metadata": {},
     "output_type": "execute_result"
    }
   ],
   "source": [
    "# Inspecting record 136700 for your convience.\n",
    "\n",
    "pd.read_sql_query(f\"\"\"\n",
    "SELECT * \n",
    "FROM {TABLE_NAME} \n",
    "WHERE record_id = 136700\n",
    "\"\"\", sql_engine)"
   ]
  },
  {
   "cell_type": "code",
   "execution_count": 19,
   "metadata": {},
   "outputs": [
    {
     "name": "stdout",
     "output_type": "stream",
     "text": [
      "True\n",
      "True\n"
     ]
    }
   ],
   "source": [
    "# Determine whether there are missing values in 'tpep_pickup_datetime'\n",
    "# and 'tpep_dropoff_datetime'\n",
    "pickup_val_query = f\"\"\"\n",
    "            SELECT *\n",
    "            FROM ({q1d_query})\n",
    "            WHERE tpep_pickup_datetime LIKE '2016%'\n",
    "            \"\"\"\n",
    "dropoff_val_query = f\"\"\"\n",
    "            SELECT *\n",
    "            FROM ({q1d_query})\n",
    "            WHERE tpep_dropoff_datetime LIKE '2016%'\n",
    "            \"\"\"\n",
    "print(len(jan_16_df) == len(pd.read_sql_query(pickup_val_query, sql_engine)))\n",
    "print(len(jan_16_df) == len(pd.read_sql_query(dropoff_val_query, sql_engine)))"
   ]
  },
  {
   "cell_type": "code",
   "execution_count": 20,
   "metadata": {},
   "outputs": [
    {
     "name": "stdout",
     "output_type": "stream",
     "text": [
      "  tpep_pickup_datetime  count_pickup\n",
      "0  2016-01-04 12:27:58             2\n",
      "1  2016-01-05 12:48:10             2\n",
      "2  2016-01-05 17:47:01             2\n",
      "  tpep_dropoff_datetime  count_dropoff\n",
      "0   2016-01-01 00:53:23              2\n",
      "1   2016-01-01 03:41:00              2\n",
      "2   2016-01-01 16:04:48              2\n"
     ]
    }
   ],
   "source": [
    "# Another validation\n",
    "# We can just check if there are several datetime values are\n",
    "# specified as NAN or zero etc.\n",
    "pickup_val2_query = f\"\"\"\n",
    "            SELECT tpep_pickup_datetime,\n",
    "            COUNT(*) AS count_pickup\n",
    "            FROM ({q1d_query})\n",
    "            GROUP BY tpep_pickup_datetime\n",
    "            ORDER BY count_pickup DESC\n",
    "            LIMIT 3\n",
    "            \"\"\"\n",
    "dropoff_val2_query = f\"\"\"\n",
    "            SELECT tpep_dropoff_datetime,\n",
    "            COUNT(*) AS count_dropoff\n",
    "            FROM ({q1d_query})\n",
    "            GROUP BY tpep_dropoff_datetime\n",
    "            ORDER BY count_dropoff DESC\n",
    "            LIMIT 3\n",
    "            \"\"\"\n",
    "print(pd.read_sql_query(pickup_val2_query, sql_engine))\n",
    "print(pd.read_sql_query(dropoff_val2_query, sql_engine))"
   ]
  },
  {
   "cell_type": "markdown",
   "metadata": {},
   "source": [
    "According to the above validation, we may conclude that there is no missing value in 'tpep_pickup_datetime' and 'tpep_dropoff_datetime'."
   ]
  },
  {
   "cell_type": "code",
   "execution_count": 21,
   "metadata": {
    "ExecuteTime": {
     "end_time": "2018-11-13T00:59:28.829409Z",
     "start_time": "2018-11-13T00:59:24.078085Z"
    },
    "deletable": false,
    "nbgrader": {
     "cell_type": "code",
     "checksum": "00e2a5ff1bd25381640d1886794dde04",
     "grade": false,
     "grade_id": "q2a-answer",
     "locked": false,
     "schema_version": 2,
     "solution": true
    }
   },
   "outputs": [
    {
     "name": "stdout",
     "output_type": "stream",
     "text": [
      "371\n",
      "2.30 s elapsed\n"
     ]
    },
    {
     "data": {
      "text/html": [
       "<div>\n",
       "<style scoped>\n",
       "    .dataframe tbody tr th:only-of-type {\n",
       "        vertical-align: middle;\n",
       "    }\n",
       "\n",
       "    .dataframe tbody tr th {\n",
       "        vertical-align: top;\n",
       "    }\n",
       "\n",
       "    .dataframe thead th {\n",
       "        text-align: right;\n",
       "    }\n",
       "</style>\n",
       "<table border=\"1\" class=\"dataframe\">\n",
       "  <thead>\n",
       "    <tr style=\"text-align: right;\">\n",
       "      <th></th>\n",
       "      <th>record_id</th>\n",
       "      <th>VendorID</th>\n",
       "      <th>tpep_pickup_datetime</th>\n",
       "      <th>tpep_dropoff_datetime</th>\n",
       "      <th>passenger_count</th>\n",
       "      <th>trip_distance</th>\n",
       "      <th>pickup_longitude</th>\n",
       "      <th>pickup_latitude</th>\n",
       "      <th>RatecodeID</th>\n",
       "      <th>store_and_fwd_flag</th>\n",
       "      <th>dropoff_longitude</th>\n",
       "      <th>dropoff_latitude</th>\n",
       "      <th>payment_type</th>\n",
       "      <th>fare_amount</th>\n",
       "      <th>extra</th>\n",
       "      <th>mta_tax</th>\n",
       "      <th>tip_amount</th>\n",
       "      <th>tolls_amount</th>\n",
       "      <th>improvement_surcharge</th>\n",
       "      <th>total_amount</th>\n",
       "    </tr>\n",
       "  </thead>\n",
       "  <tbody>\n",
       "    <tr>\n",
       "      <th>0</th>\n",
       "      <td>136700</td>\n",
       "      <td>1</td>\n",
       "      <td>2016-01-01 03:13:07</td>\n",
       "      <td>2016-01-01 03:28:48</td>\n",
       "      <td>1</td>\n",
       "      <td>3.30</td>\n",
       "      <td>0.0</td>\n",
       "      <td>0.0</td>\n",
       "      <td>1</td>\n",
       "      <td>N</td>\n",
       "      <td>-73.978462</td>\n",
       "      <td>40.783058</td>\n",
       "      <td>1</td>\n",
       "      <td>13.5</td>\n",
       "      <td>0.5</td>\n",
       "      <td>0.5</td>\n",
       "      <td>2.95</td>\n",
       "      <td>0.0</td>\n",
       "      <td>0.3</td>\n",
       "      <td>17.75</td>\n",
       "    </tr>\n",
       "    <tr>\n",
       "      <th>1</th>\n",
       "      <td>216000</td>\n",
       "      <td>1</td>\n",
       "      <td>2016-01-01 11:46:23</td>\n",
       "      <td>2016-01-01 11:57:50</td>\n",
       "      <td>4</td>\n",
       "      <td>3.50</td>\n",
       "      <td>0.0</td>\n",
       "      <td>0.0</td>\n",
       "      <td>1</td>\n",
       "      <td>N</td>\n",
       "      <td>0.000000</td>\n",
       "      <td>0.000000</td>\n",
       "      <td>1</td>\n",
       "      <td>12.5</td>\n",
       "      <td>0.0</td>\n",
       "      <td>0.5</td>\n",
       "      <td>2.00</td>\n",
       "      <td>0.0</td>\n",
       "      <td>0.3</td>\n",
       "      <td>15.30</td>\n",
       "    </tr>\n",
       "    <tr>\n",
       "      <th>2</th>\n",
       "      <td>228400</td>\n",
       "      <td>2</td>\n",
       "      <td>2016-01-01 12:40:12</td>\n",
       "      <td>2016-01-01 12:46:35</td>\n",
       "      <td>1</td>\n",
       "      <td>1.11</td>\n",
       "      <td>0.0</td>\n",
       "      <td>0.0</td>\n",
       "      <td>1</td>\n",
       "      <td>N</td>\n",
       "      <td>0.000000</td>\n",
       "      <td>0.000000</td>\n",
       "      <td>2</td>\n",
       "      <td>6.5</td>\n",
       "      <td>0.0</td>\n",
       "      <td>0.5</td>\n",
       "      <td>0.00</td>\n",
       "      <td>0.0</td>\n",
       "      <td>0.3</td>\n",
       "      <td>7.30</td>\n",
       "    </tr>\n",
       "    <tr>\n",
       "      <th>3</th>\n",
       "      <td>340400</td>\n",
       "      <td>2</td>\n",
       "      <td>2016-01-01 19:37:19</td>\n",
       "      <td>2016-01-01 20:17:57</td>\n",
       "      <td>5</td>\n",
       "      <td>20.86</td>\n",
       "      <td>0.0</td>\n",
       "      <td>0.0</td>\n",
       "      <td>2</td>\n",
       "      <td>N</td>\n",
       "      <td>0.000000</td>\n",
       "      <td>0.000000</td>\n",
       "      <td>1</td>\n",
       "      <td>52.0</td>\n",
       "      <td>0.0</td>\n",
       "      <td>0.5</td>\n",
       "      <td>10.56</td>\n",
       "      <td>0.0</td>\n",
       "      <td>0.3</td>\n",
       "      <td>63.36</td>\n",
       "    </tr>\n",
       "    <tr>\n",
       "      <th>4</th>\n",
       "      <td>360600</td>\n",
       "      <td>1</td>\n",
       "      <td>2016-01-01 21:06:29</td>\n",
       "      <td>2016-01-01 21:09:41</td>\n",
       "      <td>1</td>\n",
       "      <td>0.70</td>\n",
       "      <td>0.0</td>\n",
       "      <td>0.0</td>\n",
       "      <td>1</td>\n",
       "      <td>N</td>\n",
       "      <td>0.000000</td>\n",
       "      <td>0.000000</td>\n",
       "      <td>2</td>\n",
       "      <td>4.5</td>\n",
       "      <td>0.5</td>\n",
       "      <td>0.5</td>\n",
       "      <td>0.00</td>\n",
       "      <td>0.0</td>\n",
       "      <td>0.3</td>\n",
       "      <td>5.80</td>\n",
       "    </tr>\n",
       "  </tbody>\n",
       "</table>\n",
       "</div>"
      ],
      "text/plain": [
       "   record_id  VendorID tpep_pickup_datetime tpep_dropoff_datetime  \\\n",
       "0     136700         1  2016-01-01 03:13:07   2016-01-01 03:28:48   \n",
       "1     216000         1  2016-01-01 11:46:23   2016-01-01 11:57:50   \n",
       "2     228400         2  2016-01-01 12:40:12   2016-01-01 12:46:35   \n",
       "3     340400         2  2016-01-01 19:37:19   2016-01-01 20:17:57   \n",
       "4     360600         1  2016-01-01 21:06:29   2016-01-01 21:09:41   \n",
       "\n",
       "   passenger_count  trip_distance  pickup_longitude  pickup_latitude  \\\n",
       "0                1           3.30               0.0              0.0   \n",
       "1                4           3.50               0.0              0.0   \n",
       "2                1           1.11               0.0              0.0   \n",
       "3                5          20.86               0.0              0.0   \n",
       "4                1           0.70               0.0              0.0   \n",
       "\n",
       "   RatecodeID store_and_fwd_flag  dropoff_longitude  dropoff_latitude  \\\n",
       "0           1                  N         -73.978462         40.783058   \n",
       "1           1                  N           0.000000          0.000000   \n",
       "2           1                  N           0.000000          0.000000   \n",
       "3           2                  N           0.000000          0.000000   \n",
       "4           1                  N           0.000000          0.000000   \n",
       "\n",
       "   payment_type  fare_amount  extra  mta_tax  tip_amount  tolls_amount  \\\n",
       "0             1         13.5    0.5      0.5        2.95           0.0   \n",
       "1             1         12.5    0.0      0.5        2.00           0.0   \n",
       "2             2          6.5    0.0      0.5        0.00           0.0   \n",
       "3             1         52.0    0.0      0.5       10.56           0.0   \n",
       "4             2          4.5    0.5      0.5        0.00           0.0   \n",
       "\n",
       "   improvement_surcharge  total_amount  \n",
       "0                    0.3         17.75  \n",
       "1                    0.3         15.30  \n",
       "2                    0.3          7.30  \n",
       "3                    0.3         63.36  \n",
       "4                    0.3          5.80  "
      ]
     },
     "execution_count": 21,
     "metadata": {},
     "output_type": "execute_result"
    }
   ],
   "source": [
    "q2a_query = f\"\"\"\n",
    "            SELECT *\n",
    "            FROM ({q1d_query})\n",
    "            WHERE pickup_longitude = 0.0\n",
    "            OR pickup_latitude = 0.0\n",
    "            OR tpep_pickup_datetime = '0'\n",
    "            OR tpep_dropoff_datetime = '0'\n",
    "            \"\"\"\n",
    "\n",
    "number_of_rows_with_missing_values = len(pd.read_sql_query(q2a_query, sql_engine))\n",
    "print(number_of_rows_with_missing_values)\n",
    "# YOUR CODE HERE\n",
    "\n",
    "with timeit(): # Should take < 3 seconds\n",
    "    q2a_df = pd.read_sql_query(q2a_query, sql_engine)\n",
    "q2a_df.head()"
   ]
  },
  {
   "cell_type": "code",
   "execution_count": 22,
   "metadata": {
    "ExecuteTime": {
     "end_time": "2018-11-13T00:59:28.836470Z",
     "start_time": "2018-11-13T00:59:28.833003Z"
    },
    "deletable": false,
    "editable": false,
    "nbgrader": {
     "cell_type": "code",
     "checksum": "a49b08977239023fb2e928657426fec3",
     "grade": true,
     "grade_id": "q2a-test",
     "locked": true,
     "points": 2,
     "schema_version": 2,
     "solution": false
    }
   },
   "outputs": [],
   "source": [
    "# Hidden Test "
   ]
  },
  {
   "cell_type": "markdown",
   "metadata": {
    "deletable": false,
    "editable": false,
    "nbgrader": {
     "cell_type": "markdown",
     "checksum": "937dbc7e4e902058d3ac52f483993f4c",
     "grade": false,
     "grade_id": "cell-7b72044e4245136f",
     "locked": true,
     "schema_version": 2,
     "solution": false
    }
   },
   "source": [
    "### Question 2b\n",
    "\n",
    "Write a SQL query `q2b_query` to help determine if there are any duplicate records in `Jan16`. Set the boolean `has_duplicates` variable to `True` or `False` based on what you learn. You may use `len(jan_16_df)` in your solution.\n",
    "\n",
    "For comparison, approach two (pandas) for duplicate checking looks like `num_duplicates = jan_16_df.duplicated(subset=jan_16_df.columns).sum()`."
   ]
  },
  {
   "cell_type": "code",
   "execution_count": 23,
   "metadata": {
    "ExecuteTime": {
     "end_time": "2018-11-13T00:59:33.267758Z",
     "start_time": "2018-11-13T00:59:28.839639Z"
    },
    "deletable": false,
    "nbgrader": {
     "cell_type": "code",
     "checksum": "31333d1da581f8d4758a0a1d445c0cb5",
     "grade": false,
     "grade_id": "q2b-answer",
     "locked": false,
     "schema_version": 2,
     "solution": true
    }
   },
   "outputs": [
    {
     "name": "stdout",
     "output_type": "stream",
     "text": [
      "23674\n",
      "2.43 s elapsed\n"
     ]
    },
    {
     "data": {
      "text/html": [
       "<div>\n",
       "<style scoped>\n",
       "    .dataframe tbody tr th:only-of-type {\n",
       "        vertical-align: middle;\n",
       "    }\n",
       "\n",
       "    .dataframe tbody tr th {\n",
       "        vertical-align: top;\n",
       "    }\n",
       "\n",
       "    .dataframe thead th {\n",
       "        text-align: right;\n",
       "    }\n",
       "</style>\n",
       "<table border=\"1\" class=\"dataframe\">\n",
       "  <thead>\n",
       "    <tr style=\"text-align: right;\">\n",
       "      <th></th>\n",
       "      <th>record_id</th>\n",
       "      <th>VendorID</th>\n",
       "      <th>tpep_pickup_datetime</th>\n",
       "      <th>tpep_dropoff_datetime</th>\n",
       "      <th>passenger_count</th>\n",
       "      <th>trip_distance</th>\n",
       "      <th>pickup_longitude</th>\n",
       "      <th>pickup_latitude</th>\n",
       "      <th>RatecodeID</th>\n",
       "      <th>store_and_fwd_flag</th>\n",
       "      <th>dropoff_longitude</th>\n",
       "      <th>dropoff_latitude</th>\n",
       "      <th>payment_type</th>\n",
       "      <th>fare_amount</th>\n",
       "      <th>extra</th>\n",
       "      <th>mta_tax</th>\n",
       "      <th>tip_amount</th>\n",
       "      <th>tolls_amount</th>\n",
       "      <th>improvement_surcharge</th>\n",
       "      <th>total_amount</th>\n",
       "    </tr>\n",
       "  </thead>\n",
       "  <tbody>\n",
       "    <tr>\n",
       "      <th>0</th>\n",
       "      <td>37300</td>\n",
       "      <td>1</td>\n",
       "      <td>2016-01-01 00:02:20</td>\n",
       "      <td>2016-01-01 00:11:58</td>\n",
       "      <td>2</td>\n",
       "      <td>1.20</td>\n",
       "      <td>-73.990578</td>\n",
       "      <td>40.732883</td>\n",
       "      <td>1</td>\n",
       "      <td>N</td>\n",
       "      <td>-73.982307</td>\n",
       "      <td>40.747406</td>\n",
       "      <td>2</td>\n",
       "      <td>8.0</td>\n",
       "      <td>0.5</td>\n",
       "      <td>0.5</td>\n",
       "      <td>0.00</td>\n",
       "      <td>0.0</td>\n",
       "      <td>0.3</td>\n",
       "      <td>9.30</td>\n",
       "    </tr>\n",
       "    <tr>\n",
       "      <th>1</th>\n",
       "      <td>37400</td>\n",
       "      <td>1</td>\n",
       "      <td>2016-01-01 00:03:04</td>\n",
       "      <td>2016-01-01 00:28:54</td>\n",
       "      <td>1</td>\n",
       "      <td>5.00</td>\n",
       "      <td>-73.994286</td>\n",
       "      <td>40.749153</td>\n",
       "      <td>1</td>\n",
       "      <td>N</td>\n",
       "      <td>-73.956688</td>\n",
       "      <td>40.747395</td>\n",
       "      <td>1</td>\n",
       "      <td>20.5</td>\n",
       "      <td>0.5</td>\n",
       "      <td>0.5</td>\n",
       "      <td>1.09</td>\n",
       "      <td>0.0</td>\n",
       "      <td>0.3</td>\n",
       "      <td>22.89</td>\n",
       "    </tr>\n",
       "    <tr>\n",
       "      <th>2</th>\n",
       "      <td>37500</td>\n",
       "      <td>2</td>\n",
       "      <td>2016-01-01 00:03:40</td>\n",
       "      <td>2016-01-01 00:12:47</td>\n",
       "      <td>6</td>\n",
       "      <td>2.54</td>\n",
       "      <td>-73.949821</td>\n",
       "      <td>40.785412</td>\n",
       "      <td>1</td>\n",
       "      <td>N</td>\n",
       "      <td>-73.974586</td>\n",
       "      <td>40.758282</td>\n",
       "      <td>1</td>\n",
       "      <td>9.5</td>\n",
       "      <td>0.5</td>\n",
       "      <td>0.5</td>\n",
       "      <td>2.16</td>\n",
       "      <td>0.0</td>\n",
       "      <td>0.3</td>\n",
       "      <td>12.96</td>\n",
       "    </tr>\n",
       "    <tr>\n",
       "      <th>3</th>\n",
       "      <td>37900</td>\n",
       "      <td>2</td>\n",
       "      <td>2016-01-01 00:05:38</td>\n",
       "      <td>2016-01-01 00:10:02</td>\n",
       "      <td>3</td>\n",
       "      <td>0.76</td>\n",
       "      <td>-74.002998</td>\n",
       "      <td>40.739220</td>\n",
       "      <td>1</td>\n",
       "      <td>N</td>\n",
       "      <td>-74.006714</td>\n",
       "      <td>40.744259</td>\n",
       "      <td>2</td>\n",
       "      <td>5.0</td>\n",
       "      <td>0.5</td>\n",
       "      <td>0.5</td>\n",
       "      <td>0.00</td>\n",
       "      <td>0.0</td>\n",
       "      <td>0.3</td>\n",
       "      <td>6.30</td>\n",
       "    </tr>\n",
       "    <tr>\n",
       "      <th>4</th>\n",
       "      <td>38500</td>\n",
       "      <td>1</td>\n",
       "      <td>2016-01-01 00:07:50</td>\n",
       "      <td>2016-01-01 00:23:42</td>\n",
       "      <td>1</td>\n",
       "      <td>2.40</td>\n",
       "      <td>-73.992546</td>\n",
       "      <td>40.766624</td>\n",
       "      <td>1</td>\n",
       "      <td>N</td>\n",
       "      <td>-73.958771</td>\n",
       "      <td>40.763844</td>\n",
       "      <td>1</td>\n",
       "      <td>12.0</td>\n",
       "      <td>0.5</td>\n",
       "      <td>0.5</td>\n",
       "      <td>2.00</td>\n",
       "      <td>0.0</td>\n",
       "      <td>0.3</td>\n",
       "      <td>15.30</td>\n",
       "    </tr>\n",
       "  </tbody>\n",
       "</table>\n",
       "</div>"
      ],
      "text/plain": [
       "   record_id  VendorID tpep_pickup_datetime tpep_dropoff_datetime  \\\n",
       "0      37300         1  2016-01-01 00:02:20   2016-01-01 00:11:58   \n",
       "1      37400         1  2016-01-01 00:03:04   2016-01-01 00:28:54   \n",
       "2      37500         2  2016-01-01 00:03:40   2016-01-01 00:12:47   \n",
       "3      37900         2  2016-01-01 00:05:38   2016-01-01 00:10:02   \n",
       "4      38500         1  2016-01-01 00:07:50   2016-01-01 00:23:42   \n",
       "\n",
       "   passenger_count  trip_distance  pickup_longitude  pickup_latitude  \\\n",
       "0                2           1.20        -73.990578        40.732883   \n",
       "1                1           5.00        -73.994286        40.749153   \n",
       "2                6           2.54        -73.949821        40.785412   \n",
       "3                3           0.76        -74.002998        40.739220   \n",
       "4                1           2.40        -73.992546        40.766624   \n",
       "\n",
       "   RatecodeID store_and_fwd_flag  dropoff_longitude  dropoff_latitude  \\\n",
       "0           1                  N         -73.982307         40.747406   \n",
       "1           1                  N         -73.956688         40.747395   \n",
       "2           1                  N         -73.974586         40.758282   \n",
       "3           1                  N         -74.006714         40.744259   \n",
       "4           1                  N         -73.958771         40.763844   \n",
       "\n",
       "   payment_type  fare_amount  extra  mta_tax  tip_amount  tolls_amount  \\\n",
       "0             2          8.0    0.5      0.5        0.00           0.0   \n",
       "1             1         20.5    0.5      0.5        1.09           0.0   \n",
       "2             1          9.5    0.5      0.5        2.16           0.0   \n",
       "3             2          5.0    0.5      0.5        0.00           0.0   \n",
       "4             1         12.0    0.5      0.5        2.00           0.0   \n",
       "\n",
       "   improvement_surcharge  total_amount  \n",
       "0                    0.3          9.30  \n",
       "1                    0.3         22.89  \n",
       "2                    0.3         12.96  \n",
       "3                    0.3          6.30  \n",
       "4                    0.3         15.30  "
      ]
     },
     "execution_count": 23,
     "metadata": {},
     "output_type": "execute_result"
    }
   ],
   "source": [
    "q2b_query = f\"\"\"\n",
    "            SELECT DISTINCT *\n",
    "            FROM ({q1d_query})\n",
    "            \"\"\"\n",
    "\n",
    "has_duplicates = len(pd.read_sql_query(q2b_query, sql_engine)) < len(jan_16_df)# True or False\n",
    "print(len(pd.read_sql_query(q2b_query, sql_engine)))\n",
    "\n",
    "# YOUR CODE HERE\n",
    "\n",
    "with timeit(): # should take < 3 seconds\n",
    "    q2b_df = pd.read_sql_query(q2b_query, sql_engine)\n",
    "q2b_df.head()"
   ]
  },
  {
   "cell_type": "code",
   "execution_count": 24,
   "metadata": {},
   "outputs": [
    {
     "data": {
      "text/plain": [
       "False"
      ]
     },
     "execution_count": 24,
     "metadata": {},
     "output_type": "execute_result"
    }
   ],
   "source": [
    "has_duplicates"
   ]
  },
  {
   "cell_type": "code",
   "execution_count": 25,
   "metadata": {
    "ExecuteTime": {
     "end_time": "2018-11-13T00:59:33.273185Z",
     "start_time": "2018-11-13T00:59:33.270318Z"
    },
    "deletable": false,
    "editable": false,
    "nbgrader": {
     "cell_type": "code",
     "checksum": "103558de29ffc39eba712edd57ec6da3",
     "grade": true,
     "grade_id": "q2b-test",
     "locked": true,
     "points": 2,
     "schema_version": 2,
     "solution": false
    }
   },
   "outputs": [],
   "source": [
    "# Hidden test"
   ]
  },
  {
   "cell_type": "markdown",
   "metadata": {
    "deletable": false,
    "editable": false,
    "nbgrader": {
     "cell_type": "markdown",
     "checksum": "a11fea32c57764a6dfcbecb6558b3611",
     "grade": false,
     "grade_id": "q2c",
     "locked": true,
     "schema_version": 2,
     "solution": false
    }
   },
   "source": [
    "### Question 2c\n",
    "Find the min and max trip duration in `Jan16`. You may manually fill in the `min_duration`, `max_duration` placeholders.\n",
    "\n",
    "*Hint:* check [`julianday`](https://www.techonthenet.com/sqlite/functions/julianday.php) in `SQLite`. Your answer should be decimal representations of a day (e.g. 6 hours = 0.25)."
   ]
  },
  {
   "cell_type": "code",
   "execution_count": 26,
   "metadata": {
    "ExecuteTime": {
     "end_time": "2018-11-13T00:59:42.976044Z",
     "start_time": "2018-11-13T00:59:33.275595Z"
    },
    "deletable": false,
    "nbgrader": {
     "cell_type": "code",
     "checksum": "bfd0c8fbfa06cd3ccc96c45868adf9cc",
     "grade": false,
     "grade_id": "q2c-answer",
     "locked": false,
     "schema_version": 2,
     "solution": true
    }
   },
   "outputs": [
    {
     "name": "stdout",
     "output_type": "stream",
     "text": [
      "2.24 s elapsed\n"
     ]
    },
    {
     "data": {
      "text/html": [
       "<div>\n",
       "<style scoped>\n",
       "    .dataframe tbody tr th:only-of-type {\n",
       "        vertical-align: middle;\n",
       "    }\n",
       "\n",
       "    .dataframe tbody tr th {\n",
       "        vertical-align: top;\n",
       "    }\n",
       "\n",
       "    .dataframe thead th {\n",
       "        text-align: right;\n",
       "    }\n",
       "</style>\n",
       "<table border=\"1\" class=\"dataframe\">\n",
       "  <thead>\n",
       "    <tr style=\"text-align: right;\">\n",
       "      <th></th>\n",
       "      <th>max_duration</th>\n",
       "      <th>min_duration</th>\n",
       "    </tr>\n",
       "  </thead>\n",
       "  <tbody>\n",
       "    <tr>\n",
       "      <th>0</th>\n",
       "      <td>0.99919</td>\n",
       "      <td>0.0</td>\n",
       "    </tr>\n",
       "  </tbody>\n",
       "</table>\n",
       "</div>"
      ],
      "text/plain": [
       "   max_duration  min_duration\n",
       "0       0.99919           0.0"
      ]
     },
     "execution_count": 26,
     "metadata": {},
     "output_type": "execute_result"
    }
   ],
   "source": [
    "q2c_query = f\"\"\"\n",
    "            SELECT MAX(julianday(tpep_dropoff_datetime)-julianday(tpep_pickup_datetime)) \n",
    "            AS max_duration,\n",
    "            MIN(julianday(tpep_dropoff_datetime)-julianday(tpep_pickup_datetime)) \n",
    "            AS min_duration\n",
    "            FROM ({q1d_query})\n",
    "            \"\"\"\n",
    "\n",
    "min_duration = 0.0\n",
    "max_duration = 0.99919\n",
    "# YOUR CODE HERE\n",
    "\n",
    "with timeit(): # should take < 3 seconds\n",
    "    q2c_df = pd.read_sql_query(q2c_query, sql_engine)\n",
    "q2c_df.head()"
   ]
  },
  {
   "cell_type": "code",
   "execution_count": 27,
   "metadata": {
    "ExecuteTime": {
     "end_time": "2018-11-13T00:59:43.224164Z",
     "start_time": "2018-11-13T00:59:42.978879Z"
    },
    "deletable": false,
    "editable": false,
    "nbgrader": {
     "cell_type": "code",
     "checksum": "8a873da9c2d74d7fe6d2217ccfcc85ab",
     "grade": true,
     "grade_id": "q2c-test",
     "locked": true,
     "points": 1,
     "schema_version": 2,
     "solution": false
    }
   },
   "outputs": [],
   "source": [
    "df_min_seconds = min(jan_16_df[\"tpep_dropoff_datetime\"] - jan_16_df[\"tpep_pickup_datetime\"]).total_seconds()\n",
    "df_max_seconds = max(jan_16_df[\"tpep_dropoff_datetime\"] - jan_16_df[\"tpep_pickup_datetime\"]).total_seconds()\n",
    "assert min_duration == df_min_seconds/86400\n",
    "assert np.isclose(max_duration,df_max_seconds/86400)"
   ]
  },
  {
   "cell_type": "markdown",
   "metadata": {
    "deletable": false,
    "editable": false,
    "nbgrader": {
     "cell_type": "markdown",
     "checksum": "4d79a8437a9bc00123657f17f3790343",
     "grade": false,
     "grade_id": "cell-bef6581022a85dbf",
     "locked": true,
     "schema_version": 2,
     "solution": false
    }
   },
   "source": [
    "\n",
    "The cell above should have shown that some trips are extremely long (almost a day)! What is up with this? There may be several reasons why we have a handful of taxi rides with abnormally high durations. \n",
    "\n",
    "Using our domain knowledge about taxi businesses in NYC, we might believe that taxi drivers accidentally left their meters running, which causes high duration values to be recorded. This is a plausible explanation. Because of this, we will only train and predict on taxi ride data that has a duration of at most 12 hours."
   ]
  },
  {
   "cell_type": "markdown",
   "metadata": {
    "deletable": false,
    "editable": false,
    "nbgrader": {
     "cell_type": "markdown",
     "checksum": "57cd0e08634e1a2c2bad250cc336bd55",
     "grade": false,
     "grade_id": "cell-108e691d490cfa1e",
     "locked": true,
     "schema_version": 2,
     "solution": false
    }
   },
   "source": [
    "## Question 3: Data Cleaning\n",
    "Now let's use domain knowledge and clean up our data. You will use SQL while we perform the equivalent operations in pandas on `cleaned_jan_16_df`."
   ]
  },
  {
   "cell_type": "code",
   "execution_count": 28,
   "metadata": {
    "ExecuteTime": {
     "end_time": "2018-11-13T00:59:43.230210Z",
     "start_time": "2018-11-13T00:59:43.225902Z"
    },
    "deletable": false,
    "editable": false,
    "nbgrader": {
     "cell_type": "code",
     "checksum": "b63686741aea4f297c1d6549365567ea",
     "grade": false,
     "grade_id": "cell-5dcc81cf856b1513",
     "locked": true,
     "schema_version": 2,
     "solution": false
    }
   },
   "outputs": [],
   "source": [
    "cleaned_jan_16_df = jan_16_df.copy()"
   ]
  },
  {
   "cell_type": "markdown",
   "metadata": {
    "deletable": false,
    "editable": false,
    "nbgrader": {
     "cell_type": "markdown",
     "checksum": "a2d670ae19a89bf9eb4630e52a340a90",
     "grade": false,
     "grade_id": "q3a",
     "locked": true,
     "schema_version": 2,
     "solution": false
    }
   },
   "source": [
    "### Question 3a\n",
    "Write a SQL Query to find all rides in `Jan16` that are less than 12 hours, or 0.5 days. We will use this query as a nested query `q3a_query` in question 3b.\n",
    "\n",
    "*Hint:* Ideas in `q1d_query` can be heavily reused"
   ]
  },
  {
   "cell_type": "code",
   "execution_count": 29,
   "metadata": {
    "ExecuteTime": {
     "end_time": "2018-11-13T00:59:48.078795Z",
     "start_time": "2018-11-13T00:59:43.233047Z"
    },
    "deletable": false,
    "nbgrader": {
     "cell_type": "code",
     "checksum": "866b7fda2c015cedcb4a071619f0c4f1",
     "grade": false,
     "grade_id": "q3a-answer",
     "locked": false,
     "schema_version": 2,
     "solution": true
    }
   },
   "outputs": [
    {
     "name": "stdout",
     "output_type": "stream",
     "text": [
      "2.45 s elapsed\n"
     ]
    },
    {
     "data": {
      "text/html": [
       "<div>\n",
       "<style scoped>\n",
       "    .dataframe tbody tr th:only-of-type {\n",
       "        vertical-align: middle;\n",
       "    }\n",
       "\n",
       "    .dataframe tbody tr th {\n",
       "        vertical-align: top;\n",
       "    }\n",
       "\n",
       "    .dataframe thead th {\n",
       "        text-align: right;\n",
       "    }\n",
       "</style>\n",
       "<table border=\"1\" class=\"dataframe\">\n",
       "  <thead>\n",
       "    <tr style=\"text-align: right;\">\n",
       "      <th></th>\n",
       "      <th>record_id</th>\n",
       "      <th>VendorID</th>\n",
       "      <th>tpep_pickup_datetime</th>\n",
       "      <th>tpep_dropoff_datetime</th>\n",
       "      <th>passenger_count</th>\n",
       "      <th>trip_distance</th>\n",
       "      <th>pickup_longitude</th>\n",
       "      <th>pickup_latitude</th>\n",
       "      <th>RatecodeID</th>\n",
       "      <th>store_and_fwd_flag</th>\n",
       "      <th>dropoff_longitude</th>\n",
       "      <th>dropoff_latitude</th>\n",
       "      <th>payment_type</th>\n",
       "      <th>fare_amount</th>\n",
       "      <th>extra</th>\n",
       "      <th>mta_tax</th>\n",
       "      <th>tip_amount</th>\n",
       "      <th>tolls_amount</th>\n",
       "      <th>improvement_surcharge</th>\n",
       "      <th>total_amount</th>\n",
       "    </tr>\n",
       "  </thead>\n",
       "  <tbody>\n",
       "    <tr>\n",
       "      <th>0</th>\n",
       "      <td>37300</td>\n",
       "      <td>1</td>\n",
       "      <td>2016-01-01 00:02:20</td>\n",
       "      <td>2016-01-01 00:11:58</td>\n",
       "      <td>2</td>\n",
       "      <td>1.20</td>\n",
       "      <td>-73.990578</td>\n",
       "      <td>40.732883</td>\n",
       "      <td>1</td>\n",
       "      <td>N</td>\n",
       "      <td>-73.982307</td>\n",
       "      <td>40.747406</td>\n",
       "      <td>2</td>\n",
       "      <td>8.0</td>\n",
       "      <td>0.5</td>\n",
       "      <td>0.5</td>\n",
       "      <td>0.00</td>\n",
       "      <td>0.0</td>\n",
       "      <td>0.3</td>\n",
       "      <td>9.30</td>\n",
       "    </tr>\n",
       "    <tr>\n",
       "      <th>1</th>\n",
       "      <td>37400</td>\n",
       "      <td>1</td>\n",
       "      <td>2016-01-01 00:03:04</td>\n",
       "      <td>2016-01-01 00:28:54</td>\n",
       "      <td>1</td>\n",
       "      <td>5.00</td>\n",
       "      <td>-73.994286</td>\n",
       "      <td>40.749153</td>\n",
       "      <td>1</td>\n",
       "      <td>N</td>\n",
       "      <td>-73.956688</td>\n",
       "      <td>40.747395</td>\n",
       "      <td>1</td>\n",
       "      <td>20.5</td>\n",
       "      <td>0.5</td>\n",
       "      <td>0.5</td>\n",
       "      <td>1.09</td>\n",
       "      <td>0.0</td>\n",
       "      <td>0.3</td>\n",
       "      <td>22.89</td>\n",
       "    </tr>\n",
       "    <tr>\n",
       "      <th>2</th>\n",
       "      <td>37500</td>\n",
       "      <td>2</td>\n",
       "      <td>2016-01-01 00:03:40</td>\n",
       "      <td>2016-01-01 00:12:47</td>\n",
       "      <td>6</td>\n",
       "      <td>2.54</td>\n",
       "      <td>-73.949821</td>\n",
       "      <td>40.785412</td>\n",
       "      <td>1</td>\n",
       "      <td>N</td>\n",
       "      <td>-73.974586</td>\n",
       "      <td>40.758282</td>\n",
       "      <td>1</td>\n",
       "      <td>9.5</td>\n",
       "      <td>0.5</td>\n",
       "      <td>0.5</td>\n",
       "      <td>2.16</td>\n",
       "      <td>0.0</td>\n",
       "      <td>0.3</td>\n",
       "      <td>12.96</td>\n",
       "    </tr>\n",
       "    <tr>\n",
       "      <th>3</th>\n",
       "      <td>37900</td>\n",
       "      <td>2</td>\n",
       "      <td>2016-01-01 00:05:38</td>\n",
       "      <td>2016-01-01 00:10:02</td>\n",
       "      <td>3</td>\n",
       "      <td>0.76</td>\n",
       "      <td>-74.002998</td>\n",
       "      <td>40.739220</td>\n",
       "      <td>1</td>\n",
       "      <td>N</td>\n",
       "      <td>-74.006714</td>\n",
       "      <td>40.744259</td>\n",
       "      <td>2</td>\n",
       "      <td>5.0</td>\n",
       "      <td>0.5</td>\n",
       "      <td>0.5</td>\n",
       "      <td>0.00</td>\n",
       "      <td>0.0</td>\n",
       "      <td>0.3</td>\n",
       "      <td>6.30</td>\n",
       "    </tr>\n",
       "    <tr>\n",
       "      <th>4</th>\n",
       "      <td>38500</td>\n",
       "      <td>1</td>\n",
       "      <td>2016-01-01 00:07:50</td>\n",
       "      <td>2016-01-01 00:23:42</td>\n",
       "      <td>1</td>\n",
       "      <td>2.40</td>\n",
       "      <td>-73.992546</td>\n",
       "      <td>40.766624</td>\n",
       "      <td>1</td>\n",
       "      <td>N</td>\n",
       "      <td>-73.958771</td>\n",
       "      <td>40.763844</td>\n",
       "      <td>1</td>\n",
       "      <td>12.0</td>\n",
       "      <td>0.5</td>\n",
       "      <td>0.5</td>\n",
       "      <td>2.00</td>\n",
       "      <td>0.0</td>\n",
       "      <td>0.3</td>\n",
       "      <td>15.30</td>\n",
       "    </tr>\n",
       "  </tbody>\n",
       "</table>\n",
       "</div>"
      ],
      "text/plain": [
       "   record_id  VendorID tpep_pickup_datetime tpep_dropoff_datetime  \\\n",
       "0      37300         1  2016-01-01 00:02:20   2016-01-01 00:11:58   \n",
       "1      37400         1  2016-01-01 00:03:04   2016-01-01 00:28:54   \n",
       "2      37500         2  2016-01-01 00:03:40   2016-01-01 00:12:47   \n",
       "3      37900         2  2016-01-01 00:05:38   2016-01-01 00:10:02   \n",
       "4      38500         1  2016-01-01 00:07:50   2016-01-01 00:23:42   \n",
       "\n",
       "   passenger_count  trip_distance  pickup_longitude  pickup_latitude  \\\n",
       "0                2           1.20        -73.990578        40.732883   \n",
       "1                1           5.00        -73.994286        40.749153   \n",
       "2                6           2.54        -73.949821        40.785412   \n",
       "3                3           0.76        -74.002998        40.739220   \n",
       "4                1           2.40        -73.992546        40.766624   \n",
       "\n",
       "   RatecodeID store_and_fwd_flag  dropoff_longitude  dropoff_latitude  \\\n",
       "0           1                  N         -73.982307         40.747406   \n",
       "1           1                  N         -73.956688         40.747395   \n",
       "2           1                  N         -73.974586         40.758282   \n",
       "3           1                  N         -74.006714         40.744259   \n",
       "4           1                  N         -73.958771         40.763844   \n",
       "\n",
       "   payment_type  fare_amount  extra  mta_tax  tip_amount  tolls_amount  \\\n",
       "0             2          8.0    0.5      0.5        0.00           0.0   \n",
       "1             1         20.5    0.5      0.5        1.09           0.0   \n",
       "2             1          9.5    0.5      0.5        2.16           0.0   \n",
       "3             2          5.0    0.5      0.5        0.00           0.0   \n",
       "4             1         12.0    0.5      0.5        2.00           0.0   \n",
       "\n",
       "   improvement_surcharge  total_amount  \n",
       "0                    0.3          9.30  \n",
       "1                    0.3         22.89  \n",
       "2                    0.3         12.96  \n",
       "3                    0.3          6.30  \n",
       "4                    0.3         15.30  "
      ]
     },
     "execution_count": 29,
     "metadata": {},
     "output_type": "execute_result"
    }
   ],
   "source": [
    "q3a_query = f\"\"\"\n",
    "            SELECT *\n",
    "            FROM ({q1d_query})\n",
    "            WHERE julianday(tpep_dropoff_datetime)-julianday(tpep_pickup_datetime) < 0.5\n",
    "            \"\"\"\n",
    "\n",
    "# YOUR CODE HERE\n",
    "\n",
    "with timeit(): # should take < 3 seconds\n",
    "    q3a_df = pd.read_sql_query(q3a_query, sql_engine)\n",
    "q3a_df.head()"
   ]
  },
  {
   "cell_type": "code",
   "execution_count": 30,
   "metadata": {
    "ExecuteTime": {
     "end_time": "2018-11-13T00:59:48.098917Z",
     "start_time": "2018-11-13T00:59:48.080966Z"
    },
    "deletable": false,
    "editable": false,
    "nbgrader": {
     "cell_type": "code",
     "checksum": "45d8f9c41807f0c630d4dfdad6a26f68",
     "grade": true,
     "grade_id": "q3a-test",
     "locked": true,
     "points": 1,
     "schema_version": 2,
     "solution": false
    }
   },
   "outputs": [],
   "source": [
    "cleaned_jan_16_df['duration'] = cleaned_jan_16_df[\"tpep_dropoff_datetime\"]-cleaned_jan_16_df[\"tpep_pickup_datetime\"]\n",
    "cleaned_jan_16_df['duration'] = cleaned_jan_16_df['duration'].dt.total_seconds()\n",
    "cleaned_jan_16_df = cleaned_jan_16_df[cleaned_jan_16_df['duration'] < 12 * 3600]\n",
    "assert len(q3a_df) == len(cleaned_jan_16_df)"
   ]
  },
  {
   "cell_type": "markdown",
   "metadata": {
    "deletable": false,
    "editable": false,
    "nbgrader": {
     "cell_type": "markdown",
     "checksum": "be1b950116f92203bce8bcd69a91d211",
     "grade": false,
     "grade_id": "q3b",
     "locked": true,
     "schema_version": 2,
     "solution": false
    }
   },
   "source": [
    "### Question 3b\n",
    "\n",
    "Our objective is to predict the duration of taxi rides in the New York City region. Therefore, we should verify that our dataset contains only rides that are either starting or ending in New York (or are contained within the NY region). \n",
    "\n",
    "Based on different coordinate estimates of New York City, the (inclusive) latitude and longitude ranges are (roughly) as follows:\n",
    "\n",
    "- Latitude is between 40.63 and 40.85\n",
    "- Longitude is between -74.03 and -73.75\n",
    "\n",
    "Write a SQL query to find all rides in `q3a_query` that are within the New York City region. We will use this query as a temporary table `q3b_query` in question 3c.\n",
    "\n",
    "\n",
    "- Note: This query can be tedious to write. In practice people use special data types to encode geographical information. For example, if we were using Postgres (made in Berkeley!) instead of SQLite, we could use the geo-spatial data types provided as part of [PostGIS](https://postgis.net/). \n",
    "\n",
    "*Hint:* Ideas in `q3a_query` can be heavily reused"
   ]
  },
  {
   "cell_type": "code",
   "execution_count": 31,
   "metadata": {
    "ExecuteTime": {
     "end_time": "2018-11-13T00:59:52.883652Z",
     "start_time": "2018-11-13T00:59:48.102270Z"
    },
    "deletable": false,
    "nbgrader": {
     "cell_type": "code",
     "checksum": "273d36a9697bf54a89396517df6dfce6",
     "grade": false,
     "grade_id": "q3b-answer",
     "locked": false,
     "schema_version": 2,
     "solution": true
    }
   },
   "outputs": [
    {
     "name": "stdout",
     "output_type": "stream",
     "text": [
      "2.46 s elapsed\n"
     ]
    },
    {
     "data": {
      "text/html": [
       "<div>\n",
       "<style scoped>\n",
       "    .dataframe tbody tr th:only-of-type {\n",
       "        vertical-align: middle;\n",
       "    }\n",
       "\n",
       "    .dataframe tbody tr th {\n",
       "        vertical-align: top;\n",
       "    }\n",
       "\n",
       "    .dataframe thead th {\n",
       "        text-align: right;\n",
       "    }\n",
       "</style>\n",
       "<table border=\"1\" class=\"dataframe\">\n",
       "  <thead>\n",
       "    <tr style=\"text-align: right;\">\n",
       "      <th></th>\n",
       "      <th>record_id</th>\n",
       "      <th>VendorID</th>\n",
       "      <th>tpep_pickup_datetime</th>\n",
       "      <th>tpep_dropoff_datetime</th>\n",
       "      <th>passenger_count</th>\n",
       "      <th>trip_distance</th>\n",
       "      <th>pickup_longitude</th>\n",
       "      <th>pickup_latitude</th>\n",
       "      <th>RatecodeID</th>\n",
       "      <th>store_and_fwd_flag</th>\n",
       "      <th>dropoff_longitude</th>\n",
       "      <th>dropoff_latitude</th>\n",
       "      <th>payment_type</th>\n",
       "      <th>fare_amount</th>\n",
       "      <th>extra</th>\n",
       "      <th>mta_tax</th>\n",
       "      <th>tip_amount</th>\n",
       "      <th>tolls_amount</th>\n",
       "      <th>improvement_surcharge</th>\n",
       "      <th>total_amount</th>\n",
       "    </tr>\n",
       "  </thead>\n",
       "  <tbody>\n",
       "    <tr>\n",
       "      <th>0</th>\n",
       "      <td>37300</td>\n",
       "      <td>1</td>\n",
       "      <td>2016-01-01 00:02:20</td>\n",
       "      <td>2016-01-01 00:11:58</td>\n",
       "      <td>2</td>\n",
       "      <td>1.20</td>\n",
       "      <td>-73.990578</td>\n",
       "      <td>40.732883</td>\n",
       "      <td>1</td>\n",
       "      <td>N</td>\n",
       "      <td>-73.982307</td>\n",
       "      <td>40.747406</td>\n",
       "      <td>2</td>\n",
       "      <td>8.0</td>\n",
       "      <td>0.5</td>\n",
       "      <td>0.5</td>\n",
       "      <td>0.00</td>\n",
       "      <td>0.0</td>\n",
       "      <td>0.3</td>\n",
       "      <td>9.30</td>\n",
       "    </tr>\n",
       "    <tr>\n",
       "      <th>1</th>\n",
       "      <td>37400</td>\n",
       "      <td>1</td>\n",
       "      <td>2016-01-01 00:03:04</td>\n",
       "      <td>2016-01-01 00:28:54</td>\n",
       "      <td>1</td>\n",
       "      <td>5.00</td>\n",
       "      <td>-73.994286</td>\n",
       "      <td>40.749153</td>\n",
       "      <td>1</td>\n",
       "      <td>N</td>\n",
       "      <td>-73.956688</td>\n",
       "      <td>40.747395</td>\n",
       "      <td>1</td>\n",
       "      <td>20.5</td>\n",
       "      <td>0.5</td>\n",
       "      <td>0.5</td>\n",
       "      <td>1.09</td>\n",
       "      <td>0.0</td>\n",
       "      <td>0.3</td>\n",
       "      <td>22.89</td>\n",
       "    </tr>\n",
       "    <tr>\n",
       "      <th>2</th>\n",
       "      <td>37500</td>\n",
       "      <td>2</td>\n",
       "      <td>2016-01-01 00:03:40</td>\n",
       "      <td>2016-01-01 00:12:47</td>\n",
       "      <td>6</td>\n",
       "      <td>2.54</td>\n",
       "      <td>-73.949821</td>\n",
       "      <td>40.785412</td>\n",
       "      <td>1</td>\n",
       "      <td>N</td>\n",
       "      <td>-73.974586</td>\n",
       "      <td>40.758282</td>\n",
       "      <td>1</td>\n",
       "      <td>9.5</td>\n",
       "      <td>0.5</td>\n",
       "      <td>0.5</td>\n",
       "      <td>2.16</td>\n",
       "      <td>0.0</td>\n",
       "      <td>0.3</td>\n",
       "      <td>12.96</td>\n",
       "    </tr>\n",
       "    <tr>\n",
       "      <th>3</th>\n",
       "      <td>37900</td>\n",
       "      <td>2</td>\n",
       "      <td>2016-01-01 00:05:38</td>\n",
       "      <td>2016-01-01 00:10:02</td>\n",
       "      <td>3</td>\n",
       "      <td>0.76</td>\n",
       "      <td>-74.002998</td>\n",
       "      <td>40.739220</td>\n",
       "      <td>1</td>\n",
       "      <td>N</td>\n",
       "      <td>-74.006714</td>\n",
       "      <td>40.744259</td>\n",
       "      <td>2</td>\n",
       "      <td>5.0</td>\n",
       "      <td>0.5</td>\n",
       "      <td>0.5</td>\n",
       "      <td>0.00</td>\n",
       "      <td>0.0</td>\n",
       "      <td>0.3</td>\n",
       "      <td>6.30</td>\n",
       "    </tr>\n",
       "    <tr>\n",
       "      <th>4</th>\n",
       "      <td>38500</td>\n",
       "      <td>1</td>\n",
       "      <td>2016-01-01 00:07:50</td>\n",
       "      <td>2016-01-01 00:23:42</td>\n",
       "      <td>1</td>\n",
       "      <td>2.40</td>\n",
       "      <td>-73.992546</td>\n",
       "      <td>40.766624</td>\n",
       "      <td>1</td>\n",
       "      <td>N</td>\n",
       "      <td>-73.958771</td>\n",
       "      <td>40.763844</td>\n",
       "      <td>1</td>\n",
       "      <td>12.0</td>\n",
       "      <td>0.5</td>\n",
       "      <td>0.5</td>\n",
       "      <td>2.00</td>\n",
       "      <td>0.0</td>\n",
       "      <td>0.3</td>\n",
       "      <td>15.30</td>\n",
       "    </tr>\n",
       "  </tbody>\n",
       "</table>\n",
       "</div>"
      ],
      "text/plain": [
       "   record_id  VendorID tpep_pickup_datetime tpep_dropoff_datetime  \\\n",
       "0      37300         1  2016-01-01 00:02:20   2016-01-01 00:11:58   \n",
       "1      37400         1  2016-01-01 00:03:04   2016-01-01 00:28:54   \n",
       "2      37500         2  2016-01-01 00:03:40   2016-01-01 00:12:47   \n",
       "3      37900         2  2016-01-01 00:05:38   2016-01-01 00:10:02   \n",
       "4      38500         1  2016-01-01 00:07:50   2016-01-01 00:23:42   \n",
       "\n",
       "   passenger_count  trip_distance  pickup_longitude  pickup_latitude  \\\n",
       "0                2           1.20        -73.990578        40.732883   \n",
       "1                1           5.00        -73.994286        40.749153   \n",
       "2                6           2.54        -73.949821        40.785412   \n",
       "3                3           0.76        -74.002998        40.739220   \n",
       "4                1           2.40        -73.992546        40.766624   \n",
       "\n",
       "   RatecodeID store_and_fwd_flag  dropoff_longitude  dropoff_latitude  \\\n",
       "0           1                  N         -73.982307         40.747406   \n",
       "1           1                  N         -73.956688         40.747395   \n",
       "2           1                  N         -73.974586         40.758282   \n",
       "3           1                  N         -74.006714         40.744259   \n",
       "4           1                  N         -73.958771         40.763844   \n",
       "\n",
       "   payment_type  fare_amount  extra  mta_tax  tip_amount  tolls_amount  \\\n",
       "0             2          8.0    0.5      0.5        0.00           0.0   \n",
       "1             1         20.5    0.5      0.5        1.09           0.0   \n",
       "2             1          9.5    0.5      0.5        2.16           0.0   \n",
       "3             2          5.0    0.5      0.5        0.00           0.0   \n",
       "4             1         12.0    0.5      0.5        2.00           0.0   \n",
       "\n",
       "   improvement_surcharge  total_amount  \n",
       "0                    0.3          9.30  \n",
       "1                    0.3         22.89  \n",
       "2                    0.3         12.96  \n",
       "3                    0.3          6.30  \n",
       "4                    0.3         15.30  "
      ]
     },
     "execution_count": 31,
     "metadata": {},
     "output_type": "execute_result"
    }
   ],
   "source": [
    "# Try using this function!\n",
    "def bounding_condition(lat_l, lat_u, lon_l, lon_u):\n",
    "    return f\"\"\"\n",
    "            pickup_longitude <= {lon_u} AND\n",
    "            pickup_longitude >= {lon_l} AND\n",
    "            dropoff_longitude <= {lon_u} AND\n",
    "            dropoff_longitude >= {lon_l} AND\n",
    "            pickup_latitude <= {lat_u} AND\n",
    "            pickup_latitude >= {lat_l} AND\n",
    "            dropoff_latitude <= {lat_u} AND\n",
    "            dropoff_latitude >= {lat_l} \n",
    "            \"\"\"\n",
    "lat_l = 40.63\n",
    "lat_u = 40.85\n",
    "lon_l = -74.03\n",
    "lon_u = -73.75\n",
    "\n",
    "q3b_query = f\"\"\"\n",
    "            SELECT *\n",
    "            FROM ({q3a_query})\n",
    "            WHERE {bounding_condition(lat_l, lat_u, lon_l, lon_u)}\n",
    "            \"\"\"\n",
    "\n",
    "# YOUR CODE HERE\n",
    "with timeit(): # should take < 3 seconds\n",
    "    q3b_df = pd.read_sql_query(q3b_query, sql_engine)\n",
    "q3b_df.head()"
   ]
  },
  {
   "cell_type": "markdown",
   "metadata": {
    "deletable": false,
    "editable": false,
    "nbgrader": {
     "cell_type": "markdown",
     "checksum": "0a6f6427ae48628f91da3f0c5bdc19df",
     "grade": false,
     "grade_id": "cell-2e3c39b64b69b44b",
     "locked": true,
     "schema_version": 2,
     "solution": false
    }
   },
   "source": [
    "By contrast, the approach two (pandas) equivalent is given below."
   ]
  },
  {
   "cell_type": "code",
   "execution_count": 32,
   "metadata": {
    "ExecuteTime": {
     "end_time": "2018-11-13T00:59:52.905620Z",
     "start_time": "2018-11-13T00:59:52.886598Z"
    },
    "deletable": false,
    "editable": false,
    "nbgrader": {
     "cell_type": "code",
     "checksum": "2fefd29a93263c21960806676155fdd2",
     "grade": true,
     "grade_id": "q3b-test",
     "locked": true,
     "points": 2,
     "schema_version": 2,
     "solution": false
    }
   },
   "outputs": [],
   "source": [
    "cleaned_jan_16_df = cleaned_jan_16_df[cleaned_jan_16_df['pickup_longitude'] <= -73.75]\n",
    "cleaned_jan_16_df = cleaned_jan_16_df[cleaned_jan_16_df['pickup_longitude'] >= -74.03]\n",
    "cleaned_jan_16_df = cleaned_jan_16_df[cleaned_jan_16_df['pickup_latitude'] <= 40.85]\n",
    "cleaned_jan_16_df = cleaned_jan_16_df[cleaned_jan_16_df['pickup_latitude'] >= 40.63]\n",
    "cleaned_jan_16_df = cleaned_jan_16_df[cleaned_jan_16_df['dropoff_longitude'] <= -73.75]\n",
    "cleaned_jan_16_df = cleaned_jan_16_df[cleaned_jan_16_df['dropoff_longitude'] >= -74.03]\n",
    "cleaned_jan_16_df = cleaned_jan_16_df[cleaned_jan_16_df['dropoff_latitude'] <= 40.85]\n",
    "cleaned_jan_16_df = cleaned_jan_16_df[cleaned_jan_16_df['dropoff_latitude'] >= 40.63]\n",
    "assert len(q3b_df) == len(cleaned_jan_16_df)"
   ]
  },
  {
   "cell_type": "markdown",
   "metadata": {
    "deletable": false,
    "editable": false,
    "nbgrader": {
     "cell_type": "markdown",
     "checksum": "659b65ff7b17926579d79663e2fb31e3",
     "grade": false,
     "grade_id": "q3c",
     "locked": true,
     "schema_version": 2,
     "solution": false
    }
   },
   "source": [
    "### Question 3c\n",
    "\n",
    "The `passenger_count` variable has a minimum value of 0 passengers and a maximum value of 9 passengers. Having 0 passengers does not make sense in the context of this business case; it is likely an error and should therefore be removed from our dataset.\n",
    "\n",
    "Write a SQL query to find all rides in `q3b_query` with `passenger_count` greater than 0.\n",
    "\n",
    "*Hint:* Ideas in `q3b_query` can be heavily reused"
   ]
  },
  {
   "cell_type": "code",
   "execution_count": 33,
   "metadata": {
    "ExecuteTime": {
     "end_time": "2018-11-13T00:59:58.343052Z",
     "start_time": "2018-11-13T00:59:52.908580Z"
    },
    "deletable": false,
    "nbgrader": {
     "cell_type": "code",
     "checksum": "b9c50880c48df1b9c96223733e73017d",
     "grade": false,
     "grade_id": "q3c-answer",
     "locked": false,
     "schema_version": 2,
     "solution": true
    }
   },
   "outputs": [
    {
     "name": "stdout",
     "output_type": "stream",
     "text": [
      "2.53 s elapsed\n"
     ]
    },
    {
     "data": {
      "text/html": [
       "<div>\n",
       "<style scoped>\n",
       "    .dataframe tbody tr th:only-of-type {\n",
       "        vertical-align: middle;\n",
       "    }\n",
       "\n",
       "    .dataframe tbody tr th {\n",
       "        vertical-align: top;\n",
       "    }\n",
       "\n",
       "    .dataframe thead th {\n",
       "        text-align: right;\n",
       "    }\n",
       "</style>\n",
       "<table border=\"1\" class=\"dataframe\">\n",
       "  <thead>\n",
       "    <tr style=\"text-align: right;\">\n",
       "      <th></th>\n",
       "      <th>record_id</th>\n",
       "      <th>VendorID</th>\n",
       "      <th>tpep_pickup_datetime</th>\n",
       "      <th>tpep_dropoff_datetime</th>\n",
       "      <th>passenger_count</th>\n",
       "      <th>trip_distance</th>\n",
       "      <th>pickup_longitude</th>\n",
       "      <th>pickup_latitude</th>\n",
       "      <th>RatecodeID</th>\n",
       "      <th>store_and_fwd_flag</th>\n",
       "      <th>dropoff_longitude</th>\n",
       "      <th>dropoff_latitude</th>\n",
       "      <th>payment_type</th>\n",
       "      <th>fare_amount</th>\n",
       "      <th>extra</th>\n",
       "      <th>mta_tax</th>\n",
       "      <th>tip_amount</th>\n",
       "      <th>tolls_amount</th>\n",
       "      <th>improvement_surcharge</th>\n",
       "      <th>total_amount</th>\n",
       "    </tr>\n",
       "  </thead>\n",
       "  <tbody>\n",
       "    <tr>\n",
       "      <th>0</th>\n",
       "      <td>37300</td>\n",
       "      <td>1</td>\n",
       "      <td>2016-01-01 00:02:20</td>\n",
       "      <td>2016-01-01 00:11:58</td>\n",
       "      <td>2</td>\n",
       "      <td>1.20</td>\n",
       "      <td>-73.990578</td>\n",
       "      <td>40.732883</td>\n",
       "      <td>1</td>\n",
       "      <td>N</td>\n",
       "      <td>-73.982307</td>\n",
       "      <td>40.747406</td>\n",
       "      <td>2</td>\n",
       "      <td>8.0</td>\n",
       "      <td>0.5</td>\n",
       "      <td>0.5</td>\n",
       "      <td>0.00</td>\n",
       "      <td>0.0</td>\n",
       "      <td>0.3</td>\n",
       "      <td>9.30</td>\n",
       "    </tr>\n",
       "    <tr>\n",
       "      <th>1</th>\n",
       "      <td>37400</td>\n",
       "      <td>1</td>\n",
       "      <td>2016-01-01 00:03:04</td>\n",
       "      <td>2016-01-01 00:28:54</td>\n",
       "      <td>1</td>\n",
       "      <td>5.00</td>\n",
       "      <td>-73.994286</td>\n",
       "      <td>40.749153</td>\n",
       "      <td>1</td>\n",
       "      <td>N</td>\n",
       "      <td>-73.956688</td>\n",
       "      <td>40.747395</td>\n",
       "      <td>1</td>\n",
       "      <td>20.5</td>\n",
       "      <td>0.5</td>\n",
       "      <td>0.5</td>\n",
       "      <td>1.09</td>\n",
       "      <td>0.0</td>\n",
       "      <td>0.3</td>\n",
       "      <td>22.89</td>\n",
       "    </tr>\n",
       "    <tr>\n",
       "      <th>2</th>\n",
       "      <td>37500</td>\n",
       "      <td>2</td>\n",
       "      <td>2016-01-01 00:03:40</td>\n",
       "      <td>2016-01-01 00:12:47</td>\n",
       "      <td>6</td>\n",
       "      <td>2.54</td>\n",
       "      <td>-73.949821</td>\n",
       "      <td>40.785412</td>\n",
       "      <td>1</td>\n",
       "      <td>N</td>\n",
       "      <td>-73.974586</td>\n",
       "      <td>40.758282</td>\n",
       "      <td>1</td>\n",
       "      <td>9.5</td>\n",
       "      <td>0.5</td>\n",
       "      <td>0.5</td>\n",
       "      <td>2.16</td>\n",
       "      <td>0.0</td>\n",
       "      <td>0.3</td>\n",
       "      <td>12.96</td>\n",
       "    </tr>\n",
       "    <tr>\n",
       "      <th>3</th>\n",
       "      <td>37900</td>\n",
       "      <td>2</td>\n",
       "      <td>2016-01-01 00:05:38</td>\n",
       "      <td>2016-01-01 00:10:02</td>\n",
       "      <td>3</td>\n",
       "      <td>0.76</td>\n",
       "      <td>-74.002998</td>\n",
       "      <td>40.739220</td>\n",
       "      <td>1</td>\n",
       "      <td>N</td>\n",
       "      <td>-74.006714</td>\n",
       "      <td>40.744259</td>\n",
       "      <td>2</td>\n",
       "      <td>5.0</td>\n",
       "      <td>0.5</td>\n",
       "      <td>0.5</td>\n",
       "      <td>0.00</td>\n",
       "      <td>0.0</td>\n",
       "      <td>0.3</td>\n",
       "      <td>6.30</td>\n",
       "    </tr>\n",
       "    <tr>\n",
       "      <th>4</th>\n",
       "      <td>38500</td>\n",
       "      <td>1</td>\n",
       "      <td>2016-01-01 00:07:50</td>\n",
       "      <td>2016-01-01 00:23:42</td>\n",
       "      <td>1</td>\n",
       "      <td>2.40</td>\n",
       "      <td>-73.992546</td>\n",
       "      <td>40.766624</td>\n",
       "      <td>1</td>\n",
       "      <td>N</td>\n",
       "      <td>-73.958771</td>\n",
       "      <td>40.763844</td>\n",
       "      <td>1</td>\n",
       "      <td>12.0</td>\n",
       "      <td>0.5</td>\n",
       "      <td>0.5</td>\n",
       "      <td>2.00</td>\n",
       "      <td>0.0</td>\n",
       "      <td>0.3</td>\n",
       "      <td>15.30</td>\n",
       "    </tr>\n",
       "  </tbody>\n",
       "</table>\n",
       "</div>"
      ],
      "text/plain": [
       "   record_id  VendorID tpep_pickup_datetime tpep_dropoff_datetime  \\\n",
       "0      37300         1  2016-01-01 00:02:20   2016-01-01 00:11:58   \n",
       "1      37400         1  2016-01-01 00:03:04   2016-01-01 00:28:54   \n",
       "2      37500         2  2016-01-01 00:03:40   2016-01-01 00:12:47   \n",
       "3      37900         2  2016-01-01 00:05:38   2016-01-01 00:10:02   \n",
       "4      38500         1  2016-01-01 00:07:50   2016-01-01 00:23:42   \n",
       "\n",
       "   passenger_count  trip_distance  pickup_longitude  pickup_latitude  \\\n",
       "0                2           1.20        -73.990578        40.732883   \n",
       "1                1           5.00        -73.994286        40.749153   \n",
       "2                6           2.54        -73.949821        40.785412   \n",
       "3                3           0.76        -74.002998        40.739220   \n",
       "4                1           2.40        -73.992546        40.766624   \n",
       "\n",
       "   RatecodeID store_and_fwd_flag  dropoff_longitude  dropoff_latitude  \\\n",
       "0           1                  N         -73.982307         40.747406   \n",
       "1           1                  N         -73.956688         40.747395   \n",
       "2           1                  N         -73.974586         40.758282   \n",
       "3           1                  N         -74.006714         40.744259   \n",
       "4           1                  N         -73.958771         40.763844   \n",
       "\n",
       "   payment_type  fare_amount  extra  mta_tax  tip_amount  tolls_amount  \\\n",
       "0             2          8.0    0.5      0.5        0.00           0.0   \n",
       "1             1         20.5    0.5      0.5        1.09           0.0   \n",
       "2             1          9.5    0.5      0.5        2.16           0.0   \n",
       "3             2          5.0    0.5      0.5        0.00           0.0   \n",
       "4             1         12.0    0.5      0.5        2.00           0.0   \n",
       "\n",
       "   improvement_surcharge  total_amount  \n",
       "0                    0.3          9.30  \n",
       "1                    0.3         22.89  \n",
       "2                    0.3         12.96  \n",
       "3                    0.3          6.30  \n",
       "4                    0.3         15.30  "
      ]
     },
     "execution_count": 33,
     "metadata": {},
     "output_type": "execute_result"
    }
   ],
   "source": [
    "q3c_query = f\"\"\"\n",
    "            SELECT *\n",
    "            FROM ({q3b_query})\n",
    "            WHERE passenger_count>0\n",
    "            \"\"\"\n",
    "\n",
    "# YOUR CODE HERE\n",
    "\n",
    "with timeit():\n",
    "    q3c_df = pd.read_sql_query(q3c_query, sql_engine)\n",
    "q3c_df.head()"
   ]
  },
  {
   "cell_type": "code",
   "execution_count": 34,
   "metadata": {
    "ExecuteTime": {
     "end_time": "2018-11-13T00:59:58.351468Z",
     "start_time": "2018-11-13T00:59:58.345603Z"
    },
    "deletable": false,
    "editable": false,
    "nbgrader": {
     "cell_type": "code",
     "checksum": "1bc641eb805d8368edf92758504d6e54",
     "grade": true,
     "grade_id": "q3c-test",
     "locked": true,
     "points": 1,
     "schema_version": 2,
     "solution": false
    }
   },
   "outputs": [],
   "source": [
    "cleaned_jan_16_df = cleaned_jan_16_df[cleaned_jan_16_df['passenger_count'] > 0]\n",
    "assert len(q3c_df) == len(cleaned_jan_16_df)"
   ]
  },
  {
   "cell_type": "markdown",
   "metadata": {
    "deletable": false,
    "editable": false,
    "nbgrader": {
     "cell_type": "markdown",
     "checksum": "6b7f07febdf95cde9514483b8e20c35e",
     "grade": false,
     "grade_id": "q3d",
     "locked": true,
     "schema_version": 2,
     "solution": false
    }
   },
   "source": [
    "### Question 3d\n",
    "\n",
    "If you passed all the previous tests, then we are done cleaning! We would like to check how many records we have removed to ensure that it is a relatively small number (otherwise we might introduce bias within our dataset). In the cell below calculate the number and proportion of records we removed from the original `jan_16_df` during the data cleaning process. \n",
    "\n",
    "To avoid possible error propagation, you should use our `cleaned_jan_16_df` in your solution as the final cleaned dataset instead of your `q3c_df`."
   ]
  },
  {
   "cell_type": "code",
   "execution_count": 35,
   "metadata": {
    "ExecuteTime": {
     "end_time": "2018-11-13T00:59:58.383689Z",
     "start_time": "2018-11-13T00:59:58.353418Z"
    },
    "deletable": false,
    "nbgrader": {
     "cell_type": "code",
     "checksum": "b439f2b2a29ea9360aa4646b5371e143",
     "grade": false,
     "grade_id": "q3d-answer",
     "locked": false,
     "schema_version": 2,
     "solution": true
    }
   },
   "outputs": [
    {
     "name": "stdout",
     "output_type": "stream",
     "text": [
      "Records removed:731\n",
      "Proportion records removed:0.030877756188223367\n"
     ]
    }
   ],
   "source": [
    "num_records_removed = len(jan_16_df)-len(q3c_df)\n",
    "proportion_records_removed = (len(jan_16_df)-len(q3c_df))/len(jan_16_df)\n",
    "\n",
    "# YOUR CODE HERE\n",
    "\n",
    "print(f'Records removed:{num_records_removed}')\n",
    "print(f'Proportion records removed:{proportion_records_removed}')\n"
   ]
  },
  {
   "cell_type": "code",
   "execution_count": 36,
   "metadata": {
    "ExecuteTime": {
     "end_time": "2018-11-13T00:59:58.418354Z",
     "start_time": "2018-11-13T00:59:58.387291Z"
    },
    "deletable": false,
    "editable": false,
    "nbgrader": {
     "cell_type": "code",
     "checksum": "5a6909fd66e6cac71c5bea5c827f52f0",
     "grade": true,
     "grade_id": "q3d-test",
     "locked": true,
     "points": 1,
     "schema_version": 2,
     "solution": false
    }
   },
   "outputs": [],
   "source": [
    "assert proportion_records_removed < 0.04\n",
    "assert proportion_records_removed > 0.03"
   ]
  },
  {
   "cell_type": "markdown",
   "metadata": {
    "deletable": false,
    "editable": false,
    "nbgrader": {
     "cell_type": "markdown",
     "checksum": "4342f4d9fe204397d3d7b57c997c9d50",
     "grade": false,
     "grade_id": "cell-d33807200b80aeef",
     "locked": true,
     "schema_version": 2,
     "solution": false
    }
   },
   "source": [
    "At this point, let's take a look at the final query that cleaned up the data. Nesting SQL queries or creating views for future re-use are common pattern in analytical queries. Pay attention to each WHERE clause."
   ]
  },
  {
   "cell_type": "code",
   "execution_count": 37,
   "metadata": {
    "ExecuteTime": {
     "end_time": "2018-11-13T00:59:58.450355Z",
     "start_time": "2018-11-13T00:59:58.423400Z"
    },
    "deletable": false,
    "editable": false,
    "nbgrader": {
     "cell_type": "code",
     "checksum": "59401f3e7c47f398c65491329d80d760",
     "grade": false,
     "grade_id": "cell-58dc48871ccfe1d1",
     "locked": true,
     "schema_version": 2,
     "solution": false
    }
   },
   "outputs": [
    {
     "name": "stdout",
     "output_type": "stream",
     "text": [
      "\n",
      "            SELECT *\n",
      "            FROM (\n",
      "            SELECT *\n",
      "            FROM (\n",
      "            SELECT *\n",
      "            FROM (\n",
      "            SELECT * \n",
      "            FROM taxi\n",
      "            WHERE tpep_pickup_datetime\n",
      "                BETWEEN '2016-01-01' AND '2016-02-01'\n",
      "                AND record_id % 100 == 0\n",
      "            ORDER BY tpep_pickup_datetime\n",
      "            )\n",
      "            WHERE julianday(tpep_dropoff_datetime)-julianday(tpep_pickup_datetime) < 0.5\n",
      "            )\n",
      "            WHERE \n",
      "            pickup_longitude <= -73.75 AND\n",
      "            pickup_longitude >= -74.03 AND\n",
      "            dropoff_longitude <= -73.75 AND\n",
      "            dropoff_longitude >= -74.03 AND\n",
      "            pickup_latitude <= 40.85 AND\n",
      "            pickup_latitude >= 40.63 AND\n",
      "            dropoff_latitude <= 40.85 AND\n",
      "            dropoff_latitude >= 40.63 \n",
      "            \n",
      "            )\n",
      "            WHERE passenger_count>0\n",
      "            \n"
     ]
    }
   ],
   "source": [
    "print(q3c_query)"
   ]
  },
  {
   "cell_type": "markdown",
   "metadata": {
    "deletable": false,
    "editable": false,
    "nbgrader": {
     "cell_type": "markdown",
     "checksum": "d2e2071073867c793b809cd4b18c5112",
     "grade": false,
     "grade_id": "cell-6e3d69961fd26a76",
     "locked": true,
     "schema_version": 2,
     "solution": false
    }
   },
   "source": [
    "## Question 4: Training and Validation Split\n",
    "Now that we have fetched and cleaned our data, let's create training and validation sets. We will use a 80/20 ratio for training/validation and set `random_state=42` for the purpose of grading. "
   ]
  },
  {
   "cell_type": "code",
   "execution_count": 38,
   "metadata": {
    "ExecuteTime": {
     "end_time": "2018-11-13T01:00:01.136232Z",
     "start_time": "2018-11-13T00:59:58.452925Z"
    },
    "deletable": false,
    "editable": false,
    "nbgrader": {
     "cell_type": "code",
     "checksum": "8d2ddbe31d71e1c1630ddda4e5cb66a6",
     "grade": false,
     "grade_id": "cell-da6cb006437c30d1",
     "locked": true,
     "schema_version": 2,
     "solution": false
    }
   },
   "outputs": [],
   "source": [
    "from sklearn.model_selection import train_test_split\n",
    "train_df, val_df = train_test_split(cleaned_jan_16_df, test_size=0.2, random_state=42)"
   ]
  },
  {
   "cell_type": "code",
   "execution_count": 39,
   "metadata": {
    "ExecuteTime": {
     "end_time": "2018-11-13T01:00:01.147070Z",
     "start_time": "2018-11-13T01:00:01.140055Z"
    },
    "deletable": false,
    "editable": false,
    "nbgrader": {
     "cell_type": "code",
     "checksum": "67d6847986360b44f9e1cc4a74af2288",
     "grade": false,
     "grade_id": "cell-79209a49cbca44b7",
     "locked": true,
     "schema_version": 2,
     "solution": false
    }
   },
   "outputs": [],
   "source": [
    "# Check that 80% records in training and 20% in validation set.\n",
    "assert len(train_df) < 18500\n",
    "assert len(train_df) > 17000\n",
    "assert len(val_df) > 4000\n",
    "assert len(val_df) < 5000"
   ]
  },
  {
   "cell_type": "markdown",
   "metadata": {
    "deletable": false,
    "editable": false,
    "nbgrader": {
     "cell_type": "markdown",
     "checksum": "6f656258232ef04f31c45a1dac7ca1f5",
     "grade": false,
     "grade_id": "cell-49aae7e52549bf99",
     "locked": true,
     "schema_version": 2,
     "solution": false
    }
   },
   "source": [
    "## Part 1 Exports"
   ]
  },
  {
   "cell_type": "markdown",
   "metadata": {
    "deletable": false,
    "editable": false,
    "nbgrader": {
     "cell_type": "markdown",
     "checksum": "8dfcb121a890e0229c491f960cd71065",
     "grade": false,
     "grade_id": "cell-d80eaabbe34cc050",
     "locked": true,
     "schema_version": 2,
     "solution": false
    }
   },
   "source": [
    "Throughout our analysis, we have formatted and cleaned our data. Since we are ready to begin the feature engineering process, a good practice is to start a new notebook (since this one is getting quite long!). Now, we will save our formatted data, which we will load in part 2. **Be sure to run the cell below!**\n",
    "\n",
    "Please read the documentation below on saving and loading hdf files.\n",
    "\n",
    "https://pandas.pydata.org/pandas-docs/stable/generated/pandas.DataFrame.to_hdf.html\n",
    "\n",
    "https://pandas.pydata.org/pandas-docs/version/0.22/generated/pandas.read_hdf.html"
   ]
  },
  {
   "cell_type": "code",
   "execution_count": 40,
   "metadata": {
    "ExecuteTime": {
     "end_time": "2018-11-13T01:00:02.286321Z",
     "start_time": "2018-11-13T01:00:01.151837Z"
    },
    "deletable": false,
    "editable": false,
    "nbgrader": {
     "cell_type": "code",
     "checksum": "9b14b0de947a878d669e22b20e216c97",
     "grade": false,
     "grade_id": "cell-024027b771723779",
     "locked": true,
     "schema_version": 2,
     "solution": false
    }
   },
   "outputs": [],
   "source": [
    "Path(\"data/part1\").mkdir(parents=True, exist_ok=True)\n",
    "data_file = Path(\"data/part1\", \"cleaned_data.hdf\") # Path of hdf file\n",
    "train_df.to_hdf(data_file, \"train\") # Train data of hdf file\n",
    "val_df.to_hdf(data_file, \"val\") # Val data of hdf file"
   ]
  },
  {
   "cell_type": "markdown",
   "metadata": {
    "deletable": false,
    "editable": false,
    "nbgrader": {
     "cell_type": "markdown",
     "checksum": "d4585f645e491f4686bc49e459dbee00",
     "grade": false,
     "grade_id": "cell-07eff5ec98e38de3",
     "locked": true,
     "schema_version": 2,
     "solution": false
    }
   },
   "source": [
    "## Part 1 Conclusions"
   ]
  },
  {
   "cell_type": "markdown",
   "metadata": {
    "deletable": false,
    "editable": false,
    "nbgrader": {
     "cell_type": "markdown",
     "checksum": "b7495502082f47d72a3220956b488902",
     "grade": false,
     "grade_id": "cell-0fdea0303bcde612",
     "locked": true,
     "schema_version": 2,
     "solution": false
    }
   },
   "source": [
    "We have downloaded/loaded our data, cleaned the data, and split our data into a training and test set to use in future analysis and modeling."
   ]
  },
  {
   "cell_type": "markdown",
   "metadata": {
    "deletable": false,
    "editable": false,
    "nbgrader": {
     "cell_type": "markdown",
     "checksum": "516c7d8babe9cdf0082e463291a0bc6d",
     "grade": false,
     "grade_id": "cell-a6077a6f770d7237",
     "locked": true,
     "schema_version": 2,
     "solution": false
    }
   },
   "source": [
    "**Please proceed to part 2, where we will be exploring the taxi ride training set.**"
   ]
  }
 ],
 "metadata": {
  "kernelspec": {
   "display_name": "Python 3",
   "language": "python",
   "name": "python3"
  },
  "language_info": {
   "codemirror_mode": {
    "name": "ipython",
    "version": 3
   },
   "file_extension": ".py",
   "mimetype": "text/x-python",
   "name": "python",
   "nbconvert_exporter": "python",
   "pygments_lexer": "ipython3",
   "version": "3.6.4"
  },
  "toc": {
   "colors": {
    "hover_highlight": "#DAA520",
    "running_highlight": "#FF0000",
    "selected_highlight": "#FFD700"
   },
   "moveMenuLeft": true,
   "nav_menu": {
    "height": "120px",
    "width": "252px"
   },
   "navigate_menu": true,
   "number_sections": true,
   "sideBar": true,
   "threshold": 4,
   "toc_cell": true,
   "toc_section_display": "block",
   "toc_window_display": true
  }
 },
 "nbformat": 4,
 "nbformat_minor": 2
}
